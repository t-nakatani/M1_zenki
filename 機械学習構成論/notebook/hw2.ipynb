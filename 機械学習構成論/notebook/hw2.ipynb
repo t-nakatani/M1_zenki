{
 "cells": [
  {
   "cell_type": "markdown",
   "metadata": {},
   "source": [
    "## Report 2\n",
    "Answer the following questions A and B:\n",
    "\n",
    "A: What is the training MSE? Express the training MSE explicitly. For what purpose is the training MSE used?  \n",
    "B: What is the test MSE? Express the test MSE explicitly. For what purpose is the test MSE used?"
   ]
  },
  {
   "cell_type": "markdown",
   "metadata": {},
   "source": [
    "## Answer\n",
    "A:  \n",
    "training MSEとはn個の観測値($\\textbf{X}, Y$)からなるtraining data$(\\textbf{x}_k, y_k), k=1,2,..., n$に対して残差の二乗平均$\\frac{1}{n}\\sum_{k=1}^n(y_k-\\hat{f}(\\textbf{x}_k))^2$を計算したもので，回帰係数$\\boldsymbol{\\beta}，(Y=\\textbf{X}\\boldsymbol{\\beta})$をtraining dataに適合させる目的でで用いられる．具体的には，training MSEを最小化するような回帰係数$\\boldsymbol{\\beta}$を求める．  \n",
    "ここでtraining dataとはどんな観測$(\\textbf{x}, y)$に対しても$y=f(x)$が成り立つような回帰式$f$を推定するために用いられるデータであるため，ここから計算されるtraining MSEを真のデータへの適合の悪さをの指標として用いるのは誤りである．\n",
    "\n",
    "B:  \n",
    "test MSEとはtest dataであるいくつかの観測値$(\\textbf{x}_0, y_0)$に対してtraining dataで求めた$\\hat{f}$を用いて$(y_0-\\hat{f}(\\textbf{x}_0))^2$の平均を計算したもので，回帰係数$\\boldsymbol{\\beta}$の悪さ，すなわち回帰式の真のデータへの適合の悪さを見積もるために用いられる． \n",
    "ここでtest dataは得られた回帰式の良し悪しを評価するためのデータであるため，回帰係数$\\boldsymbol{\\beta}$の推定には用いてはいけない．"
   ]
  },
  {
   "cell_type": "markdown",
   "metadata": {},
   "source": [
    "<br><br><br><br><br><br><br><br><br><br><br><br><br><br><br><br><br><br><br><br><br><br><br>"
   ]
  },
  {
   "cell_type": "markdown",
   "metadata": {},
   "source": [
    "***"
   ]
  },
  {
   "cell_type": "markdown",
   "metadata": {},
   "source": [
    "## Assignment 2\n",
    "•\n",
    "Exercise 2.2\n",
    "For independent random variables $X$ and $Y$, calculate 𝑉(𝑎𝑋+𝑏𝑌+𝑐), where  \n",
    "$a,b,c$ are constants. You may use 𝑉(𝑋)and 𝑉(𝑌) in your answer.  \n",
    "•\n",
    "Exercise 2.3  \n",
    "For some fixed vector $x_0$, prove the following equation:  \n",
    "$𝐸[(f(x_0) - \\hat{𝑓}(x_0))^2]=\\{Bias(\\hat{f}(x_0))\\}+V(\\hat{f}(x_0))$.  \n",
    "•\n",
    "Exercise 2.4  \n",
    "Find the gradient of $𝑛$ times training MSE with respect to $\\hat{𝜷}$.  "
   ]
  },
  {
   "cell_type": "markdown",
   "metadata": {},
   "source": [
    "## Answer\n",
    "•\n",
    "Exercise 2.2  \n",
    "$V(aX+bY+c) = a^2V(X)+b^2V(Y)$\n",
    "\n",
    "•\n",
    "Exercise 2.3  \n",
    "$E[(f(\\textbf{x}_0) - \\hat f(\\textbf{x}_0))]$  \n",
    "$=E[[\\{\\hat f(\\textbf{x}_0) - E(\\hat f(\\textbf{x})_0))\\} + \\{E(\\hat f(\\textbf{x})_0) - f(\\textbf{x}_0)\\}]^2]$  \n",
    "$=E[[\\{\\hat f(\\textbf{x}_0) - E(\\hat f(\\textbf{x})_0))\\} + \\{E(\\hat f(\\textbf{x})_0)) - f(\\textbf{x})_0)\\}]^2]$  \n",
    "$=E[\\{\\hat f(\\textbf{x}_0) - E(\\hat f(\\textbf{x})_0))\\}^2] +E[\\{E(\\hat f(\\textbf{x}_0))) - f(\\textbf{x}_0))\\}^2]$\n",
    "$ + E[\\{\\hat f(\\textbf{x}_0) - E(\\hat f(\\textbf{x}_0))\\}\\{E(\\hat f(\\textbf{x}_0)) - f(\\textbf{x}_0))\\}]$  \n",
    "$=V(\\hat f(\\textbf{x}_0)) +\\{Bias(\\hat f(\\textbf{x}_0))\\}^2$\n",
    "$ + E[\\hat f(\\textbf{x}_0)E(\\hat f(\\textbf{x}_0))] - E[\\hat f(\\textbf{x}_0)f(\\textbf{x}_0)] - E[\\{E(\\hat f(\\textbf{x}_0))\\}^2] + E[E(\\hat f(\\textbf{x}_0)f(\\textbf{x}_0))]$  \n",
    "$=V(\\hat f(\\textbf{x}_0)) +\\{Bias(\\hat f(\\textbf{x}_0))\\}^2$\n",
    "$ + \\{E(\\hat f(\\textbf{x}_0))\\}^2 - E(\\hat f(\\textbf{x}_0))f(\\textbf{x}_0) - \\{E(\\hat f(\\textbf{x}_0))\\}^2 + E(\\hat f(\\textbf{x}_0))f(\\textbf{x}_0)$  \n",
    "$=V(\\hat f(\\textbf{x}_0)) +\\{Bias(\\hat f(\\textbf{x}_0))\\}^2$  \n",
    "ただし，$E[E[\\hat f(\\textbf{x}_0)]] = E[\\hat f(\\textbf{x}_0)]$, $E[f(\\textbf{x}_0)] = f(\\textbf{x}_0)$, $E[\\{Bias(\\hat f(\\textbf{x}_0))\\}^2] = \\{Bias(\\hat f(\\textbf{x}_0))\\}^2$を用いた．\n",
    "\n",
    "•\n",
    "Exercise 2.4  \n",
    "$n \\times MSE = \\textbf{y}^T\\textbf{y} - \\boldsymbol{\\hat\\beta}^T(\\textbf{X}^T\\textbf{y}) - (\\textbf{X}^T\\textbf{y})^T\\boldsymbol{\\hat\\beta} + \\boldsymbol{\\hat\\beta}^T\\textbf{X}^T\\textbf{X}\\boldsymbol{\\hat\\beta}$  \n",
    "$\\partial/\\partial \\boldsymbol{\\hat\\beta}(n \\times MSE) = 0 -\\textbf{X}^Ty - \\textbf{X}^Ty + 2\\textbf{X}^T\\textbf{X} = -2\\textbf{X}^Ty + 2\\textbf{X}^T\\textbf{X}$"
   ]
  }
 ],
 "metadata": {
  "kernelspec": {
   "display_name": "Python 3",
   "language": "python",
   "name": "python3"
  },
  "language_info": {
   "codemirror_mode": {
    "name": "ipython",
    "version": 3
   },
   "file_extension": ".py",
   "mimetype": "text/x-python",
   "name": "python",
   "nbconvert_exporter": "python",
   "pygments_lexer": "ipython3",
   "version": "3.7.2"
  }
 },
 "nbformat": 4,
 "nbformat_minor": 4
}

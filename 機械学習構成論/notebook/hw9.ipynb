{
 "cells": [
  {
   "cell_type": "code",
   "execution_count": 1,
   "id": "be78e85e",
   "metadata": {
    "scrolled": true
   },
   "outputs": [
    {
     "name": "stdout",
     "output_type": "stream",
     "text": [
      "55\n"
     ]
    }
   ],
   "source": [
    "#sum of all int from 1 to 10\n",
    "print(sum(range(1, 10+1)))"
   ]
  },
  {
   "cell_type": "code",
   "execution_count": 2,
   "id": "b0f17354",
   "metadata": {},
   "outputs": [],
   "source": [
    "# 第一引数が第二引数よりも小さい場合 print(sum(range(A, B+1)))\n",
    "# 第一引数が第二引数よりも大きい場合 print(sum(range(B, A+1)))\n",
    "def calc_sum_A2B(A, B):\n",
    "\n",
    "    min_ = min(A, B)\n",
    "    max_ = max(A, B)\n",
    "    print(sum(range(min_, max_+1)))"
   ]
  },
  {
   "cell_type": "code",
   "execution_count": 3,
   "id": "821ba30f",
   "metadata": {},
   "outputs": [
    {
     "name": "stdout",
     "output_type": "stream",
     "text": [
      "55\n",
      "55\n",
      "-15\n"
     ]
    }
   ],
   "source": [
    "calc_sum_A2B(1, 10)\n",
    "calc_sum_A2B(10, 1)\n",
    "calc_sum_A2B(-5, 0)"
   ]
  }
 ],
 "metadata": {
  "kernelspec": {
   "display_name": "Python 3",
   "language": "python",
   "name": "python3"
  },
  "language_info": {
   "codemirror_mode": {
    "name": "ipython",
    "version": 3
   },
   "file_extension": ".py",
   "mimetype": "text/x-python",
   "name": "python",
   "nbconvert_exporter": "python",
   "pygments_lexer": "ipython3",
   "version": "3.7.13"
  }
 },
 "nbformat": 4,
 "nbformat_minor": 5
}

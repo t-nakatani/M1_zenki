{
 "cells": [
  {
   "cell_type": "code",
   "execution_count": 3,
   "id": "8ecf2e7b",
   "metadata": {
    "scrolled": true
   },
   "outputs": [
    {
     "name": "stdout",
     "output_type": "stream",
     "text": [
      "Collecting package metadata (repodata.json): done\n",
      "Solving environment: done\n",
      "\n",
      "\n",
      "==> WARNING: A newer version of conda exists. <==\n",
      "  current version: 4.9.2\n",
      "  latest version: 4.13.0\n",
      "\n",
      "Please update conda by running\n",
      "\n",
      "    $ conda update -n base -c defaults conda\n",
      "\n",
      "\n",
      "\n",
      "## Package Plan ##\n",
      "\n",
      "  environment location: /Users/nakatani/.pyenv/versions/anaconda3-5.3.0/envs/m1\n",
      "\n",
      "  added / updated specs:\n",
      "    - libsvm\n",
      "\n",
      "\n",
      "The following packages will be downloaded:\n",
      "\n",
      "    package                    |            build\n",
      "    ---------------------------|-----------------\n",
      "    libsvm-325                 |       he49afe7_0          70 KB  conda-forge\n",
      "    ------------------------------------------------------------\n",
      "                                           Total:          70 KB\n",
      "\n",
      "The following NEW packages will be INSTALLED:\n",
      "\n",
      "  libsvm             conda-forge/osx-64::libsvm-325-he49afe7_0\n",
      "\n",
      "\n",
      "\n",
      "Downloading and Extracting Packages\n",
      "libsvm-325           | 70 KB     | ##################################### | 100% \n",
      "Preparing transaction: done\n",
      "Verifying transaction: done\n",
      "Executing transaction: done\n"
     ]
    }
   ],
   "source": [
    "!conda install -y -c conda-forge libsvm"
   ]
  },
  {
   "cell_type": "code",
   "execution_count": 35,
   "id": "38b0aab7",
   "metadata": {},
   "outputs": [
    {
     "data": {
      "text/plain": [
       "['-s', '0', '-t', '0']"
      ]
     },
     "execution_count": 35,
     "metadata": {},
     "output_type": "execute_result"
    }
   ],
   "source": [
    "'-s 0 -t 0'.split()"
   ]
  },
  {
   "cell_type": "code",
   "execution_count": 4,
   "id": "c176a6fe",
   "metadata": {},
   "outputs": [],
   "source": [
    "from libsvm.svmutil import *\n",
    "from libsvm.svm import *"
   ]
  },
  {
   "cell_type": "code",
   "execution_count": 17,
   "id": "dbd2f3a3",
   "metadata": {},
   "outputs": [
    {
     "data": {
      "text/plain": [
       "[-1]"
      ]
     },
     "execution_count": 17,
     "metadata": {},
     "output_type": "execute_result"
    }
   ],
   "source": [
    "labels1"
   ]
  },
  {
   "cell_type": "code",
   "execution_count": 34,
   "id": "0629fbbc",
   "metadata": {},
   "outputs": [
    {
     "data": {
      "text/plain": [
       "(1605, 1605)"
      ]
     },
     "execution_count": 34,
     "metadata": {},
     "output_type": "execute_result"
    }
   ],
   "source": [
    "len(tr_label), len(tr_vec)"
   ]
  },
  {
   "cell_type": "code",
   "execution_count": 56,
   "id": "33538a75",
   "metadata": {
    "scrolled": false
   },
   "outputs": [
    {
     "name": "stdout",
     "output_type": "stream",
     "text": [
      "\n",
      "./data/a1a.txt\n",
      "(lambda == 0.1)     Accuracy = 75.9465% (23510/30956) (classification)\n",
      "(lambda == 1)       Accuracy = 83.5864% (25875/30956) (classification)\n",
      "(lambda == 10)      Accuracy = 84.4263% (26135/30956) (classification)\n",
      "(lambda == 100)     Accuracy = 83.6768% (25903/30956) (classification)\n",
      "(lambda == 1000)    Accuracy = 80.4852% (24915/30956) (classification)\n",
      "(lambda == 10000)   Accuracy = 78.547% (24315/30956) (classification)\n",
      "\n",
      "./data/a2a.txt\n",
      "(lambda == 0.1)     Accuracy = 76.0067% (23027/30296) (classification)\n",
      "(lambda == 1)       Accuracy = 83.9781% (25442/30296) (classification)\n",
      "(lambda == 10)      Accuracy = 84.6415% (25643/30296) (classification)\n",
      "(lambda == 100)     Accuracy = 83.6876% (25354/30296) (classification)\n",
      "(lambda == 1000)    Accuracy = 80.0436% (24250/30296) (classification)\n",
      "(lambda == 10000)   Accuracy = 77.5977% (23509/30296) (classification)\n",
      "\n",
      "./data/a3a.txt\n",
      "(lambda == 0.1)     Accuracy = 75.9395% (22308/29376) (classification)\n",
      "(lambda == 1)       Accuracy = 83.8406% (24629/29376) (classification)\n",
      "(lambda == 10)      Accuracy = 84.4669% (24813/29376) (classification)\n",
      "(lambda == 100)     Accuracy = 83.8167% (24622/29376) (classification)\n",
      "(lambda == 1000)    Accuracy = 81.3113% (23886/29376) (classification)\n",
      "(lambda == 10000)   Accuracy = 78.2646% (22991/29376) (classification)\n"
     ]
    }
   ],
   "source": [
    "for i in range(1, 4):\n",
    "    path = f'./data/a{i}a.txt'\n",
    "    tr_label = []\n",
    "    tr_vec = []\n",
    "    ts_label = []\n",
    "    ts_vec = []\n",
    "    print(f'\\n{path}')\n",
    "    with open(path) as f:\n",
    "        fline = f.readlines()\n",
    "        l = [line.split() for line in fline]\n",
    "        for line_ in l:\n",
    "            tr_label.append(int(line_[0]))\n",
    "            tr_vec.append(dict([[int(val.split(':')[0]), int(val.split(':')[1])]  for val in (line_[1:])]))\n",
    "\n",
    "    with open(path.replace('.txt', '_test.txt')) as f:\n",
    "        fline = f.readlines()\n",
    "        l = [line.split() for line in fline]\n",
    "        for line_ in l:\n",
    "            ts_label.append(int(line_[0]))\n",
    "            ts_vec.append(dict([[int(val.split(':')[0]), int(val.split(':')[1])]  for val in (line_[1:])]))\n",
    "\n",
    "    for alpha in [0.1, 1,10, 100, 1000, 10000]:\n",
    "        print(f'(lambda == {alpha})'.ljust(20), end='')\n",
    "        t = svm_train(tr_label, tr_vec, f'-s 0 -t 2 -c {alpha}')\n",
    "        result = svm_predict(ts_label, ts_vec, t)"
   ]
  },
  {
   "cell_type": "code",
   "execution_count": 10,
   "id": "26b9acb7",
   "metadata": {},
   "outputs": [
    {
     "name": "stdout",
     "output_type": "stream",
     "text": [
      "Accuracy = 66.6667% (2/3) (classification)\n",
      "Accuracy = 66.6667% (2/3) (classification)\n",
      "Accuracy = 75% (3/4) (classification)\n",
      "\n",
      "\n",
      "Accuracy = 100% (3/3) (classification)\n",
      "Accuracy = 66.6667% (2/3) (classification)\n",
      "Accuracy = 75% (3/4) (classification)\n",
      "\n",
      "\n",
      "Accuracy = 100% (3/3) (classification)\n",
      "Accuracy = 100% (3/3) (classification)\n",
      "Accuracy = 100% (4/4) (classification)\n",
      "\n",
      "\n",
      "Accuracy = 100% (3/3) (classification)\n",
      "Accuracy = 100% (3/3) (classification)\n",
      "Accuracy = 100% (4/4) (classification)\n",
      "\n",
      "\n"
     ]
    }
   ],
   "source": [
    "# 学習データの登録：\n",
    "# 　　　　problem = svm_problem([train_label1, train_label2, ...], [train_data1, train_data2, ...])\n",
    "label1 = [1, -1, -1]\n",
    "vec1 = [[0, 0], [1, 1], [2, 2]]\n",
    "\n",
    "label2 = [1, -1, -1]\n",
    "vec2 = [[0, 0], [1, 1], [0, 1]]\n",
    "\n",
    "label3 = [1, -1, -1, -1]\n",
    "vec3 = [[0, 0], [0, 1], [1, 5], [2, 1]]\n",
    "\n",
    "T = [None, None, None]\n",
    "for alpha in [0.5, 1, 3, 10000]:\n",
    "    for vec, label in zip([vec1, vec2, vec3], [label1, label2, label3]):\n",
    "        t = svm_train(label, vec, f'-s 0 -t 2 -c {alpha}')\n",
    "        result = svm_predict(label, vec, t)\n",
    "    print('\\n')"
   ]
  },
  {
   "cell_type": "code",
   "execution_count": 48,
   "id": "b301cffc",
   "metadata": {},
   "outputs": [
    {
     "name": "stdout",
     "output_type": "stream",
     "text": [
      "def svm_train(arg1, arg2=None, arg3=None):\n",
      "\t\"\"\"\n",
      "\tsvm_train(y, x [, options]) -> model | ACC | MSE\n",
      "\n",
      "\ty: a list/tuple/ndarray of l true labels (type must be int/double).\n",
      "\n",
      "\tx: 1. a list/tuple of l training instances. Feature vector of\n",
      "\t      each training instance is a list/tuple or dictionary.\n",
      "\n",
      "\t   2. an l * n numpy ndarray or scipy spmatrix (n: number of features).\n",
      "\n",
      "\tsvm_train(prob [, options]) -> model | ACC | MSE\n",
      "\tsvm_train(prob, param) -> model | ACC| MSE\n",
      "\n",
      "\tTrain an SVM model from data (y, x) or an svm_problem prob using\n",
      "\t'options' or an svm_parameter param.\n",
      "\tIf '-v' is specified in 'options' (i.e., cross validation)\n",
      "\teither accuracy (ACC) or mean-squared error (MSE) is returned.\n",
      "\toptions:\n",
      "\t    -s svm_type : set type of SVM (default 0)\n",
      "\t        0 -- C-SVC\t\t(multi-class classification)\n",
      "\t        1 -- nu-SVC\t\t(multi-class classification)\n",
      "\t        2 -- one-class SVM\n",
      "\t        3 -- epsilon-SVR\t(regression)\n",
      "\t        4 -- nu-SVR\t\t(regression)\n",
      "\t    -t kernel_type : set type of kernel function (default 2)\n",
      "\t        0 -- linear: u'*v\n",
      "\t        1 -- polynomial: (gamma*u'*v + coef0)^degree\n",
      "\t        2 -- radial basis function: exp(-gamma*|u-v|^2)\n",
      "\t        3 -- sigmoid: tanh(gamma*u'*v + coef0)\n",
      "\t        4 -- precomputed kernel (kernel values in training_set_file)\n",
      "\t    -d degree : set degree in kernel function (default 3)\n",
      "\t    -g gamma : set gamma in kernel function (default 1/num_features)\n",
      "\t    -r coef0 : set coef0 in kernel function (default 0)\n",
      "\t    -c cost : set the parameter C of C-SVC, epsilon-SVR, and nu-SVR (default 1)\n",
      "\t    -n nu : set the parameter nu of nu-SVC, one-class SVM, and nu-SVR (default 0.5)\n",
      "\t    -p epsilon : set the epsilon in loss function of epsilon-SVR (default 0.1)\n",
      "\t    -m cachesize : set cache memory size in MB (default 100)\n",
      "\t    -e epsilon : set tolerance of termination criterion (default 0.001)\n",
      "\t    -h shrinking : whether to use the shrinking heuristics, 0 or 1 (default 1)\n",
      "\t    -b probability_estimates : whether to train a SVC or SVR model for probability estimates, 0 or 1 (default 0)\n",
      "\t    -wi weight : set the parameter C of class i to weight*C, for C-SVC (default 1)\n",
      "\t    -v n: n-fold cross validation mode\n",
      "\t    -q : quiet mode (no outputs)\n",
      "\t\"\"\"\n",
      "\tprob, param = None, None\n",
      "\tif isinstance(arg1, (list, tuple)) or (scipy and isinstance(arg1, scipy.ndarray)):\n",
      "\t\tassert isinstance(arg2, (list, tuple)) or (scipy and isinstance(arg2, (scipy.ndarray, sparse.spmatrix)))\n",
      "\t\ty, x, options = arg1, arg2, arg3\n",
      "\t\tparam = svm_parameter(options)\n",
      "\t\tprob = svm_problem(y, x, isKernel=(param.kernel_type == PRECOMPUTED))\n",
      "\telif isinstance(arg1, svm_problem):\n",
      "\t\tprob = arg1\n",
      "\t\tif isinstance(arg2, svm_parameter):\n",
      "\t\t\tparam = arg2\n",
      "\t\telse:\n",
      "\t\t\tparam = svm_parameter(arg2)\n",
      "\tif prob == None or param == None:\n",
      "\t\traise TypeError(\"Wrong types for the arguments\")\n",
      "\n",
      "\tif param.kernel_type == PRECOMPUTED:\n",
      "\t\tfor i in range(prob.l):\n",
      "\t\t\txi = prob.x[i]\n",
      "\t\t\tidx, val = xi[0].index, xi[0].value\n",
      "\t\t\tif idx != 0:\n",
      "\t\t\t\traise ValueError('Wrong input format: first column must be 0:sample_serial_number')\n",
      "\t\t\tif val <= 0 or val > prob.n:\n",
      "\t\t\t\traise ValueError('Wrong input format: sample_serial_number out of range')\n",
      "\n",
      "\tif param.gamma == 0 and prob.n > 0:\n",
      "\t\tparam.gamma = 1.0 / prob.n\n",
      "\tlibsvm.svm_set_print_string_function(param.print_func)\n",
      "\terr_msg = libsvm.svm_check_parameter(prob, param)\n",
      "\tif err_msg:\n",
      "\t\traise ValueError('Error: %s' % err_msg)\n",
      "\n",
      "\tif param.cross_validation:\n",
      "\t\tl, nr_fold = prob.l, param.nr_fold\n",
      "\t\ttarget = (c_double * l)()\n",
      "\t\tlibsvm.svm_cross_validation(prob, param, nr_fold, target)\n",
      "\t\tACC, MSE, SCC = evaluations(prob.y[:l], target[:l])\n",
      "\t\tif param.svm_type in [EPSILON_SVR, NU_SVR]:\n",
      "\t\t\tprint(\"Cross Validation Mean squared error = %g\" % MSE)\n",
      "\t\t\tprint(\"Cross Validation Squared correlation coefficient = %g\" % SCC)\n",
      "\t\t\treturn MSE\n",
      "\t\telse:\n",
      "\t\t\tprint(\"Cross Validation Accuracy = %g%%\" % ACC)\n",
      "\t\t\treturn ACC\n",
      "\telse:\n",
      "\t\tm = libsvm.svm_train(prob, param)\n",
      "\t\tm = toPyModel(m)\n",
      "\n",
      "\t\t# If prob is destroyed, data including SVs pointed by m can remain.\n",
      "\t\tm.x_space = prob.x_space\n",
      "\t\treturn m\n",
      "\n"
     ]
    }
   ],
   "source": [
    "import inspect\n",
    "print(inspect.getsource(svm_train))"
   ]
  },
  {
   "cell_type": "code",
   "execution_count": 32,
   "id": "6b8b7a86",
   "metadata": {
    "scrolled": false
   },
   "outputs": [
    {
     "name": "stdout",
     "output_type": "stream",
     "text": [
      "class svm_parameter(Structure):\n",
      "    _names = [\"svm_type\", \"kernel_type\", \"degree\", \"gamma\", \"coef0\",\n",
      "              \"cache_size\", \"eps\", \"C\", \"nr_weight\", \"weight_label\", \"weight\",\n",
      "              \"nu\", \"p\", \"shrinking\", \"probability\"]\n",
      "    _types = [c_int, c_int, c_int, c_double, c_double,\n",
      "              c_double, c_double, c_double, c_int, POINTER(c_int), POINTER(c_double),\n",
      "              c_double, c_double, c_int, c_int]\n",
      "    _fields_ = genFields(_names, _types)\n",
      "\n",
      "    def __init__(self, options=None):\n",
      "        if options == None:\n",
      "            options = ''\n",
      "        self.parse_options(options)\n",
      "\n",
      "    def __str__(self):\n",
      "        s = ''\n",
      "        attrs = svm_parameter._names + list(self.__dict__.keys())\n",
      "        values = map(lambda attr: getattr(self, attr), attrs)\n",
      "        for attr, val in zip(attrs, values):\n",
      "            s += (' %s: %s\\n' % (attr, val))\n",
      "        s = s.strip()\n",
      "\n",
      "        return s\n",
      "\n",
      "    def set_to_default_values(self):\n",
      "        self.svm_type = C_SVC;\n",
      "        self.kernel_type = RBF\n",
      "        self.degree = 3\n",
      "        self.gamma = 0\n",
      "        self.coef0 = 0\n",
      "        self.nu = 0.5\n",
      "        self.cache_size = 100\n",
      "        self.C = 1\n",
      "        self.eps = 0.001\n",
      "        self.p = 0.1\n",
      "        self.shrinking = 1\n",
      "        self.probability = 0\n",
      "        self.nr_weight = 0\n",
      "        self.weight_label = None\n",
      "        self.weight = None\n",
      "        self.cross_validation = False\n",
      "        self.nr_fold = 0\n",
      "        self.print_func = cast(None, PRINT_STRING_FUN)\n",
      "\n",
      "    def parse_options(self, options):\n",
      "        if isinstance(options, list):\n",
      "            argv = options\n",
      "        elif isinstance(options, str):\n",
      "            argv = options.split()\n",
      "        else:\n",
      "            raise TypeError(\"arg 1 should be a list or a str.\")\n",
      "        self.set_to_default_values()\n",
      "        self.print_func = cast(None, PRINT_STRING_FUN)\n",
      "        weight_label = []\n",
      "        weight = []\n",
      "\n",
      "        i = 0\n",
      "        while i < len(argv):\n",
      "            if argv[i] == \"-s\":\n",
      "                i = i + 1\n",
      "                self.svm_type = int(argv[i])\n",
      "            elif argv[i] == \"-t\":\n",
      "                i = i + 1\n",
      "                self.kernel_type = int(argv[i])\n",
      "            elif argv[i] == \"-d\":\n",
      "                i = i + 1\n",
      "                self.degree = int(argv[i])\n",
      "            elif argv[i] == \"-g\":\n",
      "                i = i + 1\n",
      "                self.gamma = float(argv[i])\n",
      "            elif argv[i] == \"-r\":\n",
      "                i = i + 1\n",
      "                self.coef0 = float(argv[i])\n",
      "            elif argv[i] == \"-n\":\n",
      "                i = i + 1\n",
      "                self.nu = float(argv[i])\n",
      "            elif argv[i] == \"-m\":\n",
      "                i = i + 1\n",
      "                self.cache_size = float(argv[i])\n",
      "            elif argv[i] == \"-c\":\n",
      "                i = i + 1\n",
      "                self.C = float(argv[i])\n",
      "            elif argv[i] == \"-e\":\n",
      "                i = i + 1\n",
      "                self.eps = float(argv[i])\n",
      "            elif argv[i] == \"-p\":\n",
      "                i = i + 1\n",
      "                self.p = float(argv[i])\n",
      "            elif argv[i] == \"-h\":\n",
      "                i = i + 1\n",
      "                self.shrinking = int(argv[i])\n",
      "            elif argv[i] == \"-b\":\n",
      "                i = i + 1\n",
      "                self.probability = int(argv[i])\n",
      "            elif argv[i] == \"-q\":\n",
      "                self.print_func = PRINT_STRING_FUN(print_null)\n",
      "            elif argv[i] == \"-v\":\n",
      "                i = i + 1\n",
      "                self.cross_validation = 1\n",
      "                self.nr_fold = int(argv[i])\n",
      "                if self.nr_fold < 2:\n",
      "                    raise ValueError(\"n-fold cross validation: n must >= 2\")\n",
      "            elif argv[i].startswith(\"-w\"):\n",
      "                i = i + 1\n",
      "                self.nr_weight += 1\n",
      "                weight_label += [int(argv[i - 1][2:])]\n",
      "                weight += [float(argv[i])]\n",
      "            else:\n",
      "                raise ValueError(\"Wrong options\")\n",
      "            i += 1\n",
      "\n",
      "        libsvm.svm_set_print_string_function(self.print_func)\n",
      "        self.weight_label = (c_int * self.nr_weight)()\n",
      "        self.weight = (c_double * self.nr_weight)()\n",
      "        for i in range(self.nr_weight):\n",
      "            self.weight[i] = weight[i]\n",
      "            self.weight_label[i] = weight_label[i]\n",
      "\n"
     ]
    }
   ],
   "source": []
  },
  {
   "cell_type": "code",
   "execution_count": null,
   "id": "115de65b",
   "metadata": {},
   "outputs": [],
   "source": []
  },
  {
   "cell_type": "markdown",
   "id": "6043f6ac",
   "metadata": {},
   "source": [
    "Solver s;\n",
    "\ts.Solve(l, SVC_Q(*prob,*param,y), minus_ones, y,\n",
    "\t\talpha, Cp, Cn, param->eps, si, param->shrinking);"
   ]
  }
 ],
 "metadata": {
  "kernelspec": {
   "display_name": "Python 3",
   "language": "python",
   "name": "python3"
  },
  "language_info": {
   "codemirror_mode": {
    "name": "ipython",
    "version": 3
   },
   "file_extension": ".py",
   "mimetype": "text/x-python",
   "name": "python",
   "nbconvert_exporter": "python",
   "pygments_lexer": "ipython3",
   "version": "3.7.13"
  }
 },
 "nbformat": 4,
 "nbformat_minor": 5
}

{
 "cells": [
  {
   "cell_type": "code",
   "execution_count": 19,
   "id": "21a819a8",
   "metadata": {
    "scrolled": true
   },
   "outputs": [
    {
     "name": "stdout",
     "output_type": "stream",
     "text": [
      "[ 1.62434536 -0.61175641 -0.52817175 -1.07296862  0.86540763]\n"
     ]
    }
   ],
   "source": [
    "import numpy as np\n",
    "import random\n",
    "\n",
    "random.seed(1)\n",
    "np.random.seed(seed=1)\n",
    "\n",
    "mean, std = 0, 1\n",
    "arr5_from_Fx = (np.random.normal(mean, std, 5))\n",
    "print(arr5_from_Fx)"
   ]
  },
  {
   "cell_type": "code",
   "execution_count": 20,
   "id": "4ba6f37c",
   "metadata": {},
   "outputs": [
    {
     "name": "stdout",
     "output_type": "stream",
     "text": [
      "配列のサイズ: 10000\n",
      "経験分布関数G(x)からデータが取り出される場合のthetaの推定値の分散\n",
      "= 0.20690144789341616\n"
     ]
    }
   ],
   "source": [
    "avg1000_from_Gx = \\\n",
    "    [np.mean(arr) for arr in np.array(random.choices(arr5_from_Fx, k=50000)).reshape(10000, 5)]\n",
    "print(f'配列のサイズ: {len(avg1000_from_Gx)}')\n",
    "print(f'経験分布関数G(x)からデータが取り出される場合のthetaの推定値の分散\\n\\\n",
    "= {np.var(avg1000_from_Gx)}')"
   ]
  },
  {
   "cell_type": "code",
   "execution_count": 21,
   "id": "c0276aa6",
   "metadata": {
    "scrolled": true
   },
   "outputs": [
    {
     "name": "stdout",
     "output_type": "stream",
     "text": [
      "配列のサイズ: 10000\n",
      "母分布F(x)からデータが取り出される場合のthetaの推定値の分散\n",
      "= 0.1952843920448834\n"
     ]
    }
   ],
   "source": [
    "avg1000_from_N = [np.mean(arr) for arr in np.random.normal(mean, std, 50000).reshape(10000, 5)]\n",
    "print(f'配列のサイズ: {len(avg1000_from_N)}')\n",
    "print(f'母分布F(x)からデータが取り出される場合のthetaの推定値の分散\\n\\\n",
    "= {np.var(avg1000_from_N)}')"
   ]
  },
  {
   "cell_type": "markdown",
   "id": "8d829fd4",
   "metadata": {},
   "source": [
    "## 解説\n",
    "In[1]の7, 8行目で標準正規分布からもとデータとなるデータを5つ取り出している．(課題1)  \n",
    "In[2]の1行目で元データ5つから復元抽出で5000個データを取り出し，それらを1000\\*5の2dArrayに変換し5つの値の平均値を1000回計算している．その後3,4行目で1000個データの分散を計算し確認している．(課題2)  \n",
    "In[3]の1行目で母分布F(x)から5000個データを取り出し，それらを1000\\*5の2dArrayに変換し5つの値の平均値を1000回計算している．その後2,3行目で1000個データの分散を計算確認している．(課題3)  "
   ]
  }
 ],
 "metadata": {
  "kernelspec": {
   "display_name": "Python 3",
   "language": "python",
   "name": "python3"
  },
  "language_info": {
   "codemirror_mode": {
    "name": "ipython",
    "version": 3
   },
   "file_extension": ".py",
   "mimetype": "text/x-python",
   "name": "python",
   "nbconvert_exporter": "python",
   "pygments_lexer": "ipython3",
   "version": "3.7.13"
  }
 },
 "nbformat": 4,
 "nbformat_minor": 5
}

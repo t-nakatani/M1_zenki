{
 "cells": [
  {
   "cell_type": "code",
   "execution_count": 1,
   "metadata": {},
   "outputs": [],
   "source": [
    "import numpy as np\n",
    "table = np.zeros((6, 6))\n",
    "EXY = 0\n",
    "for i in range(6):\n",
    "    for j in range(6):\n",
    "        x = max(i, j)\n",
    "        y = min(i, j)\n",
    "        table[y, x] += 1\n",
    "        EXY += (x+1)*(y+1)\n",
    "table /=36\n",
    "EXY /= 36"
   ]
  },
  {
   "cell_type": "code",
   "execution_count": 2,
   "metadata": {},
   "outputs": [
    {
     "name": "stdout",
     "output_type": "stream",
     "text": [
      "EX=4.472222222222222, EY=2.5277777777777777, EX2=21.97222222222222, EY2=8.36111111111111\n"
     ]
    }
   ],
   "source": [
    "pX = [np.sum(table[:, i]) for i in range(6)]\n",
    "pY = [np.sum(table[i, :]) for i in range(6)]\n",
    "EX = np.sum([(i+1)*pX[i] for i in range(6)])\n",
    "EY = np.sum([(i+1)*pY[i] for i in range(6)])\n",
    "EX2 = np.sum([(i+1)*(i+1)*pX[i] for i in range(6)])\n",
    "EY2 = np.sum([(i+1)*(i+1)*pY[i] for i in range(6)])\n",
    "print('EX={0}, EY={1}, EX2={2}, EY2={3}'.format(EX, EY, EX2, EY2))"
   ]
  },
  {
   "cell_type": "code",
   "execution_count": 3,
   "metadata": {},
   "outputs": [
    {
     "name": "stdout",
     "output_type": "stream",
     "text": [
      "VX=1.9714506172839492, VY=1.971450617283951, CovXY=0.9452160493827169\n"
     ]
    }
   ],
   "source": [
    "VX = EX2 - EX**2\n",
    "VY = EY2 - EY**2\n",
    "CovXY = EXY - EX*EY\n",
    "print('VX={}, VY={}, CovXY={}'.format(VX, VY, CovXY))"
   ]
  },
  {
   "cell_type": "code",
   "execution_count": 4,
   "metadata": {},
   "outputs": [
    {
     "name": "stdout",
     "output_type": "stream",
     "text": [
      "相関係数 r = 0.4794520547945211\n"
     ]
    }
   ],
   "source": [
    "r = CovXY / np.sqrt(VX*VY)\n",
    "print(u'相関係数 r =', r)"
   ]
  },
  {
   "cell_type": "markdown",
   "metadata": {},
   "source": [
    "## 説明\n",
    "\n",
    "[1]で同時確率分布表及びxyの積の期待値の計算\n",
    "\n",
    "[2]で\n",
    "1. X, Yの周辺確立分布をpX, pYで計算\n",
    "2. X, Yの期待値をEX, EYで計算\n",
    "3. X^2, Y^2の期待値をEX2, EY2で計算 \n",
    "\n",
    "[3]でX, Yの分散，　XとYの共分散をVX, VY, CovXYを計算\n",
    "\n",
    "[4]で相関係数を計算"
   ]
  }
 ],
 "metadata": {
  "kernelspec": {
   "display_name": "Python 3",
   "language": "python",
   "name": "python3"
  },
  "language_info": {
   "codemirror_mode": {
    "name": "ipython",
    "version": 3
   },
   "file_extension": ".py",
   "mimetype": "text/x-python",
   "name": "python",
   "nbconvert_exporter": "python",
   "pygments_lexer": "ipython3",
   "version": "3.6.12"
  }
 },
 "nbformat": 4,
 "nbformat_minor": 4
}

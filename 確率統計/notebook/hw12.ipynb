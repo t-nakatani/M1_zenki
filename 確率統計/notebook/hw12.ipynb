{
 "cells": [
  {
   "cell_type": "markdown",
   "id": "e8d4bc36",
   "metadata": {},
   "source": [
    "# 課題12\n",
    "\n",
    "#### 第12回の授業で実施した『#10 の検討事項と簡単な解説，演習問題と略解』 について、授業中の解説や注意事項などをコメント、ノートとして解答などに書き加えたものをスキャンするか写真にとるなどし、それを Word などに貼り付けて 1つのファイルにまとめて提出してください。"
   ]
  },
  {
   "cell_type": "markdown",
   "id": "dd92e04a",
   "metadata": {},
   "source": [
    "###  #10 の検討事項と簡単な解説\n",
    "\n",
    "歪なサイコロ(確率$\\theta$で6の目が出る)を3回振って，6の目が出る回数Xを観測する．この時，フィッシャー情報量$I_X(\\theta)$を求めよう．\n",
    "\n",
    "$I–X(\\theta) = E[\\{\\frac{\\partial}{\\partial\\theta}l(\\theta|X)\\}^2]$"
   ]
  },
  {
   "cell_type": "code",
   "execution_count": null,
   "id": "5aabbd64",
   "metadata": {},
   "outputs": [],
   "source": []
  }
 ],
 "metadata": {
  "kernelspec": {
   "display_name": "Python 3",
   "language": "python",
   "name": "python3"
  },
  "language_info": {
   "codemirror_mode": {
    "name": "ipython",
    "version": 3
   },
   "file_extension": ".py",
   "mimetype": "text/x-python",
   "name": "python",
   "nbconvert_exporter": "python",
   "pygments_lexer": "ipython3",
   "version": "3.7.13"
  }
 },
 "nbformat": 4,
 "nbformat_minor": 5
}

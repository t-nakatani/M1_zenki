{
 "cells": [
  {
   "cell_type": "code",
   "execution_count": 2,
   "metadata": {},
   "outputs": [],
   "source": [
    "import matplotlib.pyplot as plt\n",
    "import networkx as nx\n",
    "import numpy as np\n",
    "\n",
    "def calc_cost2parent(node_idx):\n",
    "    if node_idx == 11:\n",
    "        return 0\n",
    "    return (x_list[node_idx] - x_list[oya_list_[node_idx]])**2 + (y_list[node_idx] - y_list[oya_list_[node_idx]])**2\n",
    "\n",
    "#ノードのx座標リスト．例えば0番のノードのx座標はx_list[0]となる．\n",
    "x_list=[115,63,40,75,75,103,165,149,79,71,84,117,97,51,75,128,23,46,104,59,\n",
    "        83,49,184,126,128,49,146,126,36]\n",
    "\n",
    "#ノードのy座標リスト．例えば0番のノードのy座標はy_list[0]となる．\n",
    "y_list=[176,166,189,110,203,207,65,163,226,131,55,230,134,90,90,120,59,126,\n",
    "        95,139,177,50,124,150,79,213,142,191,158]\n",
    "\n",
    "#各ノードの送信先ノード番号のリスト．木構造で言うところの親ノードの番号．\n",
    "#初期値は全ノードは木構造のルートである11番のノードに接続されている．\n",
    "#ルートである11番の親は存在しないので-1を格納．\n",
    "oya_list=[11,11,11,11,11,11,11,11,11,11,11,-1,11,11,11,11,11,11,11,11,11,\n",
    "          11,11,11,11,11,11,11,11]\n",
    "\n",
    "g = nx.Graph()\n",
    "\n",
    "#ノード番号を定義\n",
    "g.add_nodes_from([0, 1, 2, 3, 4, 5, 6, 7, 8, 9, 10, \n",
    "                  11, 12, 13, 14, 15, 16, 17, 18, 19, \n",
    "                  20, 21, 22, 23, 24, 25, 26, 27, 28])\n",
    "g.add_edges_from([\n",
    "    (0, oya_list[0]),\n",
    "    (1, oya_list[1]),\n",
    "    (2, oya_list[2]),\n",
    "    (3, oya_list[3]),\n",
    "    (4, oya_list[4]),\n",
    "    (5, oya_list[5]),\n",
    "    (6, oya_list[6]),\n",
    "    (7, oya_list[7]),\n",
    "    (8, oya_list[8]),\n",
    "    (9, oya_list[9]),\n",
    "    (10, oya_list[10]),\n",
    "#    (11, oya_list[11]),\n",
    "    (12, oya_list[12]),\n",
    "    (13, oya_list[13]),\n",
    "    (14, oya_list[14]),\n",
    "    (15, oya_list[15]),\n",
    "    (16, oya_list[16]),\n",
    "    (17, oya_list[17]),\n",
    "    (18, oya_list[18]),\n",
    "    (19, oya_list[19]),\n",
    "    (20, oya_list[20]),\n",
    "    (21, oya_list[21]),\n",
    "    (22, oya_list[22]),\n",
    "    (23, oya_list[23]),\n",
    "    (24, oya_list[24]),\n",
    "    (25, oya_list[25]),\n",
    "    (26, oya_list[26]),\n",
    "    (27, oya_list[27]),\n",
    "    (28, oya_list[28])\n",
    "])\n",
    "num_children = [0] * 29\n",
    "num_children[11] = 28\n",
    "\n",
    "K = 100000\n",
    "for k in range(K):\n",
    "    without11 = [num for num in range(29)]\n",
    "    without11.remove(11)\n",
    "    idx = random.choice(without11)\n",
    "    # idx = 2\n",
    "    # print('selected_idx = ', idx)\n",
    "    origin_cost = np.sum([calc_cost2parent(i)*(num_c+1) for i, num_c in enumerate(num_children)])\n",
    "\n",
    "    table = [num for num in range(29)]\n",
    "    cost_min = float('inf')\n",
    "    idx_min = -1\n",
    "    for p_new in table:\n",
    "        if p_new == idx:\n",
    "            continue\n",
    "        oya_list_ = oya_list[::]\n",
    "        num_children_ = num_children[::]\n",
    "        g_ = g.copy()\n",
    "        p_old = oya_list[idx]\n",
    "\n",
    "        g_.remove_edge(idx, oya_list[idx])\n",
    "        g_.add_edge(idx, p_new)\n",
    "        if not nx.is_tree(g_):\n",
    "            continue\n",
    "        oya_list_[idx] = p_new\n",
    "        num_children_[p_old] -= num_children[idx]+1\n",
    "        num_children_[p_new] += num_children[idx]+1\n",
    "\n",
    "        cost = np.sum([calc_cost2parent(i)*(num_c+1) for i, num_c in enumerate(num_children_)])\n",
    "        if cost < cost_min:\n",
    "            cost_min = cost\n",
    "            idx_min = p_new\n",
    "#     print(idx, ':', p_old, '-->', idx_min)\n",
    "#     print('cost: ', origin_cost, '-->', cost_min)\n",
    "    p_new = idx_min\n",
    "    g.remove_edge(idx, oya_list[idx])\n",
    "    g.add_edge(idx, p_new)\n",
    "    oya_list[idx] = p_new\n",
    "    num_children[p_old] -= num_children[idx]+1\n",
    "    num_children[p_new] += num_children[idx]+1\n",
    "\n",
    "\n",
    "#エッジの描画設定．各ノードとその親ノードを結ぶ線分を描画．\n",
    "\n",
    "\n",
    "\n",
    "#ノードの描画設定．各ノードのx座標とy座標に基づいた点を描画．\n",
    "pos = {\n",
    "    0: (x_list[0], y_list[0]),\n",
    "    1: (x_list[1], y_list[1]),\n",
    "    2: (x_list[2], y_list[2]),\n",
    "    3: (x_list[3], y_list[3]),\n",
    "    4: (x_list[4], y_list[4]),\n",
    "    5: (x_list[5], y_list[5]),\n",
    "    6: (x_list[6], y_list[6]),\n",
    "    7: (x_list[7], y_list[7]),\n",
    "    8: (x_list[8], y_list[8]),\n",
    "    9: (x_list[9], y_list[9]),\n",
    "    10: (x_list[10], y_list[10]),\n",
    "    11: (x_list[11], y_list[11]),\n",
    "    12: (x_list[12], y_list[12]),\n",
    "    13: (x_list[13], y_list[13]),\n",
    "    14: (x_list[14], y_list[14]),\n",
    "    15: (x_list[15], y_list[15]),\n",
    "    16: (x_list[16], y_list[16]),\n",
    "    17: (x_list[17], y_list[17]),\n",
    "    18: (x_list[18], y_list[18]),\n",
    "    19: (x_list[19], y_list[19]),\n",
    "    20: (x_list[20], y_list[20]),\n",
    "    21: (x_list[21], y_list[21]),\n",
    "    22: (x_list[22], y_list[22]),\n",
    "    23: (x_list[23], y_list[23]),\n",
    "    24: (x_list[24], y_list[24]),\n",
    "    25: (x_list[25], y_list[25]),\n",
    "    26: (x_list[26], y_list[26]),\n",
    "    27: (x_list[27], y_list[27]),\n",
    "    28: (x_list[28], y_list[28]),\n",
    "}\n",
    "\n",
    "nx.draw_networkx(g, pos)\n",
    "plt.show()"
   ]
  },
  {
   "cell_type": "code",
   "execution_count": 132,
   "metadata": {},
   "outputs": [
    {
     "data": {
      "image/png": "[encoded data removed]",
      "text/plain": [
       "<Figure size 432x288 with 1 Axes>"
      ]
     },
     "metadata": {},
     "output_type": "display_data"
    }
   ],
   "source": [
    "nx.draw_networkx(g, pos)\n",
    "plt.show()"
   ]
  },
  {
   "cell_type": "code",
   "execution_count": 126,
   "metadata": {
    "scrolled": true
   },
   "outputs": [
    {
     "data": {
      "text/plain": [
       "[111,\n",
       " 70,\n",
       " 0,\n",
       " 27,\n",
       " 36,\n",
       " -38,\n",
       " -39,\n",
       " -46,\n",
       " -58,\n",
       " 27,\n",
       " -1,\n",
       " -137,\n",
       " -6,\n",
       " 3,\n",
       " 20,\n",
       " -2,\n",
       " -15,\n",
       " -8,\n",
       " 7,\n",
       " -22,\n",
       " 129,\n",
       " -45,\n",
       " -6,\n",
       " 12,\n",
       " 2,\n",
       " 3,\n",
       " 4,\n",
       " 1,\n",
       " -1]"
      ]
     },
     "execution_count": 126,
     "metadata": {},
     "output_type": "execute_result"
    }
   ],
   "source": [
    "num_children"
   ]
  },
  {
   "cell_type": "code",
   "execution_count": 124,
   "metadata": {},
   "outputs": [
    {
     "data": {
      "image/png": "[encoded data removed]",
      "text/plain": [
       "<Figure size 432x288 with 1 Axes>"
      ]
     },
     "metadata": {},
     "output_type": "display_data"
    }
   ],
   "source": [
    "nx.draw_networkx(g, pos)\n",
    "plt.show()"
   ]
  },
  {
   "cell_type": "code",
   "execution_count": 46,
   "metadata": {},
   "outputs": [],
   "source": [
    "for idx in range(29):\n",
    "    if idx == 11:\n",
    "        g.nodes[idx]['num_children'] = 28\n",
    "    else:\n",
    "        g.nodes[idx]['num_children'] = 0"
   ]
  },
  {
   "cell_type": "code",
   "execution_count": 45,
   "metadata": {},
   "outputs": [
    {
     "ename": "KeyError",
     "evalue": "'num_children'",
     "output_type": "error",
     "traceback": [
      "\u001b[0;31m---------------------------------------------------------------------------\u001b[0m",
      "\u001b[0;31mKeyError\u001b[0m                                  Traceback (most recent call last)",
      "\u001b[0;32m<ipython-input-45-7c262dff7993>\u001b[0m in \u001b[0;36m<module>\u001b[0;34m\u001b[0m\n\u001b[0;32m----> 1\u001b[0;31m \u001b[0mg\u001b[0m\u001b[0;34m.\u001b[0m\u001b[0mnodes\u001b[0m\u001b[0;34m[\u001b[0m\u001b[0;36m1\u001b[0m\u001b[0;34m]\u001b[0m\u001b[0;34m[\u001b[0m\u001b[0;34m'num_children'\u001b[0m\u001b[0;34m]\u001b[0m\u001b[0;34m\u001b[0m\u001b[0;34m\u001b[0m\u001b[0m\n\u001b[0m",
      "\u001b[0;31mKeyError\u001b[0m: 'num_children'"
     ]
    }
   ],
   "source": [
    "g.nodes[1]['num_children']"
   ]
  },
  {
   "cell_type": "code",
   "execution_count": 10,
   "metadata": {},
   "outputs": [
    {
     "data": {
      "text/plain": [
       "[0,\n",
       " 0,\n",
       " 0,\n",
       " 0,\n",
       " 0,\n",
       " 0,\n",
       " 0,\n",
       " 0,\n",
       " 0,\n",
       " 0,\n",
       " 0,\n",
       " 28,\n",
       " 0,\n",
       " 0,\n",
       " 0,\n",
       " 0,\n",
       " 0,\n",
       " 0,\n",
       " 0,\n",
       " 0,\n",
       " 0,\n",
       " 0,\n",
       " 0,\n",
       " 0,\n",
       " 0,\n",
       " 0,\n",
       " 0,\n",
       " 0,\n",
       " 0]"
      ]
     },
     "execution_count": 10,
     "metadata": {},
     "output_type": "execute_result"
    }
   ],
   "source": [
    "num_children = [0] * 29\n",
    "num_children[11] = 28\n",
    "num_children"
   ]
  },
  {
   "cell_type": "code",
   "execution_count": 100,
   "metadata": {},
   "outputs": [],
   "source": []
  },
  {
   "cell_type": "code",
   "execution_count": 82,
   "metadata": {},
   "outputs": [
    {
     "data": {
      "text/plain": [
       "32400"
      ]
     },
     "execution_count": 82,
     "metadata": {},
     "output_type": "execute_result"
    }
   ],
   "source": [
    "180**2"
   ]
  },
  {
   "cell_type": "code",
   "execution_count": 29,
   "metadata": {},
   "outputs": [],
   "source": [
    "import random"
   ]
  },
  {
   "cell_type": "code",
   "execution_count": 101,
   "metadata": {},
   "outputs": [],
   "source": [
    "oya_list=[11,11,11,11,11,11,11,11,11,11,11,-1,11,11,11,11,11,11,11,11,11,\n",
    "          11,11,11,11,11,11,11,11]"
   ]
  },
  {
   "cell_type": "code",
   "execution_count": 116,
   "metadata": {},
   "outputs": [
    {
     "name": "stdout",
     "output_type": "stream",
     "text": [
      "2 : 11 --> 4\n"
     ]
    }
   ],
   "source": [
    "without11 = [num for num in range(29)]\n",
    "without11.remove(11)\n",
    "idx = random.choice(without11)\n",
    "idx = 2\n",
    "# print('selected_idx = ', idx)\n",
    "# print('origin_cost=', np.sum([calc_cost2parent(i)*(num_c+1) for i, num_c in enumerate(num_children)]))\n",
    "\n",
    "table = [num for num in range(29)]\n",
    "cost_min = float('inf')\n",
    "idx_min = -1\n",
    "for p_new in table:\n",
    "    if p_new == idx:\n",
    "        continue\n",
    "    oya_list_ = oya_list[::]\n",
    "    num_children_ = num_children[::]\n",
    "    g_ = g.copy()\n",
    "    p_old = oya_list[idx]\n",
    "    \n",
    "    g_.remove_edge(idx, oya_list[idx])\n",
    "    g_.add_edge(idx, p_new)\n",
    "    if not nx.is_tree(g_):\n",
    "        continue\n",
    "    oya_list_[idx] = p_new\n",
    "    num_children_[p_old] -= num_children[idx]+1\n",
    "    num_children_[p_new] += num_children[idx]+1\n",
    "        \n",
    "    cost = np.sum([calc_cost2parent(i)*(num_c+1) for i, num_c in enumerate(num_children_)])\n",
    "    if cost < cost_min:\n",
    "        cost_min = cost\n",
    "        idx_min = p_new\n",
    "print(idx, ':', p_old, '-->', idx_min)\n",
    "p_new = idx_min\n",
    "g.remove_edge(idx, oya_list[idx])\n",
    "g.add_edge(idx, p_new)\n",
    "oya_list[idx] = p_new\n",
    "num_children[p_old] -= num_children[idx]+1\n",
    "num_children[p_new] += num_children[idx]+1"
   ]
  },
  {
   "cell_type": "code",
   "execution_count": 62,
   "metadata": {},
   "outputs": [],
   "source": []
  },
  {
   "cell_type": "code",
   "execution_count": 63,
   "metadata": {},
   "outputs": [],
   "source": [
    "g_.remove_edge(idx, oya_list[idx])\n",
    "g_.add_edge(idx, new_parent)"
   ]
  },
  {
   "cell_type": "code",
   "execution_count": 118,
   "metadata": {
    "scrolled": true
   },
   "outputs": [
    {
     "data": {
      "image/png": "[encoded data removed]",
      "text/plain": [
       "<Figure size 432x288 with 1 Axes>"
      ]
     },
     "metadata": {},
     "output_type": "display_data"
    }
   ],
   "source": [
    "nx.draw_networkx(g, pos)\n",
    "plt.show()"
   ]
  },
  {
   "cell_type": "code",
   "execution_count": 70,
   "metadata": {},
   "outputs": [
    {
     "data": {
      "text/plain": [
       "{0,\n",
       " 1,\n",
       " 3,\n",
       " 4,\n",
       " 5,\n",
       " 6,\n",
       " 7,\n",
       " 8,\n",
       " 9,\n",
       " 10,\n",
       " 11,\n",
       " 12,\n",
       " 13,\n",
       " 14,\n",
       " 15,\n",
       " 16,\n",
       " 17,\n",
       " 18,\n",
       " 19,\n",
       " 20,\n",
       " 21,\n",
       " 22,\n",
       " 23,\n",
       " 24,\n",
       " 25,\n",
       " 26,\n",
       " 27,\n",
       " 28}"
      ]
     },
     "execution_count": 70,
     "metadata": {},
     "output_type": "execute_result"
    }
   ],
   "source": [
    "nx.descendants(g_, 2)"
   ]
  },
  {
   "cell_type": "code",
   "execution_count": null,
   "metadata": {},
   "outputs": [],
   "source": []
  },
  {
   "cell_type": "code",
   "execution_count": null,
   "metadata": {},
   "outputs": [],
   "source": []
  },
  {
   "cell_type": "code",
   "execution_count": 212,
   "metadata": {},
   "outputs": [],
   "source": [
    "import matplotlib.pyplot as plt\n",
    "import networkx as nx\n",
    "import numpy as np\n",
    "import random\n",
    "\n",
    "def calc_cost2parent(node_idx, oya_list):\n",
    "    if node_idx == 11:\n",
    "        return 0\n",
    "    return (x_list[node_idx] - x_list[oya_list[node_idx]])**2 + (y_list[node_idx] - y_list[oya_list[node_idx]])**2\n",
    "\n",
    "def renew_num_children(idx, p_old, p_new, num_children, oya_list):\n",
    "    idx_ = idx\n",
    "    num_children[p_old] -= num_children[idx_]+1\n",
    "#     print(num_children)\n",
    "    while(True):\n",
    "#         idx_ = p_old\n",
    "        p_old = oya_list[p_old]\n",
    "        if p_old == -1:\n",
    "            break\n",
    "        num_children[p_old] -= num_children[idx_]+1\n",
    "#     print(num_children)\n",
    "    idx_ = idx\n",
    "    num_children[p_new] += num_children[idx_]+1\n",
    "    while(True):\n",
    "#         idx_ = p_new\n",
    "        p_new = oya_list[p_new]\n",
    "        if p_new == -1:\n",
    "            break\n",
    "        num_children[p_new] += num_children[idx_]+1\n",
    "#     print(num_children)\n",
    "    return\n",
    "\n",
    "def main(K=1000, debug=False):\n",
    "\n",
    "    #ノードのx座標リスト．例えば0番のノードのx座標はx_list[0]となる．\n",
    "    x_list=[115,63,40,75,75,103,165,149,79,71,84,117,97,51,75,128,23,46,104,59,\n",
    "            83,49,184,126,128,49,146,126,36]\n",
    "\n",
    "    #ノードのy座標リスト．例えば0番のノードのy座標はy_list[0]となる．\n",
    "    y_list=[176,166,189,110,203,207,65,163,226,131,55,230,134,90,90,120,59,126,\n",
    "            95,139,177,50,124,150,79,213,142,191,158]\n",
    "\n",
    "    #各ノードの送信先ノード番号のリスト．木構造で言うところの親ノードの番号．\n",
    "    #初期値は全ノードは木構造のルートである11番のノードに接続されている．\n",
    "    #ルートである11番の親は存在しないので-1を格納．\n",
    "    oya_list=[11,11,11,11,11,11,11,11,11,11,11,-1,11,11,11,11,11,11,11,11,11,\n",
    "              11,11,11,11,11,11,11,11]\n",
    "\n",
    "    g = nx.Graph()\n",
    "\n",
    "    #ノード番号を定義\n",
    "    g.add_nodes_from([0, 1, 2, 3, 4, 5, 6, 7, 8, 9, 10, \n",
    "                      11, 12, 13, 14, 15, 16, 17, 18, 19, \n",
    "                      20, 21, 22, 23, 24, 25, 26, 27, 28])\n",
    "    g.add_edges_from([\n",
    "        (0, oya_list[0]),\n",
    "        (1, oya_list[1]),\n",
    "        (2, oya_list[2]),\n",
    "        (3, oya_list[3]),\n",
    "        (4, oya_list[4]),\n",
    "        (5, oya_list[5]),\n",
    "        (6, oya_list[6]),\n",
    "        (7, oya_list[7]),\n",
    "        (8, oya_list[8]),\n",
    "        (9, oya_list[9]),\n",
    "        (10, oya_list[10]),\n",
    "    #    (11, oya_list[11]),\n",
    "        (12, oya_list[12]),\n",
    "        (13, oya_list[13]),\n",
    "        (14, oya_list[14]),\n",
    "        (15, oya_list[15]),\n",
    "        (16, oya_list[16]),\n",
    "        (17, oya_list[17]),\n",
    "        (18, oya_list[18]),\n",
    "        (19, oya_list[19]),\n",
    "        (20, oya_list[20]),\n",
    "        (21, oya_list[21]),\n",
    "        (22, oya_list[22]),\n",
    "        (23, oya_list[23]),\n",
    "        (24, oya_list[24]),\n",
    "        (25, oya_list[25]),\n",
    "        (26, oya_list[26]),\n",
    "        (27, oya_list[27]),\n",
    "        (28, oya_list[28])\n",
    "    ])\n",
    "    num_children = [0] * 29\n",
    "    num_children[11] = 28\n",
    "\n",
    "#     K = 10000\n",
    "    for k in range(K):\n",
    "        without11 = [num for num in range(29)]\n",
    "        without11.remove(11)\n",
    "        idx = random.choice(without11)\n",
    "        # idx = 2\n",
    "        # print('selected_idx = ', idx)\n",
    "        origin_cost = np.sum([calc_cost2parent(i, oya_list)*(num_c+1) for i, num_c in enumerate(num_children)])\n",
    "        if k % 1000 == 0:\n",
    "            print('k =', k, ', cost=', origin_cost)\n",
    "\n",
    "        table = [num for num in range(29)]\n",
    "        cost_min = float('inf')\n",
    "        idx_min = -1\n",
    "        for p_new in table:\n",
    "            if p_new == idx:\n",
    "                continue\n",
    "            oya_list_ = oya_list[::]\n",
    "            num_children_ = num_children[::]\n",
    "            g_ = g.copy()\n",
    "            p_old = oya_list[idx]\n",
    "\n",
    "            g_.remove_edge(idx, oya_list[idx])\n",
    "            g_.add_edge(idx, p_new)\n",
    "            if not nx.is_tree(g_):\n",
    "                continue\n",
    "            oya_list_[idx] = p_new\n",
    "            renew_num_children(idx, p_old, p_new, num_children_, oya_list)\n",
    "\n",
    "            cost = np.sum([calc_cost2parent(i, oya_list_)*(num_c+1) for i, num_c in enumerate(num_children_)])\n",
    "            if cost < cost_min:\n",
    "                cost_min = cost\n",
    "                idx_min = p_new\n",
    "        if p_old != idx_min and debug:\n",
    "            print(idx, ':', p_old, '-->', idx_min)\n",
    "            print('cost: ', origin_cost, '-->', cost_min)\n",
    "        p_new = idx_min\n",
    "        g.remove_edge(idx, oya_list[idx])\n",
    "        g.add_edge(idx, p_new)\n",
    "        oya_list[idx] = p_new\n",
    "        renew_num_children(idx, p_old, p_new, num_children, oya_list)\n",
    "        \n",
    "        if(debug):\n",
    "            print(num_children)\n",
    "\n",
    "\n",
    "    #エッジの描画設定．各ノードとその親ノードを結ぶ線分を描画．\n",
    "\n",
    "\n",
    "\n",
    "    #ノードの描画設定．各ノードのx座標とy座標に基づいた点を描画．\n",
    "    pos = {\n",
    "        0: (x_list[0], y_list[0]),\n",
    "        1: (x_list[1], y_list[1]),\n",
    "        2: (x_list[2], y_list[2]),\n",
    "        3: (x_list[3], y_list[3]),\n",
    "        4: (x_list[4], y_list[4]),\n",
    "        5: (x_list[5], y_list[5]),\n",
    "        6: (x_list[6], y_list[6]),\n",
    "        7: (x_list[7], y_list[7]),\n",
    "        8: (x_list[8], y_list[8]),\n",
    "        9: (x_list[9], y_list[9]),\n",
    "        10: (x_list[10], y_list[10]),\n",
    "        11: (x_list[11], y_list[11]),\n",
    "        12: (x_list[12], y_list[12]),\n",
    "        13: (x_list[13], y_list[13]),\n",
    "        14: (x_list[14], y_list[14]),\n",
    "        15: (x_list[15], y_list[15]),\n",
    "        16: (x_list[16], y_list[16]),\n",
    "        17: (x_list[17], y_list[17]),\n",
    "        18: (x_list[18], y_list[18]),\n",
    "        19: (x_list[19], y_list[19]),\n",
    "        20: (x_list[20], y_list[20]),\n",
    "        21: (x_list[21], y_list[21]),\n",
    "        22: (x_list[22], y_list[22]),\n",
    "        23: (x_list[23], y_list[23]),\n",
    "        24: (x_list[24], y_list[24]),\n",
    "        25: (x_list[25], y_list[25]),\n",
    "        26: (x_list[26], y_list[26]),\n",
    "        27: (x_list[27], y_list[27]),\n",
    "        28: (x_list[28], y_list[28]),\n",
    "    }\n",
    "\n",
    "    nx.draw_networkx(g, pos)\n",
    "    plt.show()"
   ]
  },
  {
   "cell_type": "code",
   "execution_count": null,
   "metadata": {},
   "outputs": [],
   "source": []
  },
  {
   "cell_type": "code",
   "execution_count": 214,
   "metadata": {
    "scrolled": false
   },
   "outputs": [
    {
     "name": "stdout",
     "output_type": "stream",
     "text": [
      "k = 0 , cost= 381149\n",
      "k = 1000 , cost= 100121\n",
      "k = 2000 , cost= 100121\n",
      "k = 3000 , cost= 100121\n"
     ]
    },
    {
     "data": {
      "image/png": "[encoded data removed]",
      "text/plain": [
       "<Figure size 432x288 with 1 Axes>"
      ]
     },
     "metadata": {},
     "output_type": "display_data"
    }
   ],
   "source": [
    "main(K=3001, debug=False)"
   ]
  },
  {
   "cell_type": "code",
   "execution_count": null,
   "metadata": {},
   "outputs": [],
   "source": []
  },
  {
   "cell_type": "code",
   "execution_count": 137,
   "metadata": {},
   "outputs": [
    {
     "data": {
      "text/plain": [
       "[27,\n",
       " 19,\n",
       " 25,\n",
       " 9,\n",
       " 5,\n",
       " 11,\n",
       " 24,\n",
       " 26,\n",
       " 4,\n",
       " 19,\n",
       " 0,\n",
       " -1,\n",
       " 9,\n",
       " 14,\n",
       " 3,\n",
       " 0,\n",
       " 13,\n",
       " 28,\n",
       " 14,\n",
       " 17,\n",
       " 1,\n",
       " 13,\n",
       " 26,\n",
       " 0,\n",
       " 18,\n",
       " 4,\n",
       " 23,\n",
       " 5,\n",
       " 2]"
      ]
     },
     "execution_count": 137,
     "metadata": {},
     "output_type": "execute_result"
    }
   ],
   "source": [
    "def renew_num_children(idx, p_old, p_new, num_children, oya_list):\n",
    "    idx_ = idx\n",
    "    num_children[p_old] -= num_children[idx_]\n",
    "    while(True):\n",
    "        idx_ = p_old\n",
    "        p_old = oya_list[p_old]\n",
    "        num_children[p_old] -= num_children[idx_]\n",
    "        if p_old == -1:\n",
    "            break\n",
    "    idx_ = idx\n",
    "    num_children[p_new] += num_children[idx_]\n",
    "    while(True):\n",
    "        idx_ = p_new\n",
    "        p_new = oya_list[p_new]\n",
    "        num_children[p_new] += num_children[idx_]\n",
    "        if p_new == -1:\n",
    "            break\n",
    "    return"
   ]
  },
  {
   "cell_type": "code",
   "execution_count": 147,
   "metadata": {},
   "outputs": [],
   "source": [
    "def aa(a):\n",
    "    a+=1\n",
    "    return a"
   ]
  },
  {
   "cell_type": "code",
   "execution_count": 148,
   "metadata": {},
   "outputs": [
    {
     "data": {
      "text/plain": [
       "0"
      ]
     },
     "execution_count": 148,
     "metadata": {},
     "output_type": "execute_result"
    }
   ],
   "source": [
    "a = 0\n",
    "aa(a)\n",
    "a"
   ]
  },
  {
   "cell_type": "code",
   "execution_count": 216,
   "metadata": {},
   "outputs": [],
   "source": [
    "import matplotlib.pyplot as plt\n",
    "import networkx as nx\n",
    "import numpy as np\n",
    "import random\n",
    "\n",
    "def calc_cost2parent(node_idx, oya_list):\n",
    "    if node_idx == 11:\n",
    "        return 0\n",
    "    return (x_list[node_idx] - x_list[oya_list[node_idx]])**2 + (y_list[node_idx] - y_list[oya_list[node_idx]])**2\n",
    "\n",
    "def renew_num_children(idx, p_old, p_new, num_children, oya_list):\n",
    "    idx_ = idx\n",
    "    num_children[p_old] -= num_children[idx_]+1\n",
    "#     print(num_children)\n",
    "    while(True):\n",
    "#         idx_ = p_old\n",
    "        p_old = oya_list[p_old]\n",
    "        if p_old == -1:\n",
    "            break\n",
    "        num_children[p_old] -= num_children[idx_]+1\n",
    "#     print(num_children)\n",
    "    idx_ = idx\n",
    "    num_children[p_new] += num_children[idx_]+1\n",
    "    while(True):\n",
    "#         idx_ = p_new\n",
    "        p_new = oya_list[p_new]\n",
    "        if p_new == -1:\n",
    "            break\n",
    "        num_children[p_new] += num_children[idx_]+1\n",
    "#     print(num_children)\n",
    "    return\n",
    "\n",
    "def main(K=1000, debug=False):\n",
    "\n",
    "    #ノードのx座標リスト．例えば0番のノードのx座標はx_list[0]となる．\n",
    "    x_list=[115,63,40,75,75,103,165,149,79,71,84,117,97,51,75,128,23,46,104,59,\n",
    "            83,49,184,126,128,49,146,126,36]\n",
    "\n",
    "    #ノードのy座標リスト．例えば0番のノードのy座標はy_list[0]となる．\n",
    "    y_list=[176,166,189,110,203,207,65,163,226,131,55,230,134,90,90,120,59,126,\n",
    "            95,139,177,50,124,150,79,213,142,191,158]\n",
    "\n",
    "    #各ノードの送信先ノード番号のリスト．木構造で言うところの親ノードの番号．\n",
    "    #初期値は全ノードは木構造のルートである11番のノードに接続されている．\n",
    "    #ルートである11番の親は存在しないので-1を格納．\n",
    "    oya_list=[11,11,11,11,11,11,11,11,11,11,11,-1,11,11,11,11,11,11,11,11,11,\n",
    "              11,11,11,11,11,11,11,11]\n",
    "\n",
    "    g = nx.Graph()\n",
    "\n",
    "    #ノード番号を定義\n",
    "    g.add_nodes_from([0, 1, 2, 3, 4, 5, 6, 7, 8, 9, 10, \n",
    "                      11, 12, 13, 14, 15, 16, 17, 18, 19, \n",
    "                      20, 21, 22, 23, 24, 25, 26, 27, 28])\n",
    "    g.add_edges_from([\n",
    "        (0, oya_list[0]),\n",
    "        (1, oya_list[1]),\n",
    "        (2, oya_list[2]),\n",
    "        (3, oya_list[3]),\n",
    "        (4, oya_list[4]),\n",
    "        (5, oya_list[5]),\n",
    "        (6, oya_list[6]),\n",
    "        (7, oya_list[7]),\n",
    "        (8, oya_list[8]),\n",
    "        (9, oya_list[9]),\n",
    "        (10, oya_list[10]),\n",
    "    #    (11, oya_list[11]),\n",
    "        (12, oya_list[12]),\n",
    "        (13, oya_list[13]),\n",
    "        (14, oya_list[14]),\n",
    "        (15, oya_list[15]),\n",
    "        (16, oya_list[16]),\n",
    "        (17, oya_list[17]),\n",
    "        (18, oya_list[18]),\n",
    "        (19, oya_list[19]),\n",
    "        (20, oya_list[20]),\n",
    "        (21, oya_list[21]),\n",
    "        (22, oya_list[22]),\n",
    "        (23, oya_list[23]),\n",
    "        (24, oya_list[24]),\n",
    "        (25, oya_list[25]),\n",
    "        (26, oya_list[26]),\n",
    "        (27, oya_list[27]),\n",
    "        (28, oya_list[28])\n",
    "    ])\n",
    "    num_children = [0] * 29\n",
    "    num_children[11] = 28\n",
    "\n",
    "    update_cnt = 0\n",
    "    for k in range(K):\n",
    "        without11 = [num for num in range(29)]\n",
    "        without11.remove(11)\n",
    "        idx = random.choice(without11)\n",
    "        # idx = 2\n",
    "        # print('selected_idx = ', idx)\n",
    "        origin_cost = np.sum([calc_cost2parent(i, oya_list)*(num_c+1) for i, num_c in enumerate(num_children)])\n",
    "        if k % 50 == 0:\n",
    "            print('k =', k, ', cost=', origin_cost)\n",
    "\n",
    "        table = [num for num in range(29)]\n",
    "        cost_min = float('inf')\n",
    "        idx_min = -1\n",
    "        for p_new in table:\n",
    "            if p_new == idx:\n",
    "                continue\n",
    "            oya_list_ = oya_list[::]\n",
    "            num_children_ = num_children[::]\n",
    "            g_ = g.copy()\n",
    "            p_old = oya_list[idx]\n",
    "\n",
    "            g_.remove_edge(idx, oya_list[idx])\n",
    "            g_.add_edge(idx, p_new)\n",
    "            if not nx.is_tree(g_):\n",
    "                continue\n",
    "            oya_list_[idx] = p_new\n",
    "            renew_num_children(idx, p_old, p_new, num_children_, oya_list)\n",
    "\n",
    "            cost = np.sum([calc_cost2parent(i, oya_list_)*(num_c+1) for i, num_c in enumerate(num_children_)])\n",
    "            if cost < cost_min:\n",
    "                cost_min = cost\n",
    "                idx_min = p_new\n",
    "        if p_old != idx_min:\n",
    "            update_cnt += 1\n",
    "            if debug:\n",
    "                print(idx, ':', p_old, '-->', idx_min)\n",
    "                print('cost: ', origin_cost, '-->', cost_min)\n",
    "        p_new = idx_min\n",
    "        g.remove_edge(idx, oya_list[idx])\n",
    "        g.add_edge(idx, p_new)\n",
    "        oya_list[idx] = p_new\n",
    "        renew_num_children(idx, p_old, p_new, num_children, oya_list)\n",
    "        \n",
    "        if(debug):\n",
    "            print(num_children)\n",
    "\n",
    "\n",
    "    #エッジの描画設定．各ノードとその親ノードを結ぶ線分を描画．\n",
    "\n",
    "\n",
    "\n",
    "    #ノードの描画設定．各ノードのx座標とy座標に基づいた点を描画．\n",
    "    pos = {\n",
    "        0: (x_list[0], y_list[0]),\n",
    "        1: (x_list[1], y_list[1]),\n",
    "        2: (x_list[2], y_list[2]),\n",
    "        3: (x_list[3], y_list[3]),\n",
    "        4: (x_list[4], y_list[4]),\n",
    "        5: (x_list[5], y_list[5]),\n",
    "        6: (x_list[6], y_list[6]),\n",
    "        7: (x_list[7], y_list[7]),\n",
    "        8: (x_list[8], y_list[8]),\n",
    "        9: (x_list[9], y_list[9]),\n",
    "        10: (x_list[10], y_list[10]),\n",
    "        11: (x_list[11], y_list[11]),\n",
    "        12: (x_list[12], y_list[12]),\n",
    "        13: (x_list[13], y_list[13]),\n",
    "        14: (x_list[14], y_list[14]),\n",
    "        15: (x_list[15], y_list[15]),\n",
    "        16: (x_list[16], y_list[16]),\n",
    "        17: (x_list[17], y_list[17]),\n",
    "        18: (x_list[18], y_list[18]),\n",
    "        19: (x_list[19], y_list[19]),\n",
    "        20: (x_list[20], y_list[20]),\n",
    "        21: (x_list[21], y_list[21]),\n",
    "        22: (x_list[22], y_list[22]),\n",
    "        23: (x_list[23], y_list[23]),\n",
    "        24: (x_list[24], y_list[24]),\n",
    "        25: (x_list[25], y_list[25]),\n",
    "        26: (x_list[26], y_list[26]),\n",
    "        27: (x_list[27], y_list[27]),\n",
    "        28: (x_list[28], y_list[28]),\n",
    "    }\n",
    "\n",
    "    nx.draw_networkx(g, pos)\n",
    "    plt.show()\n",
    "    print('update_cnt:', update_cnt)"
   ]
  },
  {
   "cell_type": "code",
   "execution_count": 218,
   "metadata": {},
   "outputs": [
    {
     "name": "stdout",
     "output_type": "stream",
     "text": [
      "k = 0 , cost= 381149\n",
      "k = 50 , cost= 142527\n",
      "k = 100 , cost= 113781\n",
      "k = 150 , cost= 100175\n",
      "k = 200 , cost= 100121\n",
      "k = 250 , cost= 100121\n",
      "k = 300 , cost= 100121\n",
      "k = 350 , cost= 100121\n",
      "k = 400 , cost= 100121\n",
      "k = 450 , cost= 100121\n",
      "k = 500 , cost= 100121\n",
      "k = 550 , cost= 100121\n",
      "k = 600 , cost= 100121\n",
      "k = 650 , cost= 100121\n",
      "k = 700 , cost= 100121\n",
      "k = 750 , cost= 100121\n",
      "k = 800 , cost= 100121\n",
      "k = 850 , cost= 100121\n",
      "k = 900 , cost= 100121\n",
      "k = 950 , cost= 100121\n"
     ]
    },
    {
     "data": {
      "image/png": "[encoded data removed]",
      "text/plain": [
       "<Figure size 432x288 with 1 Axes>"
      ]
     },
     "metadata": {},
     "output_type": "display_data"
    },
    {
     "name": "stdout",
     "output_type": "stream",
     "text": [
      "update_cnt: 45\n"
     ]
    }
   ],
   "source": [
    "main(K=1000, debug=False)"
   ]
  },
  {
   "cell_type": "code",
   "execution_count": 219,
   "metadata": {},
   "outputs": [
    {
     "name": "stdout",
     "output_type": "stream",
     "text": [
      "k = 0 , cost= 381149\n",
      "k = 50 , cost= 152799\n",
      "k = 100 , cost= 103611\n",
      "k = 150 , cost= 100825\n",
      "k = 200 , cost= 100121\n",
      "k = 250 , cost= 100121\n",
      "k = 300 , cost= 100121\n",
      "k = 350 , cost= 100121\n",
      "k = 400 , cost= 100121\n",
      "k = 450 , cost= 100121\n",
      "k = 500 , cost= 100121\n",
      "k = 550 , cost= 100121\n",
      "k = 600 , cost= 100121\n",
      "k = 650 , cost= 100121\n",
      "k = 700 , cost= 100121\n",
      "k = 750 , cost= 100121\n",
      "k = 800 , cost= 100121\n",
      "k = 850 , cost= 100121\n",
      "k = 900 , cost= 100121\n",
      "k = 950 , cost= 100121\n"
     ]
    },
    {
     "data": {
      "image/png": "[encoded data removed]",
      "text/plain": [
       "<Figure size 432x288 with 1 Axes>"
      ]
     },
     "metadata": {},
     "output_type": "display_data"
    },
    {
     "name": "stdout",
     "output_type": "stream",
     "text": [
      "update_cnt: 42\n"
     ]
    }
   ],
   "source": [
    "main(K=1000, debug=False)"
   ]
  },
  {
   "cell_type": "code",
   "execution_count": null,
   "metadata": {},
   "outputs": [],
   "source": []
  }
 ],
 "metadata": {
  "kernelspec": {
   "display_name": "Python 3",
   "language": "python",
   "name": "python3"
  },
  "language_info": {
   "codemirror_mode": {
    "name": "ipython",
    "version": 3
   },
   "file_extension": ".py",
   "mimetype": "text/x-python",
   "name": "python",
   "nbconvert_exporter": "python",
   "pygments_lexer": "ipython3",
   "version": "3.6.12"
  }
 },
 "nbformat": 4,
 "nbformat_minor": 4
}

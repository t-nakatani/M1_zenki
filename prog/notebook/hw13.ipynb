{
 "cells": [
  {
   "cell_type": "code",
   "execution_count": 17,
   "id": "db4e7a9d",
   "metadata": {},
   "outputs": [],
   "source": [
    "import numpy as np"
   ]
  },
  {
   "cell_type": "code",
   "execution_count": 36,
   "id": "8b1da1ae",
   "metadata": {},
   "outputs": [
    {
     "name": "stderr",
     "output_type": "stream",
     "text": [
      "/Users/nakatani/.pyenv/versions/anaconda3-5.3.0/envs/m1/lib/python3.7/site-packages/deap/creator.py:141: RuntimeWarning: A class named 'FitnessMin' has already been created and it will be overwritten. Consider deleting previous creation of that class or rename it.\n",
      "  RuntimeWarning)\n",
      "/Users/nakatani/.pyenv/versions/anaconda3-5.3.0/envs/m1/lib/python3.7/site-packages/deap/creator.py:141: RuntimeWarning: A class named 'Individual' has already been created and it will be overwritten. Consider deleting previous creation of that class or rename it.\n",
      "  RuntimeWarning)\n"
     ]
    }
   ],
   "source": [
    "import array\n",
    "import random\n",
    "\n",
    "from deap import base\n",
    "from deap import creator\n",
    "from deap import tools\n",
    "\n",
    "creator.create(\"FitnessMin\", base.Fitness, weights=(-1.0,))\n",
    "creator.create(\"Individual\", array.array, typecode=\"d\",\n",
    "               fitness=creator.FitnessMin, strategy=None)\n",
    "creator.create(\"Strategy\", array.array, typecode=\"d\")\n",
    "\n",
    "def initES(icls, scls, size, imin, imax, smin, smax):\n",
    "    ind = icls(random.uniform(imin, imax) for _ in range(size))\n",
    "    ind.strategy = scls(random.uniform(smin, smax) for _ in range(size))\n",
    "    return ind\n",
    "\n",
    "IND_SIZE = 10\n",
    "MIN_VALUE, MAX_VALUE = -5., 5.\n",
    "MIN_STRAT, MAX_STRAT = -1., 1. \n",
    "\n",
    "toolbox = base.Toolbox()\n",
    "toolbox.register(\"individual\", initES, creator.Individual,\n",
    "                 creator.Strategy, IND_SIZE, MIN_VALUE, MAX_VALUE, MIN_STRAT, \n",
    "                 MAX_STRAT)"
   ]
  },
  {
   "cell_type": "code",
   "execution_count": 21,
   "id": "43745a37",
   "metadata": {},
   "outputs": [],
   "source": [
    "import random\n",
    "from deap import creator, base, tools, algorithms\n",
    "\n",
    "creator.create(\"FitnessMax\", base.Fitness, weights=(1.0,))\n",
    "creator.create(\"Individual\", list, fitness=creator.FitnessMax)\n",
    "\n",
    "toolbox = base.Toolbox()\n",
    "\n",
    "toolbox.register(\"attr_bool\", random.randint, 0, 1)\n",
    "toolbox.register(\"individual\", tools.initRepeat, creator.Individual, toolbox.attr_bool, n=100)\n",
    "toolbox.register(\"population\", tools.initRepeat, list, toolbox.individual)\n",
    "\n",
    "def evalOneMax(individual):\n",
    "    return sum(individual),\n",
    "\n",
    "toolbox.register(\"evaluate\", evalOneMax)\n",
    "toolbox.register(\"mate\", tools.cxTwoPoint)\n",
    "toolbox.register(\"mutate\", tools.mutFlipBit, indpb=0.05)\n",
    "toolbox.register(\"select\", tools.selTournament, tournsize=3)\n",
    "\n",
    "population = toolbox.population(n=300)\n",
    "\n",
    "NGEN=40\n",
    "for gen in range(NGEN):\n",
    "    offspring = algorithms.varAnd(population, toolbox, cxpb=0.5, mutpb=0.1)\n",
    "    fits = toolbox.map(toolbox.evaluate, offspring)\n",
    "    for fit, ind in zip(fits, offspring):\n",
    "        ind.fitness.values = fit\n",
    "    population = toolbox.select(offspring, k=len(population))\n",
    "top10 = tools.selBest(population, k=10)"
   ]
  },
  {
   "cell_type": "code",
   "execution_count": 33,
   "id": "415f4bd7",
   "metadata": {
    "scrolled": false
   },
   "outputs": [
    {
     "name": "stdout",
     "output_type": "stream",
     "text": [
      "population: (300, 100)\n",
      "top10: (10, 100)\n",
      "individual: (100,)\n",
      "offspring: (300, 100)\n"
     ]
    }
   ],
   "source": [
    "print(f'population: {np.array(population).shape}')\n",
    "print(f'top10: {np.array(top10).shape}')\n",
    "print(f'individual: {np.array(tools.initRepeat(creator.Individual, toolbox.attr_bool, n=100)).shape}')\n",
    "print(f'offspring: {np.array(offspring).shape}')\n"
   ]
  },
  {
   "cell_type": "code",
   "execution_count": 35,
   "id": "8dbe7f00",
   "metadata": {},
   "outputs": [
    {
     "data": {
      "text/plain": [
       "<deap.base.Toolbox at 0x7fd0a00f7690>"
      ]
     },
     "execution_count": 35,
     "metadata": {},
     "output_type": "execute_result"
    }
   ],
   "source": [
    "toolbox"
   ]
  },
  {
   "cell_type": "markdown",
   "id": "ad85f707",
   "metadata": {},
   "source": [
    "## ↓これが最終のソースコード"
   ]
  },
  {
   "cell_type": "code",
   "execution_count": 5,
   "id": "d8803c0c",
   "metadata": {
    "scrolled": false
   },
   "outputs": [
    {
     "name": "stdout",
     "output_type": "stream",
     "text": [
      "[1 0 1 1 0 1 0 0 1 1 0 1 1 0 0 0 1 0 0 1] 10\n",
      "[1 1 0 1 0 1 0 0 0 1 1 1 0 1 1 1 1 0 1 1] 13\n",
      "[1 1 0 1 0 1 0 0 0 1 1 1 0 1 1 1 1 0 1 1] 13\n",
      "[1 1 0 1 1 1 1 0 1 1 1 1 1 0 0 0 1 0 1 1] 14\n",
      "[1 1 0 1 1 1 1 0 1 1 1 1 1 0 0 0 1 0 1 1] 14\n",
      "[1 1 0 1 1 1 1 0 1 1 1 1 1 0 0 0 1 0 1 1] 14\n",
      "[1 0 1 1 1 1 1 1 0 1 1 0 1 1 1 1 1 0 0 1] 15\n",
      "[1 0 1 1 1 1 1 1 0 1 1 0 1 1 1 1 1 0 0 1] 15\n",
      "[1 0 1 1 1 1 1 1 0 1 1 0 1 1 1 1 1 0 0 1] 15\n",
      "[1 0 1 1 1 1 1 1 0 1 1 0 1 1 1 1 1 0 0 1] 15\n",
      "[1 0 1 1 1 1 1 1 0 1 1 0 1 1 1 1 1 0 0 1] 15\n",
      "[1 0 1 1 1 1 1 1 0 1 1 0 1 1 1 1 1 0 0 1] 15\n",
      "[1 0 1 1 1 1 1 1 0 1 1 0 1 1 1 1 1 0 0 1] 15\n",
      "[1 0 1 1 1 1 1 1 0 1 1 0 1 1 1 1 1 0 0 1] 15\n",
      "[1 0 1 1 1 1 1 1 0 1 1 0 1 1 1 1 1 0 0 1] 15\n",
      "[1 0 1 1 1 1 1 1 0 1 1 0 1 1 1 1 1 0 0 1] 15\n",
      "[1 0 1 1 1 1 1 1 0 1 1 0 1 1 1 1 1 0 0 1] 15\n",
      "[1 0 1 1 1 1 1 1 0 1 1 0 1 1 1 1 1 0 0 1] 15\n",
      "[0 1 1 1 1 1 0 1 1 0 1 1 1 1 1 1 1 1 1 0] 16\n",
      "[0 1 1 1 1 1 0 1 1 0 1 1 1 1 1 1 1 1 1 0] 16\n",
      "[0 1 1 1 1 1 0 1 1 0 1 1 1 1 1 1 1 1 1 0] 16\n",
      "[0 1 1 1 1 1 0 1 1 0 1 1 1 1 1 1 1 1 1 0] 16\n",
      "[0 1 1 1 1 1 0 1 1 0 1 1 1 1 1 1 1 1 1 0] 16\n",
      "[0 1 1 1 1 1 0 1 1 0 1 1 1 1 1 1 1 1 1 0] 16\n",
      "[0 1 1 1 1 1 0 1 1 0 1 1 1 1 1 1 1 1 1 0] 16\n",
      "[0 1 1 1 1 1 0 1 1 0 1 1 1 1 1 1 1 1 1 0] 16\n",
      "[0 1 1 1 1 1 0 1 1 0 1 1 1 1 1 1 1 1 1 0] 16\n",
      "[0 1 1 1 1 1 0 1 1 0 1 1 1 1 1 1 1 1 1 0] 16\n",
      "[0 1 1 1 1 1 0 1 1 0 1 1 1 1 1 1 1 1 1 0] 16\n",
      "[0 1 1 1 1 1 0 1 1 0 1 1 1 1 1 1 1 1 1 0] 16\n",
      "[0 1 1 1 1 1 0 1 1 0 1 1 1 1 1 1 1 1 1 0] 16\n",
      "[0 1 1 1 1 1 0 1 1 0 1 1 1 1 1 1 1 1 1 0] 16\n",
      "[0 1 1 1 1 1 0 1 1 0 1 1 1 1 1 1 1 1 1 0] 16\n",
      "[0 1 1 1 1 1 0 1 1 0 1 1 1 1 1 1 1 1 1 0] 16\n",
      "[0 1 1 1 1 1 0 1 1 0 1 1 1 1 1 1 1 1 1 0] 16\n",
      "[0 1 1 1 1 1 0 1 1 0 1 1 1 1 1 1 1 1 1 0] 16\n",
      "[0 1 1 1 1 1 0 1 1 0 1 1 1 1 1 1 1 1 1 0] 16\n",
      "[0 1 1 1 1 1 0 1 1 0 1 1 1 1 1 1 1 1 1 0] 16\n",
      "[0 1 1 1 1 1 0 1 1 0 1 1 1 1 1 1 1 1 1 0] 16\n",
      "[0 1 1 1 1 1 0 1 1 0 1 1 1 1 1 1 1 1 1 0] 16\n",
      "[0 1 1 1 1 1 0 1 1 0 1 1 1 1 1 1 1 1 1 0] 16\n",
      "[0 1 1 1 1 1 0 1 1 0 1 1 1 1 1 1 1 1 1 0] 16\n",
      "[0 1 1 1 1 1 0 1 1 0 1 1 1 1 1 1 1 1 1 0] 16\n",
      "[0 1 1 1 1 1 0 1 1 0 1 1 1 1 1 1 1 1 1 0] 16\n",
      "[0 1 1 1 1 1 0 1 1 0 1 1 1 1 1 1 1 1 1 0] 16\n",
      "[0 1 1 1 1 1 0 1 1 0 1 1 1 1 1 1 1 1 1 0] 16\n",
      "[0 1 1 1 1 1 0 1 1 0 1 1 1 1 1 1 1 1 1 0] 16\n",
      "[0 1 1 1 1 1 0 1 1 0 1 1 1 1 1 1 1 1 1 0] 16\n",
      "[0 1 1 1 1 1 0 1 1 0 1 1 1 1 1 1 1 1 1 0] 16\n",
      "[1 0 1 1 1 1 1 1 1 1 1 1 0 0 1 1 1 1 1 1] 17\n",
      "[1 0 1 1 1 1 1 1 1 1 1 1 0 0 1 1 1 1 1 1] 17\n",
      "[1 0 1 1 1 1 1 1 1 1 1 1 0 0 1 1 1 1 1 1] 17\n",
      "[1 0 1 1 1 1 1 1 1 1 1 1 0 0 1 1 1 1 1 1] 17\n",
      "[1 0 1 1 1 1 1 1 1 1 1 1 0 0 1 1 1 1 1 1] 17\n",
      "[1 0 1 1 1 1 1 1 1 1 1 1 0 0 1 1 1 1 1 1] 17\n",
      "[1 0 1 1 1 1 1 1 1 1 1 1 0 0 1 1 1 1 1 1] 17\n",
      "[1 0 1 1 1 1 1 1 1 1 1 1 0 0 1 1 1 1 1 1] 17\n",
      "[1 0 1 1 1 1 1 1 1 1 1 1 0 0 1 1 1 1 1 1] 17\n",
      "[1 0 1 1 1 1 1 1 1 1 1 1 0 0 1 1 1 1 1 1] 17\n",
      "[1 0 1 1 1 1 1 1 1 1 1 1 0 0 1 1 1 1 1 1] 17\n",
      "[1 0 1 1 1 1 1 1 1 1 1 1 0 0 1 1 1 1 1 1] 17\n",
      "[1 0 1 1 1 1 1 1 1 1 1 1 0 0 1 1 1 1 1 1] 17\n",
      "[1 0 1 1 1 1 1 1 1 1 1 1 0 0 1 1 1 1 1 1] 17\n",
      "[1 0 1 1 1 1 1 1 1 1 1 1 0 0 1 1 1 1 1 1] 17\n",
      "[1 0 1 1 1 1 1 1 1 1 1 1 0 0 1 1 1 1 1 1] 17\n",
      "[1 0 1 1 1 1 1 1 1 1 1 1 0 0 1 1 1 1 1 1] 17\n",
      "[1 0 1 1 1 1 1 1 1 1 1 1 0 0 1 1 1 1 1 1] 17\n",
      "[1 0 1 1 1 1 1 1 1 1 1 1 0 0 1 1 1 1 1 1] 17\n",
      "[1 0 1 1 1 1 1 1 1 1 1 1 0 0 1 1 1 1 1 1] 17\n",
      "[1 0 1 1 1 1 1 1 1 1 1 1 0 0 1 1 1 1 1 1] 17\n",
      "[1 0 1 1 1 1 1 1 1 1 1 1 0 0 1 1 1 1 1 1] 17\n",
      "[1 0 1 1 1 1 1 1 1 1 1 1 0 0 1 1 1 1 1 1] 17\n",
      "[1 0 1 1 1 1 1 1 1 1 1 1 0 0 1 1 1 1 1 1] 17\n",
      "[1 0 1 1 1 1 1 1 1 1 1 1 0 0 1 1 1 1 1 1] 17\n",
      "[1 0 1 1 1 1 1 1 1 1 1 1 0 0 1 1 1 1 1 1] 17\n",
      "[1 0 1 1 1 1 1 1 1 1 1 1 0 0 1 1 1 1 1 1] 17\n",
      "[1 0 1 1 1 1 1 1 1 1 1 1 0 0 1 1 1 1 1 1] 17\n",
      "[1 0 1 1 1 1 1 1 1 1 1 1 0 0 1 1 1 1 1 1] 17\n",
      "[1 0 1 1 1 1 1 1 1 1 1 1 0 0 1 1 1 1 1 1] 17\n",
      "[1 0 1 1 1 1 1 1 1 1 1 1 0 0 1 1 1 1 1 1] 17\n",
      "[1 0 1 1 1 1 1 1 1 1 1 1 0 0 1 1 1 1 1 1] 17\n",
      "[1 0 1 1 1 1 1 1 1 1 1 1 0 0 1 1 1 1 1 1] 17\n",
      "[1 0 1 1 1 1 1 1 1 1 1 1 0 0 1 1 1 1 1 1] 17\n",
      "[1 0 1 1 1 1 1 1 1 1 1 1 0 0 1 1 1 1 1 1] 17\n",
      "[1 0 1 1 1 1 1 1 1 1 1 1 0 0 1 1 1 1 1 1] 17\n",
      "[1 0 1 1 1 1 1 1 1 1 1 1 0 0 1 1 1 1 1 1] 17\n",
      "[1 0 1 1 1 1 1 1 1 1 1 1 0 0 1 1 1 1 1 1] 17\n",
      "[1 0 1 1 1 1 1 1 1 1 1 1 0 0 1 1 1 1 1 1] 17\n",
      "[1 0 1 1 1 1 1 1 1 1 1 1 0 0 1 1 1 1 1 1] 17\n",
      "[1 0 1 1 1 1 1 1 1 1 1 1 0 0 1 1 1 1 1 1] 17\n",
      "[1 0 1 1 1 1 1 1 1 1 1 1 0 0 1 1 1 1 1 1] 17\n",
      "[1 0 1 1 1 1 1 1 1 1 1 1 0 0 1 1 1 1 1 1] 17\n",
      "[1 0 1 1 1 1 1 1 1 1 1 1 0 0 1 1 1 1 1 1] 17\n",
      "[1 0 1 1 1 1 1 1 1 1 1 1 0 0 1 1 1 1 1 1] 17\n",
      "[1 0 1 1 1 1 1 1 1 1 1 1 0 0 1 1 1 1 1 1] 17\n",
      "[1 0 1 1 1 1 1 1 1 1 1 1 0 0 1 1 1 1 1 1] 17\n",
      "[1 0 1 1 1 1 1 1 1 1 1 1 0 0 1 1 1 1 1 1] 17\n",
      "[1 0 1 1 1 1 1 1 1 1 1 1 0 0 1 1 1 1 1 1] 17\n",
      "[1 0 1 1 1 1 1 1 1 1 1 1 0 0 1 1 1 1 1 1] 17\n",
      "[1 0 1 1 1 1 1 1 1 1 1 1 0 0 1 1 1 1 1 1] 17\n"
     ]
    }
   ],
   "source": [
    "'''\n",
    "Created on 2022/07/07\n",
    "\n",
    "@author: mori\n",
    "'''\n",
    "import numpy as np\n",
    "import random\n",
    "import copy\n",
    "\n",
    "class Individual:\n",
    "    def __init__(self,size=10):\n",
    "        self._size=size\n",
    "        self._chromosome = np.array(np.random.randint(0,2,size))     \n",
    "       \n",
    "    def getSize(self):\n",
    "        return self._size\n",
    "    def getChromosome(self):\n",
    "        return self._chromosome\n",
    "    def getGene(self,i):\n",
    "        return self._chromosome[i]\n",
    "    def setGene(self,i,value):\n",
    "        self._chromosome[i]=value\n",
    "    def __str__(self):\n",
    "        return str(self._chromosome)\n",
    "    def __len__(self): #same as self.getSize()\n",
    "        return self._chromosome.size\n",
    "    def fitness(self):\n",
    "        return sum(self._chromosome) #OneMax problem\n",
    "\n",
    "        \n",
    "def mutation(pop):\n",
    "    mutation_rate=1/len(pop[0]) #common setting\n",
    "    for indiv in pop:\n",
    "        for i in range(len(indiv)):\n",
    "            rnd=np.random.rand()\n",
    "            if(rnd<mutation_rate):\n",
    "                if(indiv.getGene(i)==1):\n",
    "                    indiv.setGene(i,0)\n",
    "                else:\n",
    "                    indiv.setGene(i,1)\n",
    "\n",
    "def crossover(pop):\n",
    "    idx = np.arange(len(pop))\n",
    "    random.shuffle(idx)\n",
    "    itr = iter(idx)\n",
    "    for i, j in zip(itr, itr):\n",
    "        rand = np.random.randint(10)\n",
    "#         print('be', pop[i], pop[j])\n",
    "        for k in range(rand):\n",
    "            pop_i_old = Individual(20)\n",
    "            for id_, val in enumerate(pop[0].getChromosome()):\n",
    "                pop_i_old.setGene(id_, val)\n",
    "            pop[i].setGene(k, pop[j].getGene(k))\n",
    "            pop[j].setGene(k, pop_i_old.getGene(k))\n",
    "#         print('af', pop[i], pop[j])\n",
    "\n",
    "    \n",
    "def selection(pop):\n",
    "    sorted_pop_n_idx = (sorted([(indiv.fitness(), i) for i, indiv in enumerate(pop)], reverse=True))\n",
    "    sorted_pop = [pop[idx] for _, idx in sorted_pop_n_idx]\n",
    "    for id_, val in enumerate(pop[0].getChromosome()):\n",
    "        sorted_pop[-1].setGene(id_, val)\n",
    "    pop = sorted_pop\n",
    "\n",
    "def getElite(pop):\n",
    "    elite=pop[0]\n",
    "    bestFitness=pop[0].fitness()\n",
    "    for indiv in pop[1:]:\n",
    "        if(indiv.fitness()>bestFitness):\n",
    "            elite=indiv\n",
    "            bestFitness=indiv.fitness()\n",
    "    return elite\n",
    "    \n",
    "def printPop(pop):\n",
    "    for indiv in pop:\n",
    "        print(indiv,indiv.fitness())\n",
    "         \n",
    "pop_size=10\n",
    "generation_size=100\n",
    "pop=[Individual(20) for i in range(pop_size)]\n",
    "elite = pop[0]\n",
    "for t in range(generation_size):\n",
    "    print(elite, elite.fitness())\n",
    "    mutation(pop)\n",
    "    crossover(pop)\n",
    "    selection(pop)\n",
    "    if elite.fitness() < getElite(pop).fitness():\n",
    "#         print('be', elite_.fitness())\n",
    "        elite = copy.deepcopy(getElite(pop))\n",
    "#         print('af', getElite(pop).fitness())\n",
    "        \n",
    "\n",
    "#     print(elite,elite.fitness())"
   ]
  },
  {
   "cell_type": "code",
   "execution_count": 159,
   "id": "e36b0364",
   "metadata": {},
   "outputs": [
    {
     "data": {
      "text/plain": [
       "[(<__main__.Individual at 0x7fd0e0e89d50>, '\\n'),\n",
       " (<__main__.Individual at 0x7fd0e0e88590>, '\\n'),\n",
       " (<__main__.Individual at 0x7fd0e0e88f90>, '\\n'),\n",
       " (<__main__.Individual at 0x7fd0e0e90e50>, '\\n'),\n",
       " (<__main__.Individual at 0x7fd0e0e907d0>, '\\n'),\n",
       " (<__main__.Individual at 0x7fd0e0e90690>, '\\n'),\n",
       " (<__main__.Individual at 0x7fd0e0e90810>, '\\n'),\n",
       " (<__main__.Individual at 0x7fd0e0e90d10>, '\\n'),\n",
       " (<__main__.Individual at 0x7fd0e0e90c90>, '\\n'),\n",
       " (<__main__.Individual at 0x7fd0e0e901d0>, '\\n')]"
      ]
     },
     "execution_count": 159,
     "metadata": {},
     "output_type": "execute_result"
    }
   ],
   "source": [
    "list(zip(pop, ['\\n']*len(pop)))"
   ]
  },
  {
   "cell_type": "code",
   "execution_count": 155,
   "id": "1a17718f",
   "metadata": {},
   "outputs": [
    {
     "name": "stdout",
     "output_type": "stream",
     "text": [
      "[0 1 1 1 0 0 1 0 1 1 1 0 0 1 1 1 0 1 1 0] 12\n"
     ]
    }
   ],
   "source": [
    "'''\n",
    "Created on 2022/07/07\n",
    "\n",
    "@author: mori\n",
    "'''\n",
    "import numpy as np\n",
    "import random\n",
    "\n",
    "class Individual:\n",
    "    def __init__(self,size=10):\n",
    "        self._size=size\n",
    "        self._chromosome = np.array(np.random.randint(0,2,size))     \n",
    "       \n",
    "    def getSize(self):\n",
    "        return self._size\n",
    "    def getChromosome(self):\n",
    "        return self._chromosome\n",
    "    def getGene(self,i):\n",
    "        return self._chromosome[i]\n",
    "    def setGene(self,i,value):\n",
    "        self._chromosome[i]=value\n",
    "    def __str__(self):\n",
    "        return str(self._chromosome)\n",
    "    def __len__(self): #same as self.getSize()\n",
    "        return self._chromosome.size\n",
    "    def fitness(self):\n",
    "        return sum(self._chromosome) #OneMax problem\n",
    "\n",
    "        \n",
    "def mutation(pop):\n",
    "    mutation_rate=1/len(pop[0]) #common setting\n",
    "    for indiv in pop:\n",
    "        for i in range(len(indiv)):\n",
    "            rnd=np.random.rand()\n",
    "            if(rnd<mutation_rate):\n",
    "                if(indiv.getGene(i)==1):\n",
    "                    indiv.setGene(i,0)\n",
    "                else:\n",
    "                    indiv.setGene(i,1)\n",
    "\n",
    "def crossover(pop):\n",
    "    idx = np.arange(len(pop))\n",
    "    random.shuffle(idx)\n",
    "    itr = iter(idx)\n",
    "    for i, j in zip(itr, itr):\n",
    "        rand = np.random.randint(10)\n",
    "#         print('be', pop[i], pop[j])\n",
    "        for k in range(rand):\n",
    "            pop_i_old = Individual(20)\n",
    "            for id_, val in enumerate(pop[0].getChromosome()):\n",
    "                pop_i_old.setGene(id_, val)\n",
    "            pop[i].setGene(k, pop[j].getGene(k))\n",
    "            pop[j].setGene(k, pop_i_old.getGene(k))\n",
    "#         print('af', pop[i], pop[j])\n",
    "\n",
    "    \n",
    "def selection(pop):\n",
    "    sorted_pop_n_idx = (sorted([(indiv.fitness(), i) for i, indiv in enumerate(pop)], reverse=True))\n",
    "    sorted_pop = [pop[idx] for _, idx in sorted_pop_n_idx]\n",
    "    for id_, val in enumerate(pop[0].getChromosome()):\n",
    "        sorted_pop[-1].setGene(id_, val)\n",
    "    pop = sorted_pop\n",
    "\n",
    "def getElite(pop):\n",
    "    elite=pop[0]\n",
    "    bestFitness=pop[0].fitness()\n",
    "    for indiv in pop[1:]:\n",
    "        if(indiv.fitness()>bestFitness):\n",
    "            elite=indiv\n",
    "            bestFitness=indiv.fitness()\n",
    "    return elite\n",
    "    \n",
    "def printPop(pop):\n",
    "    for indiv in pop:\n",
    "        print(indiv,indiv.fitness())\n",
    "         \n",
    "pop_size=10\n",
    "generation_size=100\n",
    "pop=[Individual(20) for i in range(pop_size)]\n",
    "for t in range(generation_size):\n",
    "    mutation(pop)\n",
    "    crossover(pop)\n",
    "    selection(pop)\n",
    "    \n",
    "    elite = getElite(pop)\n",
    "    print(elite,elite.fitness())"
   ]
  },
  {
   "cell_type": "code",
   "execution_count": 65,
   "id": "f69d673b",
   "metadata": {},
   "outputs": [
    {
     "ename": "SyntaxError",
     "evalue": "unexpected EOF while parsing (<ipython-input-65-0094424ca964>, line 4)",
     "output_type": "error",
     "traceback": [
      "\u001b[0;36m  File \u001b[0;32m\"<ipython-input-65-0094424ca964>\"\u001b[0;36m, line \u001b[0;32m4\u001b[0m\n\u001b[0;31m    \u001b[0m\n\u001b[0m    ^\u001b[0m\n\u001b[0;31mSyntaxError\u001b[0m\u001b[0;31m:\u001b[0m unexpected EOF while parsing\n"
     ]
    }
   ],
   "source": [
    "# def selection(pop):\n",
    "#     print(\"selection\")\n",
    "\n",
    "    '''\n",
    "Created on 2022/07/07\n",
    "\n",
    "@author: mori\n",
    "'''\n",
    "import numpy as np\n",
    "import random\n",
    "\n",
    "class Individual:\n",
    "    def __init__(self,size=10):\n",
    "        self._size=size\n",
    "        self._chromosome = np.array(np.random.randint(0,2,size))     \n",
    "       \n",
    "    def getSize(self):\n",
    "        return self._size\n",
    "    def getChromosome(self):\n",
    "        return self._chromosome\n",
    "    def getGene(self,i):\n",
    "        return self._chromosome[i]\n",
    "    def setGene(self,i,value):\n",
    "        self._chromosome[i]=value\n",
    "    def __str__(self):\n",
    "        return str(self._chromosome)\n",
    "    def __len__(self): #same as self.getSize()\n",
    "        return self._chromosome.size\n",
    "    def fitness(self):\n",
    "        return sum(self._chromosome) #OneMax problem\n",
    "\n",
    "        \n",
    "def mutation(pop):\n",
    "    mutation_rate=1/len(pop[0]) #common setting\n",
    "    for indiv in pop:\n",
    "        for i in range(len(indiv)):\n",
    "            rnd=np.random.rand()\n",
    "            if(rnd<mutation_rate):\n",
    "                if(indiv.getGene(i)==1):\n",
    "                    indiv.setGene(i,0)\n",
    "                else:\n",
    "                    indiv.setGene(i,1)\n",
    "\n",
    "def crossover(pop):\n",
    "    idx = np.arange(len(pop))\n",
    "    random.shuffle(idx)\n",
    "    itr = iter(idx)\n",
    "    for i, j in zip(itr, itr):\n",
    "        rand = np.random.randint(10)\n",
    "#         print('be', pop[i], pop[j])\n",
    "        for k in range(rand):\n",
    "            pop_i_old = Individual(20)\n",
    "            for id_, val in enumerate(pop[0].getChromosome()):\n",
    "                pop_i_old.setGene(id_, val)\n",
    "            pop[i].setGene(k, pop[j].getGene(k))\n",
    "            pop[j].setGene(k, pop_i_old.getGene(k))\n",
    "#         print('af', pop[i], pop[j])\n",
    "\n",
    "    \n",
    "def selection(pop):\n",
    "    sorted_pop_n_idx = (sorted([(indiv.fitness(), i) for i, indiv in enumerate(pop)], reverse=True))\n",
    "    sorted_pop = [pop[idx] for _, idx in sorted_pop_n_idx]\n",
    "    for id_, val in enumerate(pop[0].getChromosome()):\n",
    "        sorted_pop[-1].setGene(id_, val)\n",
    "    pop = sorted_pop\n",
    "\n",
    "def getElite(pop):\n",
    "    elite=pop[0]\n",
    "    bestFitness=pop[0].fitness()\n",
    "    for indiv in pop[1:]:\n",
    "        if(indiv.fitness()>bestFitness):\n",
    "            elite=indiv\n",
    "            bestFitness=indiv.fitness()\n",
    "    return elite\n",
    "    \n",
    "def printPop(pop):\n",
    "    for indiv in pop:\n",
    "        print(indiv,indiv.fitness())\n",
    "         \n",
    "pop_size=10\n",
    "generation_size=100\n",
    "pop=[Individual(20) for i in range(pop_size)]\n",
    "elite_ = pop[0]\n",
    "for t in range(generation_size):\n",
    "    mutation(pop)\n",
    "    crossover(pop)\n",
    "    selection(pop)\n",
    "    if elite_.fitness() < getElite(pop).fitness():\n",
    "        print('be', elite_.fitness())\n",
    "        elite_ = getElite(pop)\n",
    "        print('af', getElite(pop).fitness())\n",
    "        \n",
    "\n",
    "#     print(elite,elite.fitness())"
   ]
  },
  {
   "cell_type": "code",
   "execution_count": 75,
   "id": "831f68b9",
   "metadata": {},
   "outputs": [
    {
     "ename": "NameError",
     "evalue": "name 'sorted_pop' is not defined",
     "output_type": "error",
     "traceback": [
      "\u001b[0;31m---------------------------------------------------------------------------\u001b[0m",
      "\u001b[0;31mNameError\u001b[0m                                 Traceback (most recent call last)",
      "\u001b[0;32m<ipython-input-75-6137e0a362b7>\u001b[0m in \u001b[0;36m<module>\u001b[0;34m\u001b[0m\n\u001b[0;32m----> 1\u001b[0;31m \u001b[0mpop\u001b[0m \u001b[0;34m=\u001b[0m \u001b[0msorted_pop\u001b[0m\u001b[0;34m[\u001b[0m\u001b[0;34m:\u001b[0m\u001b[0mlen\u001b[0m\u001b[0;34m(\u001b[0m\u001b[0msorted_pop\u001b[0m\u001b[0;34m)\u001b[0m\u001b[0;34m/\u001b[0m\u001b[0;36m2\u001b[0m\u001b[0;34m]\u001b[0m\u001b[0;34m\u001b[0m\u001b[0;34m\u001b[0m\u001b[0m\n\u001b[0m",
      "\u001b[0;31mNameError\u001b[0m: name 'sorted_pop' is not defined"
     ]
    }
   ],
   "source": [
    "pop = sorted_pop[:len(sorted_pop)/2]"
   ]
  },
  {
   "cell_type": "code",
   "execution_count": 74,
   "id": "14183640",
   "metadata": {},
   "outputs": [
    {
     "data": {
      "text/plain": [
       "[<__main__.Individual at 0x7fd0d8e1bad0>,\n",
       " <__main__.Individual at 0x7fd0d8e1b110>,\n",
       " <__main__.Individual at 0x7fd0d8e1bb50>,\n",
       " <__main__.Individual at 0x7fd0d8e1bed0>,\n",
       " <__main__.Individual at 0x7fd0e0e8a350>,\n",
       " <__main__.Individual at 0x7fd0e0e8a3d0>,\n",
       " <__main__.Individual at 0x7fd0e0e8a950>,\n",
       " <__main__.Individual at 0x7fd0e0d67950>,\n",
       " <__main__.Individual at 0x7fd10067c890>,\n",
       " <__main__.Individual at 0x7fd0e0e8a1d0>]"
      ]
     },
     "execution_count": 74,
     "metadata": {},
     "output_type": "execute_result"
    }
   ],
   "source": [
    "pop"
   ]
  },
  {
   "cell_type": "code",
   "execution_count": 78,
   "id": "686f241b",
   "metadata": {},
   "outputs": [],
   "source": [
    "sorted_pop_n_idx = (sorted([(indiv.fitness(), i) for i, indiv in enumerate(pop)], reverse=True))\n",
    "sorted_pop = [pop[idx] for _, idx in sorted_pop_n_idx]\n",
    "pop_ = sorted_pop[:len(sorted_pop)//2]\n"
   ]
  },
  {
   "cell_type": "code",
   "execution_count": 94,
   "id": "5de050b3",
   "metadata": {},
   "outputs": [],
   "source": [
    "sorted_pop_n_idx = (sorted([(indiv.fitness(), i) for i, indiv in enumerate(pop)], reverse=True))\n",
    "sorted_pop = [pop[idx] for _, idx in sorted_pop_n_idx]\n",
    "sorted_pop[-1] = sorted_pop[0]\n",
    "pop_ = sorted_pop"
   ]
  },
  {
   "cell_type": "code",
   "execution_count": 96,
   "id": "5553e224",
   "metadata": {},
   "outputs": [
    {
     "data": {
      "text/plain": [
       "10"
      ]
     },
     "execution_count": 96,
     "metadata": {},
     "output_type": "execute_result"
    }
   ],
   "source": [
    "len(pop_)"
   ]
  },
  {
   "cell_type": "code",
   "execution_count": 109,
   "id": "c8dab176",
   "metadata": {},
   "outputs": [
    {
     "ename": "TypeError",
     "evalue": "'float' object cannot be interpreted as an integer",
     "output_type": "error",
     "traceback": [
      "\u001b[0;31m---------------------------------------------------------------------------\u001b[0m",
      "\u001b[0;31mTypeError\u001b[0m                                 Traceback (most recent call last)",
      "\u001b[0;32m<ipython-input-109-42806b5a2230>\u001b[0m in \u001b[0;36m<module>\u001b[0;34m\u001b[0m\n\u001b[1;32m      4\u001b[0m \u001b[0;32mfor\u001b[0m \u001b[0mi\u001b[0m\u001b[0;34m,\u001b[0m \u001b[0mj\u001b[0m \u001b[0;32min\u001b[0m \u001b[0mzip\u001b[0m\u001b[0;34m(\u001b[0m\u001b[0mitr\u001b[0m\u001b[0;34m,\u001b[0m \u001b[0mitr\u001b[0m\u001b[0;34m)\u001b[0m\u001b[0;34m:\u001b[0m\u001b[0;34m\u001b[0m\u001b[0;34m\u001b[0m\u001b[0m\n\u001b[1;32m      5\u001b[0m     \u001b[0mrand\u001b[0m \u001b[0;34m=\u001b[0m \u001b[0mnp\u001b[0m\u001b[0;34m.\u001b[0m\u001b[0mrandom\u001b[0m\u001b[0;34m.\u001b[0m\u001b[0mrand\u001b[0m\u001b[0;34m(\u001b[0m\u001b[0;34m)\u001b[0m\u001b[0;34m\u001b[0m\u001b[0;34m\u001b[0m\u001b[0m\n\u001b[0;32m----> 6\u001b[0;31m     \u001b[0;32mfor\u001b[0m \u001b[0mk\u001b[0m \u001b[0;32min\u001b[0m \u001b[0mrange\u001b[0m\u001b[0;34m(\u001b[0m\u001b[0;36m10\u001b[0m\u001b[0;34m-\u001b[0m\u001b[0mrand\u001b[0m\u001b[0;34m)\u001b[0m\u001b[0;34m:\u001b[0m\u001b[0;34m\u001b[0m\u001b[0;34m\u001b[0m\u001b[0m\n\u001b[0m\u001b[1;32m      7\u001b[0m         \u001b[0mpop\u001b[0m\u001b[0;34m[\u001b[0m\u001b[0mi\u001b[0m\u001b[0;34m]\u001b[0m\u001b[0;34m.\u001b[0m\u001b[0msetGene\u001b[0m\u001b[0;34m(\u001b[0m\u001b[0mk\u001b[0m\u001b[0;34m+\u001b[0m\u001b[0mrand\u001b[0m\u001b[0;34m,\u001b[0m \u001b[0mpop\u001b[0m\u001b[0;34m[\u001b[0m\u001b[0mj\u001b[0m\u001b[0;34m]\u001b[0m\u001b[0;34m.\u001b[0m\u001b[0mgetGene\u001b[0m\u001b[0;34m(\u001b[0m\u001b[0mk\u001b[0m\u001b[0;34m+\u001b[0m\u001b[0mrand\u001b[0m\u001b[0;34m)\u001b[0m\u001b[0;34m)\u001b[0m\u001b[0;34m\u001b[0m\u001b[0;34m\u001b[0m\u001b[0m\n",
      "\u001b[0;31mTypeError\u001b[0m: 'float' object cannot be interpreted as an integer"
     ]
    }
   ],
   "source": [
    "idx = np.arange(len(pop))\n",
    "random.shuffle(idx)\n",
    "itr = iter(idx)\n",
    "for i, j in zip(itr, itr):\n",
    "    rand = np.random.randint(10)\n",
    "    for k in range(10-rand):\n",
    "        pop[i].setGene(k+rand, pop[j].getGene(k+rand))"
   ]
  },
  {
   "cell_type": "code",
   "execution_count": 108,
   "id": "10c887e0",
   "metadata": {},
   "outputs": [
    {
     "data": {
      "text/plain": [
       "<__main__.Individual at 0x7fd0e0e8a950>"
      ]
     },
     "execution_count": 108,
     "metadata": {},
     "output_type": "execute_result"
    }
   ],
   "source": [
    "pop[j]"
   ]
  },
  {
   "cell_type": "code",
   "execution_count": 105,
   "id": "73d5e430",
   "metadata": {},
   "outputs": [
    {
     "data": {
      "text/plain": [
       "[15, 14, 12, 12, 12, 11, 11, 10, 9, 15]"
      ]
     },
     "execution_count": 105,
     "metadata": {},
     "output_type": "execute_result"
    }
   ],
   "source": [
    "[ind.fitness() for ind in pop_]"
   ]
  },
  {
   "cell_type": "code",
   "execution_count": null,
   "id": "4470a431",
   "metadata": {},
   "outputs": [],
   "source": [
    "idx = np.arange(len(pop))\n",
    "random.shuffle(idx)\n",
    "itr = iter(idx)\n",
    "for i, j in zip(itr, itr):\n",
    "    rand = np.random.randint(10)\n",
    "    for k in range(10-rand):\n",
    "        pop_i_old = individual(1)\n",
    "        for id_, val in enumerate(pop[0].getChromosome()):\n",
    "            pop_i_old.setGene(id_, val)\n",
    "        pop[i].setGene(k+rand, pop[j].getGene(k+rand))\n",
    "        pop[j].setGene(k+rand, pop_i_old.getGene(k+rand))"
   ]
  },
  {
   "cell_type": "code",
   "execution_count": 120,
   "id": "2761809d",
   "metadata": {},
   "outputs": [
    {
     "ename": "AttributeError",
     "evalue": "'Individual' object has no attribute 'copy'",
     "output_type": "error",
     "traceback": [
      "\u001b[0;31m---------------------------------------------------------------------------\u001b[0m",
      "\u001b[0;31mAttributeError\u001b[0m                            Traceback (most recent call last)",
      "\u001b[0;32m<ipython-input-120-3f0252f9d2bb>\u001b[0m in \u001b[0;36m<module>\u001b[0;34m\u001b[0m\n\u001b[0;32m----> 1\u001b[0;31m \u001b[0mpop_i_old\u001b[0m \u001b[0;34m=\u001b[0m \u001b[0mpop\u001b[0m\u001b[0;34m[\u001b[0m\u001b[0mi\u001b[0m\u001b[0;34m]\u001b[0m\u001b[0;34m.\u001b[0m\u001b[0mcopy\u001b[0m\u001b[0;34m(\u001b[0m\u001b[0;34m)\u001b[0m\u001b[0;34m\u001b[0m\u001b[0;34m\u001b[0m\u001b[0m\n\u001b[0m",
      "\u001b[0;31mAttributeError\u001b[0m: 'Individual' object has no attribute 'copy'"
     ]
    }
   ],
   "source": [
    "pop_i_old = pop[i].copy()"
   ]
  },
  {
   "cell_type": "code",
   "execution_count": 124,
   "id": "db9ea1e9",
   "metadata": {},
   "outputs": [
    {
     "data": {
      "text/plain": [
       "array([1, 0, 1, 0, 0, 0, 1, 1, 0, 0, 1, 1, 1, 1, 1, 1, 1, 1, 1, 0])"
      ]
     },
     "execution_count": 124,
     "metadata": {},
     "output_type": "execute_result"
    }
   ],
   "source": []
  },
  {
   "cell_type": "code",
   "execution_count": null,
   "id": "a533c52d",
   "metadata": {},
   "outputs": [],
   "source": []
  }
 ],
 "metadata": {
  "kernelspec": {
   "display_name": "Python 3",
   "language": "python",
   "name": "python3"
  },
  "language_info": {
   "codemirror_mode": {
    "name": "ipython",
    "version": 3
   },
   "file_extension": ".py",
   "mimetype": "text/x-python",
   "name": "python",
   "nbconvert_exporter": "python",
   "pygments_lexer": "ipython3",
   "version": "3.7.13"
  }
 },
 "nbformat": 4,
 "nbformat_minor": 5
}

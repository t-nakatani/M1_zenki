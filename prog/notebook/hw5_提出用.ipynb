{
 "cells": [
  {
   "cell_type": "markdown",
   "id": "528b4398",
   "metadata": {},
   "source": [
    "## 第5回課題レポート \n",
    "### BGA22078 中谷友哉"
   ]
  },
  {
   "cell_type": "markdown",
   "id": "e8181bbd",
   "metadata": {},
   "source": [
    "## レポート1\n",
    "\n",
    "図より，b=0でマージンを最大化する直線の傾きは-1である．これとwのノルム=1であることを組み合わせて,(w, b) = (1/2(1, -1), 0)"
   ]
  },
  {
   "cell_type": "markdown",
   "id": "0892024b",
   "metadata": {},
   "source": [
    "## レポート２"
   ]
  },
  {
   "cell_type": "code",
   "execution_count": 1,
   "id": "d5f5e182",
   "metadata": {
    "scrolled": true
   },
   "outputs": [
    {
     "name": "stdout",
     "output_type": "stream",
     "text": [
      "グリッドサーチの範囲\n",
      " {'C': [0.1, 1, 10, 100, 1000], 'gamma': [1, 0.1, 0.01, 0.001, 0.0001], 'kernel': ['rbf']} \n",
      "\n",
      "最適なパラメータ\n",
      "C_opt: 10, gamma_opt: 0.1\n",
      "\n",
      "best accuracy\n",
      " 0.9777777777777777\n"
     ]
    }
   ],
   "source": [
    "%run svm_iris.py"
   ]
  },
  {
   "cell_type": "code",
   "execution_count": 2,
   "id": "b2a06a2b",
   "metadata": {},
   "outputs": [
    {
     "name": "stdout",
     "output_type": "stream",
     "text": [
      "グリッドサーチの範囲\n",
      " {'C': [0.1, 1, 10, 100, 1000], 'gamma': [1, 0.1, 0.01, 0.001, 0.0001], 'kernel': ['rbf']} \n",
      "\n",
      "最適なパラメータ\n",
      "C_opt: 10, gamma_opt: 0.001\n",
      "\n",
      "best accuracy\n",
      " 0.9907407407407407\n"
     ]
    }
   ],
   "source": [
    "%run svm_digits.py"
   ]
  }
 ],
 "metadata": {
  "kernelspec": {
   "display_name": "Python 3",
   "language": "python",
   "name": "python3"
  },
  "language_info": {
   "codemirror_mode": {
    "name": "ipython",
    "version": 3
   },
   "file_extension": ".py",
   "mimetype": "text/x-python",
   "name": "python",
   "nbconvert_exporter": "python",
   "pygments_lexer": "ipython3",
   "version": "3.7.13"
  }
 },
 "nbformat": 4,
 "nbformat_minor": 5
}

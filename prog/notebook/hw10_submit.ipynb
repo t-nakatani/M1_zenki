{
 "cells": [
  {
   "cell_type": "markdown",
   "id": "e806b55c",
   "metadata": {},
   "source": [
    "# hw10\n",
    "### 中谷友哉 BGA22078"
   ]
  },
  {
   "cell_type": "code",
   "execution_count": 1,
   "id": "f1d2465d",
   "metadata": {
    "scrolled": true
   },
   "outputs": [
    {
     "name": "stdout",
     "output_type": "stream",
     "text": [
      "i = 0\n",
      "i = 10\n",
      "i = 20\n",
      "i = 30\n",
      "i = 40\n",
      "i = 50\n",
      "グリッドサーチの範囲\n",
      " {'C': [0.1, 1, 10, 100, 1000], 'gamma': [1, 0.1, 0.01, 0.001, 0.0001], 'kernel': ['rbf']} \n",
      "\n",
      "最適なパラメータ\n",
      "C_opt: 10, gamma_opt: 0.0001\n",
      "\n",
      "best accuracy\n",
      " 0.8025447690857681\n"
     ]
    }
   ],
   "source": [
    "%run ../py/classification_mfcc.py"
   ]
  },
  {
   "cell_type": "code",
   "execution_count": 2,
   "id": "390bae59",
   "metadata": {},
   "outputs": [
    {
     "name": "stdout",
     "output_type": "stream",
     "text": [
      "i = 0\n",
      "i = 10\n",
      "i = 20\n",
      "i = 30\n",
      "i = 40\n",
      "i = 50\n",
      "グリッドサーチの範囲\n",
      " {'C': [0.1, 1, 10, 100, 1000], 'gamma': [1, 0.1, 0.01, 0.001, 0.0001], 'kernel': ['rbf']} \n",
      "\n",
      "最適なパラメータ\n",
      "C_opt: 100, gamma_opt: 1\n",
      "\n",
      "best accuracy\n",
      " 0.7834590009425071\n"
     ]
    }
   ],
   "source": [
    "%run ../py/classification_lpc.py"
   ]
  }
 ],
 "metadata": {
  "kernelspec": {
   "display_name": "Python 3",
   "language": "python",
   "name": "python3"
  },
  "language_info": {
   "codemirror_mode": {
    "name": "ipython",
    "version": 3
   },
   "file_extension": ".py",
   "mimetype": "text/x-python",
   "name": "python",
   "nbconvert_exporter": "python",
   "pygments_lexer": "ipython3",
   "version": "3.7.13"
  }
 },
 "nbformat": 4,
 "nbformat_minor": 5
}

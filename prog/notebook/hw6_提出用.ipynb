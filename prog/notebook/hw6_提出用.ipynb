{
 "cells": [
  {
   "cell_type": "code",
   "execution_count": 1,
   "id": "9c61a6f7",
   "metadata": {},
   "outputs": [],
   "source": [
    "pnum = list(filter(lambda x:not [y for y in range(2,x) if x%y==0], range(100, 1, -1)))"
   ]
  },
  {
   "cell_type": "markdown",
   "id": "3f89f8ee",
   "metadata": {},
   "source": [
    "filterでrange(100, 1, -1)から値をxとして一つずつ取り出し，2以上x未満になる数で割り切れなかった場合（[y for y in range(2,x) if x%y==0]が要素を持たない場合）のみ値を保持し，それ以外は破棄することで素数を取り出している．"
   ]
  },
  {
   "cell_type": "code",
   "execution_count": 2,
   "id": "4bbfe559",
   "metadata": {},
   "outputs": [
    {
     "name": "stdout",
     "output_type": "stream",
     "text": [
      "===TRAIN_DATA===\n",
      "x= tensor([[1., 1.],\n",
      "        [1., 0.],\n",
      "        [0., 1.],\n",
      "        [0., 0.]])\n",
      "y= tensor([[1., 0.],\n",
      "        [0., 1.],\n",
      "        [0., 1.],\n",
      "        [1., 0.]])\n",
      "===TRAIN===\n",
      "epoc: 0  loss: 0.6789630651473999\n",
      "epoc: 500  loss: 0.04436979442834854\n",
      "epoc: 1000  loss: 1.3847284208168276e-08\n",
      "epoc: 1500  loss: 1.2079226507921703e-12\n",
      "epoc: 2000  loss: 1.4566126083082054e-13\n",
      "===Test===\n",
      "input:tensor([0., 0.]), output:0\n",
      "input:tensor([0., 1.]), output:1\n",
      "input:tensor([1., 0.]), output:1\n",
      "input:tensor([1., 1.]), output:0\n"
     ]
    }
   ],
   "source": [
    "%run xor.py"
   ]
  },
  {
   "cell_type": "markdown",
   "id": "5d17c6f5",
   "metadata": {},
   "source": [
    "xorのデータとして，入力ベクトル[0, 0]と[1, 1]のラベルを0，入力ベクトル[1, 0]と[0, 1]のラベルを1としラベルをone-hotベクトルとして与えた．\n",
    "2000エポックの学習後のテストでは，正しいラベルを予測できている．"
   ]
  }
 ],
 "metadata": {
  "kernelspec": {
   "display_name": "Python 3",
   "language": "python",
   "name": "python3"
  },
  "language_info": {
   "codemirror_mode": {
    "name": "ipython",
    "version": 3
   },
   "file_extension": ".py",
   "mimetype": "text/x-python",
   "name": "python",
   "nbconvert_exporter": "python",
   "pygments_lexer": "ipython3",
   "version": "3.7.13"
  }
 },
 "nbformat": 4,
 "nbformat_minor": 5
}

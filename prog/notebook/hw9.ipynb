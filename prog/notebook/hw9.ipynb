{
 "cells": [
  {
   "cell_type": "markdown",
   "id": "5f15629d",
   "metadata": {},
   "source": [
    "## わからなかった箇所の抜粋及び理解"
   ]
  },
  {
   "cell_type": "markdown",
   "id": "288664df",
   "metadata": {},
   "source": [
    "named_tuple: tupleでは要素をidxで指定する必要があるが，named_tupleでは'.'と定義した文字列でアクセスを可能．\n",
    "https://qiita.com/Seny/items/add4d03876f505442136\n"
   ]
  },
  {
   "cell_type": "code",
   "execution_count": 18,
   "id": "b71c1798",
   "metadata": {},
   "outputs": [
    {
     "data": {
      "text/plain": [
       "'juggling'"
      ]
     },
     "execution_count": 18,
     "metadata": {},
     "output_type": "execute_result"
    }
   ],
   "source": [
    "from collections import namedtuple\n",
    "Student = namedtuple('Student', 'name student_id hobby')\n",
    "nakatani = Student('nakatani', 'BGA22078', 'juggling')\n",
    "nakatani.hobby"
   ]
  },
  {
   "cell_type": "markdown",
   "id": "f5887622",
   "metadata": {},
   "source": [
    "***\n",
    "torch.cat()  \n",
    "concatをする関数．第一引数にtensors (sequence of Tensors)，第二引数にdim (int, optional)をとる．\n",
    "https://pytorch.org/docs/master/generated/torch.cat.html"
   ]
  },
  {
   "cell_type": "code",
   "execution_count": 19,
   "id": "d5e5f3f5",
   "metadata": {},
   "outputs": [
    {
     "name": "stdout",
     "output_type": "stream",
     "text": [
      "tensor([[1., 1., 1.],\n",
      "        [1., 1., 1.],\n",
      "        [1., 1., 1.],\n",
      "        [1., 1., 1.],\n",
      "        [1., 1., 1.]])\n",
      "tensor([[1., 1., 1., 1., 1.],\n",
      "        [1., 1., 1., 1., 1.]])\n"
     ]
    }
   ],
   "source": [
    "import torch\n",
    "import numpy as np\n",
    "\n",
    "arr23 = torch.ones((2, 3))\n",
    "arr22 = torch.ones((2, 2))\n",
    "arr33 = torch.ones((3, 3))\n",
    "print(torch.cat((arr23, arr33), 0))\n",
    "print(torch.cat((arr23, arr22), 1))"
   ]
  },
  {
   "cell_type": "markdown",
   "id": "4f8f4c0c",
   "metadata": {},
   "source": [
    "***\n",
    "t.max(1) は、テンソルの行方向の最大値に対応する列を返します。  \n",
    "max(1)[1]は、最大値に対応する列のインデックスを示しています。  \n",
    "つまり、このコードは報酬の期待値が最大となる行動を選択していることを意味します。  \n",
    "policy_net(state).max(1)[1].view(1, 1)"
   ]
  }
 ],
 "metadata": {
  "kernelspec": {
   "display_name": "Python 3",
   "language": "python",
   "name": "python3"
  },
  "language_info": {
   "codemirror_mode": {
    "name": "ipython",
    "version": 3
   },
   "file_extension": ".py",
   "mimetype": "text/x-python",
   "name": "python",
   "nbconvert_exporter": "python",
   "pygments_lexer": "ipython3",
   "version": "3.7.13"
  }
 },
 "nbformat": 4,
 "nbformat_minor": 5
}

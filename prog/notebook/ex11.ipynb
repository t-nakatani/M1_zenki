{
 "cells": [
  {
   "cell_type": "markdown",
   "metadata": {},
   "source": [
    "# プログラミング演習第11回課題  \n",
    "以下に学籍番号と氏名を入力下さい．"
   ]
  },
  {
   "cell_type": "markdown",
   "metadata": {},
   "source": [
    "学籍番号：BGA22078  \n",
    "氏名：中谷友哉"
   ]
  },
  {
   "cell_type": "markdown",
   "metadata": {},
   "source": [
    "今回はpytorch を使って簡単な畳み込みニューラルネットワークの実装をします．　　\n",
    "## PyTorch モジュールのimport\n",
    "まずはpytorch モジュールの読み込みをします．また，PyTorchプロジェクトに含まれているパッケージのうち，コンピュータビジョンのための一般的なデータセット，モデルアーキテクチャ，および一般的な画像変換から構成されるtorchvision も併せて読み込みします．"
   ]
  },
  {
   "cell_type": "code",
   "execution_count": 1,
   "metadata": {
    "id": "T4PGFQGoWDGd",
    "jupyter": {
     "outputs_hidden": true
    }
   },
   "outputs": [],
   "source": [
    "import torch\n",
    "import torchvision\n",
    "import torchvision.transforms as transforms"
   ]
  },
  {
   "cell_type": "markdown",
   "metadata": {},
   "source": [
    "## 利用データ・読み込み方法  \n",
    "今回，画像認識をするのにトロント大学が提供しているCIFAR 10 というデータセットを利用します．詳細は[ここ](https://www.cs.toronto.edu/~kriz/cifar.html)に掲載されています．  \n",
    "CIFER-10には，10クラス，60,000枚の32X32 pixels の画像が存在しており，50,000枚は学習データ，10,000枚はテストデータとして利用します．  \n",
    "PyTorch では，データを多次元型の配列を表現し，かつ，GPU での演算が可能なテンソル型で表現します．そのため，データの読み込み際に，テンソル型に変換してからデータを読み込みます．  \n",
    "また，学習をおこないやすくするため，テンソル型に変換したのち，画像の3チャネルの画素値の平均と分散を0.5 に正規化します．  \n",
    "データの読み込みにはtorchvisionに用意されているCIFAR10を利用します．そして，DataLoaderを使ってバッチサイズ（学習に使われる1単位のデータ集合の数）ごとにデータを分割します．"
   ]
  },
  {
   "cell_type": "code",
   "execution_count": 2,
   "metadata": {
    "colab": {
     "base_uri": "https://localhost:8080/"
    },
    "id": "MJ5ZbhX0WEyL",
    "jupyter": {
     "outputs_hidden": true
    },
    "outputId": "1dec9d44-6c09-4691-a037-862d070a1372"
   },
   "outputs": [
    {
     "name": "stdout",
     "output_type": "stream",
     "text": [
      "Files already downloaded and verified\n",
      "Files already downloaded and verified\n"
     ]
    }
   ],
   "source": [
    "#読み込みの際の一連の画像変換をまとめて記載\n",
    "transform = transforms.Compose(\n",
    "    [transforms.ToTensor(),#テンソル型にデータを変換\n",
    "     transforms.Normalize((0.5, 0.5, 0.5), (0.5, 0.5, 0.5))])#平均，分散をそれぞれ0.5 に設定\n",
    "\n",
    "#バッチサイズの決定\n",
    "batch_size = 4\n",
    "\n",
    "#学習データの読み込み\n",
    "trainset = torchvision.datasets.CIFAR10(root='./data', train=True,\n",
    "                                        download=True, transform=transform)\n",
    "#学習データのDataLoader\n",
    "trainloader = torch.utils.data.DataLoader(trainset, batch_size=batch_size,\n",
    "                                          shuffle=True, num_workers=2)\n",
    "#テストデータの読み込み\n",
    "testset = torchvision.datasets.CIFAR10(root='./data', train=False,\n",
    "                                       download=True, transform=transform)\n",
    "#テストデータのDataLoader\n",
    "testloader = torch.utils.data.DataLoader(testset, batch_size=batch_size,\n",
    "                                         shuffle=False, num_workers=2)\n",
    "#データのクラス\n",
    "classes = ('plane', 'car', 'bird', 'cat',\n",
    "           'deer', 'dog', 'frog', 'horse', 'ship', 'truck')"
   ]
  },
  {
   "cell_type": "code",
   "execution_count": 3,
   "metadata": {
    "jupyter": {
     "outputs_hidden": true
    }
   },
   "outputs": [
    {
     "name": "stdout",
     "output_type": "stream",
     "text": [
      "(50000, 32, 32, 3)\n",
      "(10000, 32, 32, 3)\n"
     ]
    }
   ],
   "source": [
    "print(trainset.data.shape)\n",
    "print(testset.data.shape)"
   ]
  },
  {
   "cell_type": "markdown",
   "metadata": {},
   "source": [
    "データにどのような画像が含まれているか，1つのバッチを見てみましょう．\n",
    "テンソル形式の画像データをnumpy 形式に変換し，matplotlib を使って表示させます．"
   ]
  },
  {
   "cell_type": "code",
   "execution_count": 4,
   "metadata": {
    "colab": {
     "base_uri": "https://localhost:8080/",
     "height": 155
    },
    "id": "tRcib9VQWeBR",
    "jupyter": {
     "outputs_hidden": true
    },
    "outputId": "e240e0a6-3090-4458-adaa-7ed27311b9c4"
   },
   "outputs": [
    {
     "name": "stderr",
     "output_type": "stream",
     "text": [
      "\n",
      "Bad key text.latex.preview in file /Users/nakatani/.pyenv/versions/anaconda3-5.3.0/envs/m1/lib/python3.7/site-packages/matplotlib/mpl-data/stylelib/_classic_test.mplstyle, line 123 ('text.latex.preview : False')\n",
      "You probably need to get an updated matplotlibrc file from\n",
      "https://github.com/matplotlib/matplotlib/blob/v3.5.1/matplotlibrc.template\n",
      "or from the matplotlib source distribution\n",
      "\n",
      "Bad key mathtext.fallback_to_cm in file /Users/nakatani/.pyenv/versions/anaconda3-5.3.0/envs/m1/lib/python3.7/site-packages/matplotlib/mpl-data/stylelib/_classic_test.mplstyle, line 155 ('mathtext.fallback_to_cm : True  # When True, use symbols from the Computer Modern')\n",
      "You probably need to get an updated matplotlibrc file from\n",
      "https://github.com/matplotlib/matplotlib/blob/v3.5.1/matplotlibrc.template\n",
      "or from the matplotlib source distribution\n",
      "\n",
      "Bad key savefig.jpeg_quality in file /Users/nakatani/.pyenv/versions/anaconda3-5.3.0/envs/m1/lib/python3.7/site-packages/matplotlib/mpl-data/stylelib/_classic_test.mplstyle, line 418 ('savefig.jpeg_quality: 95       # when a jpeg is saved, the default quality parameter.')\n",
      "You probably need to get an updated matplotlibrc file from\n",
      "https://github.com/matplotlib/matplotlib/blob/v3.5.1/matplotlibrc.template\n",
      "or from the matplotlib source distribution\n",
      "\n",
      "Bad key keymap.all_axes in file /Users/nakatani/.pyenv/versions/anaconda3-5.3.0/envs/m1/lib/python3.7/site-packages/matplotlib/mpl-data/stylelib/_classic_test.mplstyle, line 466 ('keymap.all_axes : a                 # enable all axes')\n",
      "You probably need to get an updated matplotlibrc file from\n",
      "https://github.com/matplotlib/matplotlib/blob/v3.5.1/matplotlibrc.template\n",
      "or from the matplotlib source distribution\n",
      "\n",
      "Bad key animation.avconv_path in file /Users/nakatani/.pyenv/versions/anaconda3-5.3.0/envs/m1/lib/python3.7/site-packages/matplotlib/mpl-data/stylelib/_classic_test.mplstyle, line 477 ('animation.avconv_path: avconv     # Path to avconv binary. Without full path')\n",
      "You probably need to get an updated matplotlibrc file from\n",
      "https://github.com/matplotlib/matplotlib/blob/v3.5.1/matplotlibrc.template\n",
      "or from the matplotlib source distribution\n",
      "\n",
      "Bad key animation.avconv_args in file /Users/nakatani/.pyenv/versions/anaconda3-5.3.0/envs/m1/lib/python3.7/site-packages/matplotlib/mpl-data/stylelib/_classic_test.mplstyle, line 479 ('animation.avconv_args:            # Additional arguments to pass to avconv')\n",
      "You probably need to get an updated matplotlibrc file from\n",
      "https://github.com/matplotlib/matplotlib/blob/v3.5.1/matplotlibrc.template\n",
      "or from the matplotlib source distribution\n"
     ]
    },
    {
     "data": {
      "image/png": "[encoded data removed]",
      "text/plain": [
       "<Figure size 640x480 with 1 Axes>"
      ]
     },
     "metadata": {},
     "output_type": "display_data"
    },
    {
     "name": "stdout",
     "output_type": "stream",
     "text": [
      "horse car   dog   cat  \n"
     ]
    }
   ],
   "source": [
    "import matplotlib.pyplot as plt\n",
    "import numpy as np\n",
    "\n",
    "# データの表示するモジュール\n",
    "def imshow(img):\n",
    "    img = img / 2 + 0.5     # 正規化前に画像を戻す\n",
    "    npimg = img.numpy()\n",
    "    plt.imshow(np.transpose(npimg, (1, 2, 0)))\n",
    "    plt.show()\n",
    "\n",
    "\n",
    "# 学習データのバッチを1つ取ってくる\n",
    "dataiter = iter(trainloader)\n",
    "images, labels = dataiter.next()\n",
    "\n",
    "# 画像の表示\n",
    "imshow(torchvision.utils.make_grid(images))\n",
    "# ラベルデータの表示\n",
    "print(' '.join(f'{classes[labels[j]]:5s}' for j in range(batch_size)))"
   ]
  },
  {
   "cell_type": "markdown",
   "metadata": {},
   "source": [
    "## ネットワークの構築\n",
    "ネットワークをどのようにして作成するか説明します．\n",
    "まずは，ニューラルネットワークのパッケージと，その関数のパッケージを読み込みます．"
   ]
  },
  {
   "cell_type": "code",
   "execution_count": 5,
   "metadata": {
    "jupyter": {
     "outputs_hidden": true
    },
    "tags": []
   },
   "outputs": [],
   "source": [
    "import torch.nn as nn\n",
    "import torch.nn.functional as F"
   ]
  },
  {
   "cell_type": "markdown",
   "metadata": {},
   "source": [
    "続いて，ネットワークの構造を記載します．  \n",
    "ここでは，nn.Module クラスを継承して，サブクラスを定義する方法を紹介します．  \n",
    "nnパッケージには，ニューラルネットワークでのネットワーク構成に必要な関数がそれぞれ用意されています．それを用いてネットワークを構築していきます．  \n",
    "代表的なものは以下のものです．引数，用途などの関数の詳細は[PyTorchのnnパッケージの説明サイト](https://pytorch.org/docs/stable/nn.html#convolution-layers)を参考にして下さい．  \n",
    "\n",
    "- **nn.Conv2D**　2次元の畳み込み積分を行います．\n",
    "- **nn.MaxPool2d** 2次元の最大値プーリングを行います．\n",
    "- **nn.Linear** 線形変換を行います．全結合層に使われます．\n",
    "\n",
    "ネットワークの定義では，まず，コンストラクタに自分の利用したいレイヤーを宣言します．続いて，foward 関数で，モデルを入力から出力まで，どのように接続するかを定義します．  \n",
    "例として，以下のネットワークを組んでみます．  \n",
    "\n",
    "**入力** : 28X28 ピクセルのグレースケール（1 channel）画像  \n",
    "- カーネルサイズが3X3で，出力の特徴マップのチャネルが2の2次元畳み込み積分をして，その結果にReLU 関数を施す \n",
    "- 着目領域を2X2ピクセル，ストライド2ピクセルとして2次元の最大値プーリングを行う\n",
    "- 特徴マップを1つの特徴ベクトルに平坦化\n",
    "- 全結合層で特徴ベクトルを6次元ベクトルに変換  \n",
    "\n",
    "**出力** : ６次元ベクトル  \n"
   ]
  },
  {
   "cell_type": "code",
   "execution_count": 6,
   "metadata": {
    "jupyter": {
     "outputs_hidden": true
    }
   },
   "outputs": [],
   "source": [
    "class _samplenet( nn.Module ):\n",
    "    #コンストラクタの定義（ネットワークの中で利用したいレイヤーの宣言）\n",
    "    def __init__(self):\n",
    "        super().__init__()#superクラス（親クラス）のコンストラクタを呼び出し\n",
    "        self.conv =  nn.Conv2d( 1, 2, 3 )#入力画像のチャネルが1，カーネル数2，カーネルサイズ3X3の2次元畳み込み積分レイヤー\n",
    "        self.pool = nn.MaxPool2d( 2, 2 )#2X2 の領域を用い，ストライド2 で2次元MaxPoolingを行うレイヤー \n",
    "        self.fc = nn.Linear( 13*13*2, 6 )#入力が13*13*2 の全結合レイヤー\n",
    "\n",
    "    #forward モジュールの定義，x: 入力\n",
    "    def forward( self, x ):\n",
    "        x = self.pool(F.relu(self.conv(x)) )#入力に対して畳み込み積分を行った後，relu 関数を施して，プーリング\n",
    "        x = tourch.flatten( x, 1 )#特徴を一つのベクトルに平坦化\n",
    "        x = self.fc(x)#全結合層\n",
    "        return x   "
   ]
  },
  {
   "cell_type": "markdown",
   "metadata": {},
   "source": [
    "ネットワークの構築で注意すべきところは，生成された特徴マップの次元数です．  \n",
    "$k \\times k$のカーネルによる2次元の畳み込みの際に生成される特徴マップは，一般的に入力の画像サイズが$W \\times H$の場合，$(W-(k-1)) \\times (H-(k-1))$となります．  \n",
    "上記の例では，入力画像が28X28ピクセル，カーネルサイズが3X3であったことから，特徴マップのサイズは26X26となります．  \n",
    "そして，着目領域が2X2，ストライドが2で最大値プーリングを施すと，特徴マップのサイズは縦，横方向がそれぞれ1/2のサイズとなることから，13X13になります．  \n",
    "2次元畳み込み積分の際の出力の特徴マップのチャネルを2にしていたので，2次元畳み込み積分，relu 関数を施してプーリングし，平坦化したときの特徴は13X13X2となります.  \n",
    "そのため，上記の```nn.Linear``` 最初の引数が 13\\*13\\*2となっているわけです．\n",
    "\n",
    "定義ができたところで，ネットワークがどのようになっているか表示をさせてみましょう．"
   ]
  },
  {
   "cell_type": "code",
   "execution_count": 7,
   "metadata": {
    "jupyter": {
     "outputs_hidden": true
    }
   },
   "outputs": [
    {
     "name": "stdout",
     "output_type": "stream",
     "text": [
      "_samplenet(\n",
      "  (conv): Conv2d(1, 2, kernel_size=(3, 3), stride=(1, 1))\n",
      "  (pool): MaxPool2d(kernel_size=2, stride=2, padding=0, dilation=1, ceil_mode=False)\n",
      "  (fc): Linear(in_features=338, out_features=6, bias=True)\n",
      ")\n"
     ]
    }
   ],
   "source": [
    "samplenet = _samplenet() #samplenetのインスタンスを作成\n",
    "print( samplenet )#表示"
   ]
  },
  {
   "cell_type": "markdown",
   "metadata": {},
   "source": [
    "ネットワークのカーネルのサイズや構造が表示されたかと思います．\n",
    "## 課題1：指定のネットワークを構築\n",
    "それでは，実際にネットワークを組んでみましょう．  \n",
    "今回用いるCIFAR-10は32X32ピクセルのカラー画像で．カテゴリが10個あるため，入力を32X32 ピクセルのカラー（3 channels）画像，出力はベクトルの各要素が対応するカテゴリに属する程度を示す10次元のベクトルとします．\n",
    "\n",
    "**入力** : 32X32 ピクセルのカラー（3 channels）画像  \n",
    "- カーネルサイズが5X5，出力の特徴マップのチャネルが6の2次元畳み込み積分をして，その結果にReLU 関数を施す\n",
    "- 着目領域を2X2ピクセル，ストライド2ピクセルとして2次元の最大値プーリングを行う\n",
    "- カーネルサイズが5X5，出力の特徴マップのチャネルが16の2次元畳み込み積分をして，その結果にReLU 関数を施す\n",
    "- 着目領域を2X2ピクセル，ストライド2ピクセルとして2次元の最大値プーリングを行う\n",
    "- 特徴マップを1つの特徴ベクトルに平坦化\n",
    "- 全結合層で特徴ベクトルを120次元に変換し，ReLU関数を施す\n",
    "- 全結合層で特徴ベクトル84次元に変換し，ReLU関数を施す\n",
    "- 全結合層で特徴ベクトルを10次元に変換する\n",
    "\n",
    "**出力** : 10次元ベクトル  \n",
    "\n",
    "下記セルにネットワークを記述して下さい．"
   ]
  },
  {
   "cell_type": "code",
   "execution_count": 8,
   "metadata": {
    "colab": {
     "base_uri": "https://localhost:8080/"
    },
    "id": "8HVVImByWqkd",
    "jupyter": {
     "outputs_hidden": true
    },
    "outputId": "cb071151-7cd0-4c0d-f9c4-61b42500cb6d"
   },
   "outputs": [],
   "source": [
    "class Net(nn.Module):\n",
    "    def __init__(self):\n",
    "        super().__init__()\n",
    "        self.conv1 = nn.Conv2d(3, 6, 5)\n",
    "        self.conv2 = nn.Conv2d(6, 16, 5)\n",
    "        self.maxpool = nn.MaxPool2d(2, stride=2)\n",
    "        self.fc1 = nn.Linear(5*5*16, 120)\n",
    "        self.fc2 = nn.Linear(120, 84)\n",
    "        self.fc3 = nn.Linear(84, 10)\n",
    "        \n",
    "    def forward(self, x):\n",
    "        #レイヤー接続の定義を記入\n",
    "        x = F.relu(self.conv1(x))\n",
    "        x = self.maxpool(x)\n",
    "        x = F.relu(self.conv2(x))\n",
    "        x = self.maxpool(x)\n",
    "        x = x.view(-1, 400)\n",
    "        x = F.relu(self.fc1(x))\n",
    "        x = F.relu(self.fc2(x))\n",
    "        x = F.relu(self.fc3(x))\n",
    "        \n",
    "        return x"
   ]
  },
  {
   "cell_type": "markdown",
   "metadata": {},
   "source": [
    "ネットワークが指示通り組めたか，インスタンスを作成して出力します．"
   ]
  },
  {
   "cell_type": "code",
   "execution_count": 9,
   "metadata": {
    "jupyter": {
     "outputs_hidden": true
    }
   },
   "outputs": [
    {
     "name": "stdout",
     "output_type": "stream",
     "text": [
      "Net(\n",
      "  (conv1): Conv2d(3, 6, kernel_size=(5, 5), stride=(1, 1))\n",
      "  (conv2): Conv2d(6, 16, kernel_size=(5, 5), stride=(1, 1))\n",
      "  (maxpool): MaxPool2d(kernel_size=2, stride=2, padding=0, dilation=1, ceil_mode=False)\n",
      "  (fc1): Linear(in_features=400, out_features=120, bias=True)\n",
      "  (fc2): Linear(in_features=120, out_features=84, bias=True)\n",
      "  (fc3): Linear(in_features=84, out_features=10, bias=True)\n",
      ")\n"
     ]
    }
   ],
   "source": [
    "net = Net()\n",
    "print( net )"
   ]
  },
  {
   "cell_type": "markdown",
   "metadata": {},
   "source": [
    "正しく組めているようであれば，以下のように出力されるはずです．但し，レイヤーの名称（各行の先頭の括弧内の文字）は各個人で異なるので，必ずしも一致しません．\n",
    "```\n",
    "Net(\n",
    "  (conv1): Conv2d(3, 6, kernel_size=(5, 5), stride=(1, 1))\n",
    "  (pool): MaxPool2d(kernel_size=2, stride=2, padding=0, dilation=1, ceil_mode=False)\n",
    "  (conv2): Conv2d(6, 16, kernel_size=(5, 5), stride=(1, 1))\n",
    "  (fc1): Linear(in_features=400, out_features=120, bias=True)\n",
    "  (fc2): Linear(in_features=120, out_features=84, bias=True)\n",
    "  (fc3): Linear(in_features=84, out_features=10, bias=True)\n",
    ")\n",
    "```"
   ]
  },
  {
   "cell_type": "markdown",
   "metadata": {},
   "source": [
    "## Loss と最適化アルゴリズム\n",
    "ネットワークが構築できたら，次はloss と最適化アルゴリズムを指定しましょう．\n",
    "PyTorch には，最適化アルゴリズムのパッケージoptim が用意されていますので，まずはそちらをimport します．"
   ]
  },
  {
   "cell_type": "code",
   "execution_count": 10,
   "metadata": {
    "id": "GF6mub9tajHa",
    "jupyter": {
     "outputs_hidden": true
    },
    "tags": []
   },
   "outputs": [],
   "source": [
    "import torch.optim as optim"
   ]
  },
  {
   "cell_type": "markdown",
   "metadata": {},
   "source": [
    "## 課題2：Loss 関数と最適化アルゴリズムの設定\n",
    "今回，10クラス識別問題ということで，loss function にはクロスエントロピーを，最適化アルゴリズムはニューラルネットワークのパラメータ決定によく使われる確率的勾配降下法(stochastic gradient descent, SGD)を下のコードブロックでインスタンスを生成することで指定しましょう．   \n",
    "[loss function一覧](https://pytorch.org/docs/stable/nn.html#loss-functions)から，クロスエントロピーを指定して下さい．パラメータはデフォルトのままで指定する必要はありません.  \n",
    "[最適化アルゴリズム一覧](https://pytorch.org/docs/stable/optim.html#algorithms)から，今回はSGDを選んで以下のコードブロックで指定して下さい．gamma（学習率）の値を0.001, momentum を0.9 に指定して下さい．"
   ]
  },
  {
   "cell_type": "code",
   "execution_count": 11,
   "metadata": {
    "jupyter": {
     "outputs_hidden": true
    }
   },
   "outputs": [],
   "source": [
    "#loss の指定（None を書き換える）\n",
    "criterion = F.cross_entropy\n",
    "#最適化アルゴリズムの指定（None を書き換える）\n",
    "optimizer = optim.SGD(net.parameters(), lr=0.001, momentum=0.9)"
   ]
  },
  {
   "cell_type": "markdown",
   "metadata": {},
   "source": [
    "## 学習\n",
    "ネットワークの定義と，Loss 関数，最適化アルゴリズムの指定ができたので，次は学習です．\n",
    "変数``epoch``は，学習データネットワークに学習させた回数を示しており，今回は2回にしています．"
   ]
  },
  {
   "cell_type": "code",
   "execution_count": 12,
   "metadata": {
    "colab": {
     "base_uri": "https://localhost:8080/"
    },
    "id": "r4yQ8Bn477sF",
    "jupyter": {
     "outputs_hidden": true
    },
    "outputId": "6b20a5f8-1f81-495c-dcde-ece10aff1431"
   },
   "outputs": [
    {
     "name": "stdout",
     "output_type": "stream",
     "text": [
      "[1,  2000] loss: 2.289\n",
      "[1,  4000] loss: 2.133\n",
      "[1,  6000] loss: 1.877\n",
      "[1,  8000] loss: 1.732\n",
      "[1, 10000] loss: 1.561\n",
      "[1, 12000] loss: 1.507\n",
      "[2,  2000] loss: 1.418\n",
      "[2,  4000] loss: 1.387\n",
      "[2,  6000] loss: 1.354\n",
      "[2,  8000] loss: 1.349\n",
      "[2, 10000] loss: 1.333\n",
      "[2, 12000] loss: 1.299\n",
      "Finished Training\n"
     ]
    }
   ],
   "source": [
    "for epoch in range(2):  #データ全体を2回学習させる\n",
    "\n",
    "    #学習データのロス\n",
    "    running_loss = 0.0\n",
    "    for i, data in enumerate(trainloader, 0):\n",
    "        #Dataloader から入力されたデータを入力（画像データ）正解ラベルに分割\n",
    "        inputs, labels = data\n",
    "\n",
    "        # 最適化アルゴリズムの勾配を0に設定して初期化\n",
    "        optimizer.zero_grad()\n",
    "\n",
    "        #現状のパラメータを用いて，画像が入力された時の出力結果を計算\n",
    "        outputs = net(inputs)\n",
    "        #ネットワークの出力と正解ラベルからloss を計算\n",
    "        loss = criterion(outputs, labels)\n",
    "        #lossから誤差逆伝搬法を適用\n",
    "        loss.backward()\n",
    "        #SGD によるネットワークパラメータの更新\n",
    "        optimizer.step()\n",
    "\n",
    "        # 学習の状態の出力\n",
    "        running_loss += loss.item()\n",
    "        if i % 2000 == 1999:    # 2000バッチごとに出力\n",
    "            print(f'[{epoch + 1}, {i + 1:5d}] loss: {running_loss / 2000:.3f}')\n",
    "            running_loss = 0.0\n",
    "\n",
    "print('Finished Training')"
   ]
  },
  {
   "cell_type": "markdown",
   "metadata": {},
   "source": [
    "学習した結果を一旦保存します．"
   ]
  },
  {
   "cell_type": "code",
   "execution_count": 13,
   "metadata": {
    "jupyter": {
     "outputs_hidden": true
    }
   },
   "outputs": [],
   "source": [
    "PATH = './cifar_net.pth'\n",
    "torch.save(net.state_dict(), PATH)"
   ]
  },
  {
   "cell_type": "markdown",
   "metadata": {},
   "source": [
    "## 識別器の評価  \n",
    "テストデータを用いて識別器を評価します．まずは，テストデータの1つ目のバッチがどのようなもか見てみましょう．"
   ]
  },
  {
   "cell_type": "code",
   "execution_count": 14,
   "metadata": {
    "colab": {
     "base_uri": "https://localhost:8080/",
     "height": 155
    },
    "id": "aUHHlJBW79cy",
    "jupyter": {
     "outputs_hidden": true
    },
    "outputId": "1be91dbd-332a-48ae-f587-c624aa3f10bf"
   },
   "outputs": [
    {
     "data": {
      "image/png": "[encoded data removed]",
      "text/plain": [
       "<Figure size 640x480 with 1 Axes>"
      ]
     },
     "metadata": {},
     "output_type": "display_data"
    },
    {
     "name": "stdout",
     "output_type": "stream",
     "text": [
      "GroundTruth:  cat   ship  ship  plane\n"
     ]
    }
   ],
   "source": [
    "#イテレータを使って，テストデータの最初のバッチにアクセス\n",
    "dataiter = iter(testloader)\n",
    "#画像データと正解ラベルに分割\n",
    "images, labels = dataiter.next()\n",
    "\n",
    "# 出力\n",
    "imshow(torchvision.utils.make_grid(images))\n",
    "print('GroundTruth: ', ' '.join(f'{classes[labels[j]]:5s}' for j in range(4)))"
   ]
  },
  {
   "cell_type": "markdown",
   "metadata": {},
   "source": [
    "それでは，学習したネットワークのパラメータを読み込み，これらを識別してみましょう．"
   ]
  },
  {
   "cell_type": "code",
   "execution_count": 15,
   "metadata": {
    "colab": {
     "base_uri": "https://localhost:8080/"
    },
    "id": "TfU8cN1S9Ee4",
    "jupyter": {
     "outputs_hidden": true
    },
    "outputId": "eb0ce9de-bcf0-4e82-a39e-453f1c84f635"
   },
   "outputs": [
    {
     "data": {
      "text/plain": [
       "<All keys matched successfully>"
      ]
     },
     "execution_count": 15,
     "metadata": {},
     "output_type": "execute_result"
    }
   ],
   "source": [
    "#インスタンス生成\n",
    "net = Net()\n",
    "#学習結果を読み込み\n",
    "net.load_state_dict(torch.load(PATH))"
   ]
  },
  {
   "cell_type": "markdown",
   "metadata": {},
   "source": [
    "画像データをネットワークに入力して，出力結果がどうなっているかを見ましょう．\n",
    "ネットワークの出力は，10次元のベクトルとなっており，その中で最大の値が対応する画像クラスになるように学習されています．ですので，出力されたベクトルの位置で最大のもの該当するクラスを出力します．"
   ]
  },
  {
   "cell_type": "code",
   "execution_count": 16,
   "metadata": {
    "id": "3aC3kx_j9GSt",
    "jupyter": {
     "outputs_hidden": true
    }
   },
   "outputs": [
    {
     "name": "stdout",
     "output_type": "stream",
     "text": [
      "Predicted:  cat   car   car   truck\n"
     ]
    }
   ],
   "source": [
    "outputs = net(images)\n",
    "_, predicted = torch.max(outputs, 1)\n",
    "\n",
    "print('Predicted: ', ' '.join(f'{classes[predicted[j]]:5s}'\n",
    "                              for j in range(4)))"
   ]
  },
  {
   "cell_type": "markdown",
   "metadata": {},
   "source": [
    "正解データと比較してどうでしたでしょうか？\n",
    "それでは，全てのテストデータで評価を行い，精度を出力してみましょう．"
   ]
  },
  {
   "cell_type": "code",
   "execution_count": 17,
   "metadata": {
    "colab": {
     "base_uri": "https://localhost:8080/"
    },
    "id": "FSwsAHy69JVg",
    "jupyter": {
     "outputs_hidden": true
    },
    "outputId": "6a226e04-ce9d-47de-9c92-a2a13b4a06d3"
   },
   "outputs": [
    {
     "name": "stdout",
     "output_type": "stream",
     "text": [
      "Accuracy of the network on the 10000 test images: 53 %\n"
     ]
    }
   ],
   "source": [
    "correct = 0\n",
    "total = 0\n",
    "with torch.no_grad():\n",
    "    for data in testloader:\n",
    "        images, labels = data\n",
    "        # 画像データをネットワークに入力して計算\n",
    "        outputs = net(images)\n",
    "        #10次元ベクトルのうち，最も大きい値を示す要素に対応するカテゴリを識別結果とする\n",
    "        _, predicted = torch.max(outputs.data, 1)\n",
    "        total += labels.size(0)\n",
    "        #正しく認識されたものの数を数える\n",
    "        correct += (predicted == labels).sum().item()\n",
    "\n",
    "print(f'Accuracy of the network on the 10000 test images: {100 * correct // total} %')"
   ]
  },
  {
   "cell_type": "markdown",
   "metadata": {},
   "source": [
    "## 課題3：各クラスでの認識精度を算出\n",
    "上記を参考に，それぞれの画像クラスでの精度を計算してみましょう．精度は（各クラスで正しく正解したテスト画像数）/（各クラスのテスト画像総数）となります．\n",
    "出力は\n",
    "```\n",
    "plane : 0.XXXX \n",
    "car   : 0.XXXX \n",
    "bird  : 0.XXXX \n",
    "cat   : 0.XXXX\n",
    "deer  : 0.XXXX \n",
    "dog   : 0.XXXX \n",
    "frog  : 0.XXXX \n",
    "horse : 0.XXXX \n",
    "ship  : 0.XXXX \n",
    "truck : 0.XXXX\n",
    "```\n",
    "という形で結構です．"
   ]
  },
  {
   "cell_type": "code",
   "execution_count": 18,
   "metadata": {
    "colab": {
     "base_uri": "https://localhost:8080/"
    },
    "id": "UN7F5eaf9QwQ",
    "jupyter": {
     "outputs_hidden": true
    },
    "outputId": "d57edc45-ca53-415a-9456-dc06870ecfb3",
    "tags": []
   },
   "outputs": [
    {
     "name": "stdout",
     "output_type": "stream",
     "text": [
      "plane: 0.58\n",
      "car  : 0.733\n",
      "bird : 0.284\n",
      "cat  : 0.181\n",
      "deer : 0.424\n",
      "dog  : 0.588\n",
      "frog : 0.616\n",
      "horse: 0.695\n",
      "ship : 0.476\n",
      "truck: 0.738\n",
      "\n"
     ]
    }
   ],
   "source": [
    "#各クラスの精度を計算し，出力するコードを書いて下さい．\n",
    "correct = [0]*10\n",
    "total = [0]*10\n",
    "false_cnt = 0\n",
    "with torch.no_grad():\n",
    "    for data in testloader:\n",
    "        images, labels = data\n",
    "        # 画像データをネットワークに入力して計算\n",
    "        outputs = net(images)\n",
    "        #10次元ベクトルのうち，最も大きい値を示す要素に対応するカテゴリを識別結果とする\n",
    "        _, predicted = torch.max(outputs.data, 1)\n",
    "        for l, p in zip(labels, predicted):\n",
    "            false_cnt += int(p != l)\n",
    "            correct[l.item()] += int(p == l) # add 0 or 1\n",
    "            total[l.item()] += 1\n",
    "        \n",
    "\n",
    "print(''.join(f'{classes[i]:5s}: {crct/ttl}\\n' for i, crct, ttl in zip(range(10), correct, total)))\n",
    "assert np.sum(correct) + false_cnt==10000, print('failed to count up')\n"
   ]
  },
  {
   "cell_type": "markdown",
   "metadata": {},
   "source": [
    "## 課題4：精度の考察\n",
    "今回の認識精度ですが，おおよそ50%程度であったかと思います．認識精度を改善させるためには，学習でどのような改善をする必要があるか，その案を下記に記入して下さい．  \n",
    "記入欄はテキストボックスにしていますが，Markdown 形式にボックスの書式を変更して書いても問題ありません．"
   ]
  },
  {
   "cell_type": "markdown",
   "metadata": {},
   "source": [
    "* 畳み込み層を多数重ねてdeepなネットワークに置き換える．\n",
    "* 大域的な情報と局所的な情報を組み合わせるような機構(skip connection)を取り入れる．\n",
    "* validationデータによってハイパーパラメータを調整した後にテストを行う．\n",
    "* data augmentationを行って学習データを増やす．\n",
    "* 学習のエポックを増やす．"
   ]
  },
  {
   "cell_type": "markdown",
   "metadata": {},
   "source": [
    "**お疲れ様でした！！！**  \n",
    "最初のテキストボックスに学籍番号と氏名を記入し，全てのセルを実行済みにして保存したのち，[moodle](https://lms.omu.ac.jp/mod/assign/view.php?id=743958)から提出して下さい．提出期限は6/30 23:59 です．"
   ]
  }
 ],
 "metadata": {
  "colab": {
   "collapsed_sections": [],
   "name": "ex11sample.ipynb",
   "provenance": []
  },
  "kernelspec": {
   "display_name": "Python 3",
   "language": "python",
   "name": "python3"
  },
  "language_info": {
   "codemirror_mode": {
    "name": "ipython",
    "version": 3
   },
   "file_extension": ".py",
   "mimetype": "text/x-python",
   "name": "python",
   "nbconvert_exporter": "python",
   "pygments_lexer": "ipython3",
   "version": "3.7.13"
  }
 },
 "nbformat": 4,
 "nbformat_minor": 4
}

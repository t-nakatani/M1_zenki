{
 "cells": [
  {
   "cell_type": "markdown",
   "id": "cf2adf77",
   "metadata": {},
   "source": [
    "mfcc: 人の感知特性を考慮したcepstrum特徴"
   ]
  },
  {
   "cell_type": "code",
   "execution_count": 1,
   "id": "42c623d7",
   "metadata": {},
   "outputs": [],
   "source": [
    "import librosa\n",
    "import numpy as np\n",
    "import glob\n",
    "\n",
    "def mfcc(origin_data):\n",
    "    D = np.abs(librosa.stft(origin_data))\n",
    "    D_dB = librosa.amplitude_to_db(D, ref=np.max)\n",
    "\n",
    "    # メルスペクトログラムを算出\n",
    "    S = librosa.feature.melspectrogram(S=D, sr=sampling_rate)\n",
    "    S_dB = librosa.amplitude_to_db(S, ref=np.max)\n",
    "\n",
    "    # MFCCを算出\n",
    "    mfcc = librosa.feature.mfcc(S=S_dB, n_mfcc=20, dct_type=3)\n",
    "    return mfcc.T\n",
    "\n",
    "def lpc(origin_data, num_win, winsz = 2048, hopsz = 512):\n",
    "    arr2d_win = np.array([])\n",
    "    start = 0\n",
    "    end = winsz\n",
    "    for i in range(num_win):\n",
    "        arr_win = origin_data[start:end]\n",
    "        if len(arr_win) < 2048:\n",
    "            zero_padding = np.zeros(2048 - len(arr_win))\n",
    "    #         print('padding_size: ', len(zero_padding))\n",
    "            arr_win = np.append(arr_win, zero_padding)\n",
    "    #     print(len(arr_win))\n",
    "        arr2d_win = np.append(arr2d_win, arr_win)\n",
    "        start += hopsz\n",
    "        end += hopsz\n",
    "    arr2d_win_ = arr2d_win.reshape((-1, 2048))\n",
    "    lpc_output = librosa.lpc(arr2d_win_, order=16)\n",
    "    return lpc_output"
   ]
  },
  {
   "cell_type": "code",
   "execution_count": 3,
   "id": "5d1a9ea7",
   "metadata": {},
   "outputs": [],
   "source": [
    "paths = sorted(\n",
    "    glob.glob('../data/voice-stat/*/*_00*') + \n",
    "    glob.glob('../data/voice-stat/*/*_01*') + \n",
    "    glob.glob('../data/voice-stat/*/*_020*')\n",
    ")"
   ]
  },
  {
   "cell_type": "code",
   "execution_count": 4,
   "id": "487cb3bf",
   "metadata": {
    "scrolled": true
   },
   "outputs": [
    {
     "name": "stdout",
     "output_type": "stream",
     "text": [
      "i = 0\n",
      "i = 10\n",
      "i = 20\n",
      "i = 30\n",
      "i = 40\n",
      "i = 50\n"
     ]
    }
   ],
   "source": [
    "data_mfcc = np.empty((0, 20))\n",
    "data_lpc = np.empty((0, 17))\n",
    "labels = np.empty(0)\n",
    "\n",
    "# i = 0 to 59\n",
    "for i, path in enumerate(paths):\n",
    "    if i %10 == 0:\n",
    "        print(f'i = {i}')\n",
    "    data_origin, sampling_rate = librosa.load(path)\n",
    "    features_mfcc = mfcc(data_origin)\n",
    "    features_lpc = lpc(data_origin, features_mfcc.shape[0])\n",
    "    \n",
    "    data_mfcc = np.vstack((data_mfcc, features_mfcc))\n",
    "    data_lpc = np.vstack((data_lpc, features_lpc))\n",
    "    \n",
    "    labels = np.append(labels, [i//20]*features_lpc.shape[0])"
   ]
  },
  {
   "cell_type": "code",
   "execution_count": 5,
   "id": "f36c26f4",
   "metadata": {},
   "outputs": [],
   "source": [
    "import pandas as pd\n",
    "df_mfcc = pd.DataFrame(data_mfcc)\n",
    "df_lpc = pd.DataFrame(data_lpc)\n",
    "df_mfcc['label'] = df_lpc['label'] = labels"
   ]
  },
  {
   "cell_type": "code",
   "execution_count": 6,
   "id": "69b6759a",
   "metadata": {},
   "outputs": [],
   "source": [
    "df_mfcc.to_csv('../data/csv/mfcc.csv')\n",
    "df_lpc.to_csv('../data/csv/lpc.csv')"
   ]
  },
  {
   "cell_type": "code",
   "execution_count": 8,
   "id": "8c4e86e4",
   "metadata": {},
   "outputs": [],
   "source": [
    "from sklearn import svm\n",
    "from sklearn.model_selection import train_test_split, GridSearchCV\n",
    "from sklearn.metrics import accuracy_score"
   ]
  },
  {
   "cell_type": "code",
   "execution_count": 10,
   "id": "fedc30d5",
   "metadata": {
    "scrolled": false
   },
   "outputs": [
    {
     "name": "stdout",
     "output_type": "stream",
     "text": [
      "グリッドサーチの範囲\n",
      " {'C': [0.1, 1, 10, 100, 1000], 'gamma': [1, 0.1, 0.01, 0.001, 0.0001], 'kernel': ['rbf']} \n",
      "\n",
      "最適なパラメータ\n",
      "C_opt: 10, gamma_opt: 0.0001\n",
      "\n",
      "best accuracy\n",
      " 0.7975966069745523\n"
     ]
    }
   ],
   "source": [
    "X_mfcc = np.array(df_mfcc.iloc[:, :19])\n",
    "y_mfcc = np.array(df_mfcc.iloc[:, 20])\n",
    "\n",
    "X_tr, X_ts, y_tr, y_ts = train_test_split(X_mfcc, y_mfcc, test_size=0.2, random_state=0)\n",
    "\n",
    "param_grid = {'C': [0.1, 1, 10, 100, 1000],  \n",
    "              'gamma': [1, 0.1, 0.01, 0.001, 0.0001], \n",
    "              'kernel': ['rbf']}\n",
    "print('グリッドサーチの範囲\\n', param_grid, '\\n')\n",
    "clf = GridSearchCV(svm.SVC(), param_grid, n_jobs = -1)\n",
    "clf.fit(X_tr, y_tr)\n",
    "print('最適なパラメータ\\nC_opt: {}, gamma_opt: {}\\n'.format(clf.best_params_['C'], clf.best_params_['gamma']))\n",
    "y_ts_pred = clf.predict(X_ts)\n",
    "print('best accuracy\\n', accuracy_score(y_ts_pred, y_ts))"
   ]
  },
  {
   "cell_type": "code",
   "execution_count": 14,
   "id": "86669327",
   "metadata": {},
   "outputs": [
    {
     "name": "stdout",
     "output_type": "stream",
     "text": [
      "グリッドサーチの範囲\n",
      " {'C': [0.1, 1, 10, 100, 1000], 'gamma': [1, 0.1, 0.01, 0.001, 0.0001], 'kernel': ['rbf']} \n",
      "\n",
      "最適なパラメータ\n",
      "C_opt: 100, gamma_opt: 1\n",
      "\n",
      "best accuracy\n",
      " 0.7834590009425071\n"
     ]
    }
   ],
   "source": [
    "X_lpc = np.array(df_lpc.iloc[:, :16])\n",
    "y_lpc = np.array(df_lpc.iloc[:, 17])\n",
    "X_tr, X_ts, y_tr, y_ts = train_test_split(X_lpc, y_lpc, test_size=0.2, random_state=0)\n",
    "\n",
    "param_grid = {'C': [0.1, 1, 10, 100, 1000],  \n",
    "              'gamma': [1, 0.1, 0.01, 0.001, 0.0001], \n",
    "              'kernel': ['rbf']}\n",
    "print('グリッドサーチの範囲\\n', param_grid, '\\n')\n",
    "clf = GridSearchCV(svm.SVC(), param_grid, n_jobs = -1)\n",
    "clf.fit(X_tr, y_tr)\n",
    "print('最適なパラメータ\\nC_opt: {}, gamma_opt: {}\\n'.format(clf.best_params_['C'], clf.best_params_['gamma']))\n",
    "y_ts_pred = clf.predict(X_ts)\n",
    "print('best accuracy\\n', accuracy_score(y_ts_pred, y_ts))"
   ]
  },
  {
   "cell_type": "markdown",
   "id": "34e47fd3",
   "metadata": {},
   "source": [
    "# 参考\n",
    "\n",
    "[librosa.feature.mfcc¶](https://librosa.org/doc/main/generated/librosa.feature.mfcc.html)\n",
    "\n",
    "[librosa.lpc¶](https://librosa.org/doc/main/generated/librosa.lpc.html)\n",
    "\n",
    "[MFCC（メル周波数ケプストラム係数）入門](https://qiita.com/tmtakashi_dist/items/eecb705ea48260db0b62)"
   ]
  },
  {
   "cell_type": "code",
   "execution_count": 62,
   "id": "95d7b7e0",
   "metadata": {},
   "outputs": [
    {
     "data": {
      "text/plain": [
       "1.84416"
      ]
     },
     "execution_count": 62,
     "metadata": {},
     "output_type": "execute_result"
    }
   ],
   "source": [
    "# feature * num_data * num_person * num_win *  size_float32\n",
    "17*20*3*452*4/1000/1000 "
   ]
  },
  {
   "cell_type": "code",
   "execution_count": null,
   "id": "f07eb224",
   "metadata": {},
   "outputs": [],
   "source": []
  }
 ],
 "metadata": {
  "kernelspec": {
   "display_name": "Python 3",
   "language": "python",
   "name": "python3"
  },
  "language_info": {
   "codemirror_mode": {
    "name": "ipython",
    "version": 3
   },
   "file_extension": ".py",
   "mimetype": "text/x-python",
   "name": "python",
   "nbconvert_exporter": "python",
   "pygments_lexer": "ipython3",
   "version": "3.7.13"
  }
 },
 "nbformat": 4,
 "nbformat_minor": 5
}

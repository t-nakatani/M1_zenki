{
 "cells": [
  {
   "cell_type": "code",
   "execution_count": 5,
   "id": "d340bf7d",
   "metadata": {},
   "outputs": [
    {
     "name": "stdout",
     "output_type": "stream",
     "text": [
      "\u001b[34mdata\u001b[m\u001b[m   \u001b[34mpynb\u001b[m\u001b[m   \u001b[34m課題\u001b[m\u001b[m   \u001b[34m資料\u001b[m\u001b[m\r\n"
     ]
    }
   ],
   "source": [
    "!ls ../"
   ]
  },
  {
   "cell_type": "code",
   "execution_count": 1,
   "id": "a69cbee2",
   "metadata": {},
   "outputs": [],
   "source": [
    "import numpy as np\n",
    "import pandas as pd"
   ]
  },
  {
   "cell_type": "code",
   "execution_count": 7,
   "id": "19eded11",
   "metadata": {},
   "outputs": [],
   "source": [
    "df_train = pd.read_csv('../data/Iris_training.csv')\n",
    "df_test = pd.read_csv('../data/Iris_test.csv')"
   ]
  },
  {
   "cell_type": "code",
   "execution_count": 8,
   "id": "45946662",
   "metadata": {},
   "outputs": [
    {
     "data": {
      "text/html": [
       "<div>\n",
       "<style scoped>\n",
       "    .dataframe tbody tr th:only-of-type {\n",
       "        vertical-align: middle;\n",
       "    }\n",
       "\n",
       "    .dataframe tbody tr th {\n",
       "        vertical-align: top;\n",
       "    }\n",
       "\n",
       "    .dataframe thead th {\n",
       "        text-align: right;\n",
       "    }\n",
       "</style>\n",
       "<table border=\"1\" class=\"dataframe\">\n",
       "  <thead>\n",
       "    <tr style=\"text-align: right;\">\n",
       "      <th></th>\n",
       "      <th>y_i</th>\n",
       "      <th>x_i1</th>\n",
       "      <th>x_i2</th>\n",
       "      <th>x_i3</th>\n",
       "      <th>x_i4</th>\n",
       "      <th>x_i5</th>\n",
       "      <th>specie</th>\n",
       "    </tr>\n",
       "  </thead>\n",
       "  <tbody>\n",
       "    <tr>\n",
       "      <th>0</th>\n",
       "      <td>0</td>\n",
       "      <td>5.1</td>\n",
       "      <td>3.5</td>\n",
       "      <td>1.4</td>\n",
       "      <td>0.2</td>\n",
       "      <td>1</td>\n",
       "      <td>Iris-setosa</td>\n",
       "    </tr>\n",
       "    <tr>\n",
       "      <th>1</th>\n",
       "      <td>0</td>\n",
       "      <td>4.9</td>\n",
       "      <td>3.0</td>\n",
       "      <td>1.4</td>\n",
       "      <td>0.2</td>\n",
       "      <td>1</td>\n",
       "      <td>Iris-setosa</td>\n",
       "    </tr>\n",
       "    <tr>\n",
       "      <th>2</th>\n",
       "      <td>0</td>\n",
       "      <td>4.7</td>\n",
       "      <td>3.2</td>\n",
       "      <td>1.3</td>\n",
       "      <td>0.2</td>\n",
       "      <td>1</td>\n",
       "      <td>Iris-setosa</td>\n",
       "    </tr>\n",
       "    <tr>\n",
       "      <th>3</th>\n",
       "      <td>0</td>\n",
       "      <td>4.6</td>\n",
       "      <td>3.1</td>\n",
       "      <td>1.5</td>\n",
       "      <td>0.2</td>\n",
       "      <td>1</td>\n",
       "      <td>Iris-setosa</td>\n",
       "    </tr>\n",
       "    <tr>\n",
       "      <th>4</th>\n",
       "      <td>0</td>\n",
       "      <td>5.0</td>\n",
       "      <td>3.6</td>\n",
       "      <td>1.4</td>\n",
       "      <td>0.2</td>\n",
       "      <td>1</td>\n",
       "      <td>Iris-setosa</td>\n",
       "    </tr>\n",
       "    <tr>\n",
       "      <th>...</th>\n",
       "      <td>...</td>\n",
       "      <td>...</td>\n",
       "      <td>...</td>\n",
       "      <td>...</td>\n",
       "      <td>...</td>\n",
       "      <td>...</td>\n",
       "      <td>...</td>\n",
       "    </tr>\n",
       "    <tr>\n",
       "      <th>85</th>\n",
       "      <td>1</td>\n",
       "      <td>7.2</td>\n",
       "      <td>3.2</td>\n",
       "      <td>6.0</td>\n",
       "      <td>1.8</td>\n",
       "      <td>1</td>\n",
       "      <td>Iris-virginica</td>\n",
       "    </tr>\n",
       "    <tr>\n",
       "      <th>86</th>\n",
       "      <td>1</td>\n",
       "      <td>6.2</td>\n",
       "      <td>2.8</td>\n",
       "      <td>4.8</td>\n",
       "      <td>1.8</td>\n",
       "      <td>1</td>\n",
       "      <td>Iris-virginica</td>\n",
       "    </tr>\n",
       "    <tr>\n",
       "      <th>87</th>\n",
       "      <td>1</td>\n",
       "      <td>6.1</td>\n",
       "      <td>3.0</td>\n",
       "      <td>4.9</td>\n",
       "      <td>1.8</td>\n",
       "      <td>1</td>\n",
       "      <td>Iris-virginica</td>\n",
       "    </tr>\n",
       "    <tr>\n",
       "      <th>88</th>\n",
       "      <td>1</td>\n",
       "      <td>6.4</td>\n",
       "      <td>2.8</td>\n",
       "      <td>5.6</td>\n",
       "      <td>2.1</td>\n",
       "      <td>1</td>\n",
       "      <td>Iris-virginica</td>\n",
       "    </tr>\n",
       "    <tr>\n",
       "      <th>89</th>\n",
       "      <td>1</td>\n",
       "      <td>7.2</td>\n",
       "      <td>3.0</td>\n",
       "      <td>5.8</td>\n",
       "      <td>1.6</td>\n",
       "      <td>1</td>\n",
       "      <td>Iris-virginica</td>\n",
       "    </tr>\n",
       "  </tbody>\n",
       "</table>\n",
       "<p>90 rows × 7 columns</p>\n",
       "</div>"
      ],
      "text/plain": [
       "    y_i  x_i1  x_i2  x_i3  x_i4  x_i5          specie\n",
       "0     0   5.1   3.5   1.4   0.2     1     Iris-setosa\n",
       "1     0   4.9   3.0   1.4   0.2     1     Iris-setosa\n",
       "2     0   4.7   3.2   1.3   0.2     1     Iris-setosa\n",
       "3     0   4.6   3.1   1.5   0.2     1     Iris-setosa\n",
       "4     0   5.0   3.6   1.4   0.2     1     Iris-setosa\n",
       "..  ...   ...   ...   ...   ...   ...             ...\n",
       "85    1   7.2   3.2   6.0   1.8     1  Iris-virginica\n",
       "86    1   6.2   2.8   4.8   1.8     1  Iris-virginica\n",
       "87    1   6.1   3.0   4.9   1.8     1  Iris-virginica\n",
       "88    1   6.4   2.8   5.6   2.1     1  Iris-virginica\n",
       "89    1   7.2   3.0   5.8   1.6     1  Iris-virginica\n",
       "\n",
       "[90 rows x 7 columns]"
      ]
     },
     "execution_count": 8,
     "metadata": {},
     "output_type": "execute_result"
    }
   ],
   "source": [
    "df_train"
   ]
  },
  {
   "cell_type": "code",
   "execution_count": 20,
   "id": "aa0798c5",
   "metadata": {},
   "outputs": [
    {
     "name": "stdout",
     "output_type": "stream",
     "text": [
      "(90, 5) (60, 5) (90,) (60,)\n"
     ]
    }
   ],
   "source": [
    "X_train = np.array(df_train.iloc[:, 1:6])\n",
    "y_train = np.array(df_train.iloc[:, 0])\n",
    "X_test = np.array(df_test.iloc[:, 1:6])\n",
    "y_test = np.array(df_test.iloc[:, 0])\n",
    "print(X_train.shape, X_test.shape, y_train.shape, y_test.shape)"
   ]
  },
  {
   "cell_type": "code",
   "execution_count": 21,
   "id": "9326cbf0",
   "metadata": {},
   "outputs": [],
   "source": [
    "a_conv = np.array([-0.193, 0.278, 0.144, 0.385, -0.386])\n",
    "a_irls = np.array([-0.260, 0.353, 0.184, 0.375, -0.346])"
   ]
  },
  {
   "cell_type": "code",
   "execution_count": 28,
   "id": "23ba5cb6",
   "metadata": {},
   "outputs": [],
   "source": [
    "y_pred_train_conv = a_conv @ X_train.T\n",
    "y_pred_test_conv = a_conv @ X_test.T\n",
    "\n",
    "y_pred_train_irls = a_irls @ X_train.T\n",
    "y_pred_test_irls = a_irls @ X_test.T\n"
   ]
  },
  {
   "cell_type": "code",
   "execution_count": 42,
   "id": "3b0fddd5",
   "metadata": {},
   "outputs": [
    {
     "name": "stdout",
     "output_type": "stream",
     "text": [
      "train_conv:  0.9444444444444444\n",
      "test_conv:  0.9333333333333333\n",
      "train_irls:  0.9111111111111111\n",
      "test_irls:  0.95\n"
     ]
    }
   ],
   "source": [
    "print('train_conv: ', np.sum([tf1 == tf2 for tf1, tf2 in zip(y_pred_train_conv > 0.5, y_train==1)])/len(y_train))\n",
    "print('test_conv: ', np.sum([tf1 == tf2 for tf1, tf2 in zip(y_pred_test_conv > 0.5 , y_test==1)])/len(y_test))\n",
    "\n",
    "print('train_irls: ', np.sum([tf1 == tf2 for tf1, tf2 in zip(y_pred_train_irls > 0.5, y_train==1)])/len(y_train))\n",
    "print('test_irls: ', np.sum([tf1 == tf2 for tf1, tf2 in zip(y_pred_test_irls > 0.5 , y_test==1)])/len(y_test))"
   ]
  }
 ],
 "metadata": {
  "kernelspec": {
   "display_name": "Python 3",
   "language": "python",
   "name": "python3"
  },
  "language_info": {
   "codemirror_mode": {
    "name": "ipython",
    "version": 3
   },
   "file_extension": ".py",
   "mimetype": "text/x-python",
   "name": "python",
   "nbconvert_exporter": "python",
   "pygments_lexer": "ipython3",
   "version": "3.7.13"
  }
 },
 "nbformat": 4,
 "nbformat_minor": 5
}

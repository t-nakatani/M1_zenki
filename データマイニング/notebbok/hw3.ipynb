{
 "cells": [
  {
   "cell_type": "code",
   "execution_count": 1,
   "metadata": {},
   "outputs": [],
   "source": [
    "import pandas as pd\n",
    "import numpy as np\n",
    "import numpy.linalg as LA"
   ]
  },
  {
   "cell_type": "code",
   "execution_count": 2,
   "metadata": {
    "scrolled": true
   },
   "outputs": [
    {
     "data": {
      "text/html": [
       "<div>\n",
       "<style scoped>\n",
       "    .dataframe tbody tr th:only-of-type {\n",
       "        vertical-align: middle;\n",
       "    }\n",
       "\n",
       "    .dataframe tbody tr th {\n",
       "        vertical-align: top;\n",
       "    }\n",
       "\n",
       "    .dataframe thead th {\n",
       "        text-align: right;\n",
       "    }\n",
       "</style>\n",
       "<table border=\"1\" class=\"dataframe\">\n",
       "  <thead>\n",
       "    <tr style=\"text-align: right;\">\n",
       "      <th></th>\n",
       "      <th>x1</th>\n",
       "      <th>x2</th>\n",
       "    </tr>\n",
       "    <tr>\n",
       "      <th>i</th>\n",
       "      <th></th>\n",
       "      <th></th>\n",
       "    </tr>\n",
       "  </thead>\n",
       "  <tbody>\n",
       "    <tr>\n",
       "      <th>1</th>\n",
       "      <td>-3</td>\n",
       "      <td>-6</td>\n",
       "    </tr>\n",
       "    <tr>\n",
       "      <th>2</th>\n",
       "      <td>-2</td>\n",
       "      <td>-4</td>\n",
       "    </tr>\n",
       "    <tr>\n",
       "      <th>3</th>\n",
       "      <td>-3</td>\n",
       "      <td>-2</td>\n",
       "    </tr>\n",
       "    <tr>\n",
       "      <th>4</th>\n",
       "      <td>0</td>\n",
       "      <td>-4</td>\n",
       "    </tr>\n",
       "    <tr>\n",
       "      <th>5</th>\n",
       "      <td>-1</td>\n",
       "      <td>-2</td>\n",
       "    </tr>\n",
       "    <tr>\n",
       "      <th>6</th>\n",
       "      <td>1</td>\n",
       "      <td>2</td>\n",
       "    </tr>\n",
       "    <tr>\n",
       "      <th>7</th>\n",
       "      <td>0</td>\n",
       "      <td>4</td>\n",
       "    </tr>\n",
       "    <tr>\n",
       "      <th>8</th>\n",
       "      <td>3</td>\n",
       "      <td>2</td>\n",
       "    </tr>\n",
       "    <tr>\n",
       "      <th>9</th>\n",
       "      <td>2</td>\n",
       "      <td>4</td>\n",
       "    </tr>\n",
       "    <tr>\n",
       "      <th>10</th>\n",
       "      <td>3</td>\n",
       "      <td>6</td>\n",
       "    </tr>\n",
       "  </tbody>\n",
       "</table>\n",
       "</div>"
      ],
      "text/plain": [
       "    x1  x2\n",
       "i         \n",
       "1   -3  -6\n",
       "2   -2  -4\n",
       "3   -3  -2\n",
       "4    0  -4\n",
       "5   -1  -2\n",
       "6    1   2\n",
       "7    0   4\n",
       "8    3   2\n",
       "9    2   4\n",
       "10   3   6"
      ]
     },
     "execution_count": 2,
     "metadata": {},
     "output_type": "execute_result"
    }
   ],
   "source": [
    "df = pd.read_csv('../data/exercise_3.csv', index_col=0)\n",
    "df"
   ]
  },
  {
   "cell_type": "code",
   "execution_count": 3,
   "metadata": {},
   "outputs": [
    {
     "data": {
      "text/plain": [
       "(     x1    x2\n",
       " x1  4.6   6.8\n",
       " x2  6.8  15.2,\n",
       " array([[ 4.6,  6.8],\n",
       "        [ 6.8, 15.2]]))"
      ]
     },
     "execution_count": 3,
     "metadata": {},
     "output_type": "execute_result"
    }
   ],
   "source": [
    "cov = df.T@df/len(df)\n",
    "cov,  np.cov(df, rowvar=0, bias=1)"
   ]
  },
  {
   "cell_type": "code",
   "execution_count": 4,
   "metadata": {},
   "outputs": [
    {
     "name": "stdout",
     "output_type": "stream",
     "text": [
      "eign value: 1.2785152090837606 for vec[-0.89853862  0.43889446]\n",
      "eign value: 18.521484790916237 for vec[-0.43889446 -0.89853862]\n"
     ]
    }
   ],
   "source": [
    "w, v = LA.eig(cov)\n",
    "for w_, v_ in zip(w, v.T):\n",
    "    print('eign value: {} for vec{}'.format(w_, v_))"
   ]
  },
  {
   "cell_type": "code",
   "execution_count": 6,
   "metadata": {
    "scrolled": true
   },
   "outputs": [
    {
     "name": "stdout",
     "output_type": "stream",
     "text": [
      "[0.56030937 0.82828341]\n",
      "[0.4476386  0.89421456]\n",
      "[0.43949943 0.89824287]\n",
      "[0.43893623 0.89851822]\n",
      "[0.43889735 0.89853721]\n",
      "[0.43889466 0.89853852]\n",
      "[0.43889448 0.89853861]\n",
      "[0.43889447 0.89853862]\n",
      "[0.43889446 0.89853862]\n",
      "[0.43889446 0.89853862]\n"
     ]
    }
   ],
   "source": [
    "mainv = np.array([1, 0])\n",
    "for i in range(10):\n",
    "    arr_f = np.array(df@mainv)\n",
    "    arr_ff = np.array([val**2 for val in arr_f])\n",
    "    arr_fx1 = np.array([f*x1 for f, x1 in zip(arr_f, df['x1'])])\n",
    "    arr_fx2 = np.array([f*x2 for f, x2 in zip(arr_f, df['x2'])])\n",
    "    mainv = np.array([arr_fx1.sum()/arr_ff.sum(), arr_fx2.sum()/arr_ff.sum()])\n",
    "    mainv /= np.sqrt(np.sum([val**2 for val in mainv]))\n",
    "    print(mainv)\n",
    "#     break"
   ]
  },
  {
   "cell_type": "code",
   "execution_count": null,
   "metadata": {},
   "outputs": [],
   "source": []
  },
  {
   "cell_type": "code",
   "execution_count": null,
   "metadata": {},
   "outputs": [],
   "source": []
  }
 ],
 "metadata": {
  "kernelspec": {
   "display_name": "Python 3",
   "language": "python",
   "name": "python3"
  }
 },
 "nbformat": 4,
 "nbformat_minor": 4
}

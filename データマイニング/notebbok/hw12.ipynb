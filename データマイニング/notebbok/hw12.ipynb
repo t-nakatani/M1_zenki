{
 "cells": [
  {
   "cell_type": "code",
   "execution_count": 1,
   "id": "fd8877f1",
   "metadata": {},
   "outputs": [
    {
     "data": {
      "text/plain": [
       "0.6499999999999999"
      ]
     },
     "execution_count": 1,
     "metadata": {},
     "output_type": "execute_result"
    }
   ],
   "source": [
    "0.7*0.6*0.5 + 0.3*0.6*0.5 + 0.7*0.4*0.5 + 0.7*0.6*0.5"
   ]
  },
  {
   "cell_type": "code",
   "execution_count": 3,
   "id": "ab7f5aa8",
   "metadata": {},
   "outputs": [
    {
     "data": {
      "text/plain": [
       "0.6559999999999999"
      ]
     },
     "execution_count": 3,
     "metadata": {},
     "output_type": "execute_result"
    }
   ],
   "source": [
    "0.8*0.6*0.4 + 0.2*0.6*0.4 + 0.8*0.4*0.4 + 0.8*0.6*0.6"
   ]
  },
  {
   "cell_type": "code",
   "execution_count": null,
   "id": "1d47a19b",
   "metadata": {},
   "outputs": [],
   "source": []
  }
 ],
 "metadata": {
  "kernelspec": {
   "display_name": "Python 3",
   "language": "python",
   "name": "python3"
  },
  "language_info": {
   "codemirror_mode": {
    "name": "ipython",
    "version": 3
   },
   "file_extension": ".py",
   "mimetype": "text/x-python",
   "name": "python",
   "nbconvert_exporter": "python",
   "pygments_lexer": "ipython3",
   "version": "3.7.13"
  }
 },
 "nbformat": 4,
 "nbformat_minor": 5
}

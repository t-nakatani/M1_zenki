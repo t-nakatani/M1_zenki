{
 "cells": [
  {
   "cell_type": "markdown",
   "id": "d8fcf965",
   "metadata": {},
   "source": [
    "# hw7"
   ]
  },
  {
   "cell_type": "markdown",
   "id": "b38b41bc",
   "metadata": {},
   "source": [
    "1. Use a parse triangle as in slide p.17, and calculate the\n",
    "outside probabilities for the sentence “astronomers saw\n",
    "stars with ears” according to the grammar in slide p.9. Start\n",
    "at the top righthand corner and work towards the diagonal.\n",
    "2. Using the inside and outside probabilities for the sentence\n",
    "“astronomers saw stars with ears” worked out in slide p.17\n",
    "and the above exercise, reestimate the probabilities of the\n",
    "grammar in slide p.9 by working through one iteration of the\n",
    "Inside-Outside algorithm. It is helpful to first link up the\n",
    "inside probabilities shown in slide p.17 with the particular\n",
    "rules and subtrees used to obtain them. "
   ]
  },
  {
   "cell_type": "markdown",
   "id": "2543a967",
   "metadata": {},
   "source": [
    "1. 表の右上の$\\alpha_1(1, m)=1$，それ以外の1行目要素$\\alpha_j(1, m), j$になること以外は理解できませんでした．"
   ]
  },
  {
   "cell_type": "markdown",
   "id": "0f23a367",
   "metadata": {},
   "source": [
    "# 参考文献\n",
    "[A reestimation algorithm for probabilistic dependency grammars](https://www.researchgate.net/publication/232015254_A_reestimation_algorithm_for_probabilistic_dependency_grammars)  \n",
    "[Statistical Parsing](https://web.stanford.edu/class/archive/cs/cs224n/cs224n.1086/handouts/SLoSP-2008-4.pdf)"
   ]
  }
 ],
 "metadata": {
  "kernelspec": {
   "display_name": "Python 3",
   "language": "python",
   "name": "python3"
  },
  "language_info": {
   "codemirror_mode": {
    "name": "ipython",
    "version": 3
   },
   "file_extension": ".py",
   "mimetype": "text/x-python",
   "name": "python",
   "nbconvert_exporter": "python",
   "pygments_lexer": "ipython3",
   "version": "3.7.13"
  }
 },
 "nbformat": 4,
 "nbformat_minor": 5
}

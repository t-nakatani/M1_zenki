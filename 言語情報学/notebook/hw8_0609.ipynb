{
 "cells": [
  {
   "cell_type": "code",
   "execution_count": 5,
   "id": "3ebb72ad",
   "metadata": {
    "scrolled": true
   },
   "outputs": [
    {
     "name": "stdout",
     "output_type": "stream",
     "text": [
      "['apple', 'cat', 'bird', 'car', 'sky', 'dog', 'frog', 'peach', 'computer', 'fish', 'orange', 'sea', 'pencil', 'printer', 'airplane', 'star']\n",
      "[(1, 0, 0, 0, 0, 0, 0, 0, 0, 0, 0, 0, 0, 0, 0, 0), (0, 1, 0, 0, 0, 0, 0, 0, 0, 0, 0, 0, 0, 0, 0, 0), (0, 0, 1, 0, 0, 0, 0, 0, 0, 0, 0, 0, 0, 0, 0, 0), (0, 0, 0, 1, 0, 0, 0, 0, 0, 0, 0, 0, 0, 0, 0, 0), (0, 0, 0, 0, 1, 0, 0, 0, 0, 0, 0, 0, 0, 0, 0, 0), (0, 0, 0, 0, 0, 1, 0, 0, 0, 0, 0, 0, 0, 0, 0, 0), (0, 0, 0, 0, 0, 0, 1, 0, 0, 0, 0, 0, 0, 0, 0, 0), (0, 0, 0, 0, 0, 0, 0, 1, 0, 0, 0, 0, 0, 0, 0, 0), (0, 0, 0, 0, 0, 0, 0, 0, 1, 0, 0, 0, 0, 0, 0, 0), (0, 0, 0, 0, 0, 0, 0, 0, 0, 1, 0, 0, 0, 0, 0, 0), (0, 0, 0, 0, 0, 0, 0, 0, 0, 0, 1, 0, 0, 0, 0, 0), (0, 0, 0, 0, 0, 0, 0, 0, 0, 0, 0, 1, 0, 0, 0, 0), (0, 0, 0, 0, 0, 0, 0, 0, 0, 0, 0, 0, 1, 0, 0, 0), (0, 0, 0, 0, 0, 0, 0, 0, 0, 0, 0, 0, 0, 1, 0, 0), (0, 0, 0, 0, 0, 0, 0, 0, 0, 0, 0, 0, 0, 0, 1, 0), (0, 0, 0, 0, 0, 0, 0, 0, 0, 0, 0, 0, 0, 0, 0, 1)]\n"
     ]
    }
   ],
   "source": [
    "# import sys\n",
    "\n",
    "# args = sys.argv\n",
    "# path = args[1]\n",
    "path = '/Users/nakatani/Desktop/22前期/言語情報学/LI22/20220609/word_sample.txt'\n",
    "with open(path) as f:\n",
    "    l = f.read()\n",
    "l_list = l.split('\\n')[:-1]\n",
    "\n",
    "labels = []\n",
    "vecs = []\n",
    "for line in l_list:\n",
    "    line_ = line.split(' ')\n",
    "    labels.append(line_[0])\n",
    "    vecs.append(tuple([int(i) for i in line_[-1].split(',')]))\n",
    "\n",
    "print(labels)\n",
    "print(vecs)"
   ]
  },
  {
   "cell_type": "code",
   "execution_count": 6,
   "id": "13840a8d",
   "metadata": {},
   "outputs": [
    {
     "data": {
      "text/plain": [
       "'apple    1,0,0,0,0,0,0,0,0,0,0,0,0,0,0,0\\ncat      0,1,0,0,0,0,0,0,0,0,0,0,0,0,0,0\\nbird     0,0,1,0,0,0,0,0,0,0,0,0,0,0,0,0\\ncar      0,0,0,1,0,0,0,0,0,0,0,0,0,0,0,0\\nsky      0,0,0,0,1,0,0,0,0,0,0,0,0,0,0,0\\ndog      0,0,0,0,0,1,0,0,0,0,0,0,0,0,0,0\\nfrog     0,0,0,0,0,0,1,0,0,0,0,0,0,0,0,0\\npeach    0,0,0,0,0,0,0,1,0,0,0,0,0,0,0,0\\ncomputer 0,0,0,0,0,0,0,0,1,0,0,0,0,0,0,0\\nfish     0,0,0,0,0,0,0,0,0,1,0,0,0,0,0,0\\norange   0,0,0,0,0,0,0,0,0,0,1,0,0,0,0,0\\nsea      0,0,0,0,0,0,0,0,0,0,0,1,0,0,0,0\\npencil   0,0,0,0,0,0,0,0,0,0,0,0,1,0,0,0\\nprinter  0,0,0,0,0,0,0,0,0,0,0,0,0,1,0,0\\nairplane 0,0,0,0,0,0,0,0,0,0,0,0,0,0,1,0\\nstar     0,0,0,0,0,0,0,0,0,0,0,0,0,0,0,1\\n'"
      ]
     },
     "execution_count": 6,
     "metadata": {},
     "output_type": "execute_result"
    }
   ],
   "source": [
    "l"
   ]
  },
  {
   "cell_type": "code",
   "execution_count": 7,
   "id": "e6df00fc",
   "metadata": {},
   "outputs": [
    {
     "data": {
      "text/plain": [
       "'apple    1,0,0,0,0,0,0,0,0,0,0,0,0,0,0,0\\ncat      0,1,0,0,0,0,0,0,0,0,0,0,0,0,0,0\\nbird     0,0,1,0,0,0,0,0,0,0,0,0,0,0,0,0\\ncar      0,0,0,1,0,0,0,0,0,0,0,0,0,0,0,0\\nsky      0,0,0,0,1,0,0,0,0,0,0,0,0,0,0,0\\ndog      0,0,0,0,0,1,0,0,0,0,0,0,0,0,0,0\\nfrog     0,0,0,0,0,0,1,0,0,0,0,0,0,0,0,0\\npeach    0,0,0,0,0,0,0,1,0,0,0,0,0,0,0,0\\ncomputer 0,0,0,0,0,0,0,0,1,0,0,0,0,0,0,0\\nfish     0,0,0,0,0,0,0,0,0,1,0,0,0,0,0,0\\norange   0,0,0,0,0,0,0,0,0,0,1,0,0,0,0,0\\nsea      0,0,0,0,0,0,0,0,0,0,0,1,0,0,0,0\\npencil   0,0,0,0,0,0,0,0,0,0,0,0,1,0,0,0\\nprinter  0,0,0,0,0,0,0,0,0,0,0,0,0,1,0,0\\nairplane 0,0,0,0,0,0,0,0,0,0,0,0,0,0,1,0\\nstar     0,0,0,0,0,0,0,0,0,0,0,0,0,0,0,1'"
      ]
     },
     "execution_count": 7,
     "metadata": {},
     "output_type": "execute_result"
    }
   ],
   "source": [
    "l.strip()"
   ]
  },
  {
   "cell_type": "code",
   "execution_count": 8,
   "id": "2877cdb5",
   "metadata": {},
   "outputs": [
    {
     "data": {
      "text/plain": [
       "['0',\n",
       " '0',\n",
       " '0',\n",
       " '0',\n",
       " '0',\n",
       " '0',\n",
       " '0',\n",
       " '0',\n",
       " '0',\n",
       " '0',\n",
       " '0',\n",
       " '0',\n",
       " '0',\n",
       " '0',\n",
       " '0',\n",
       " '1']"
      ]
     },
     "execution_count": 8,
     "metadata": {},
     "output_type": "execute_result"
    }
   ],
   "source": [
    "line_[-1].split(',')"
   ]
  },
  {
   "cell_type": "code",
   "execution_count": 9,
   "id": "3fafe1c9",
   "metadata": {},
   "outputs": [
    {
     "name": "stdout",
     "output_type": "stream",
     "text": [
      "[0 1 2 3 4 5 6 7 8 9]\n",
      "[array([2, 9, 1, 0, 7, 3, 8]), array([4, 6, 5])]\n",
      "<class 'list'>\n",
      "2\n"
     ]
    }
   ],
   "source": [
    "import numpy as np\n",
    "from sklearn.model_selection import train_test_split\n",
    "\n",
    "a = np.arange(10)\n",
    "print(a)\n",
    "# [0 1 2 3 4 5 6 7 8 9]\n",
    "\n",
    "print(train_test_split(a))\n",
    "# [array([3, 9, 6, 1, 5, 0, 7]), array([2, 8, 4])]\n",
    "\n",
    "print(type(train_test_split(a)))\n",
    "# <class 'list'>\n",
    "\n",
    "print(len(train_test_split(a)))\n",
    "# 2"
   ]
  },
  {
   "cell_type": "code",
   "execution_count": 10,
   "id": "e09939f6",
   "metadata": {},
   "outputs": [
    {
     "data": {
      "text/plain": [
       "[[(0, 0, 0, 0, 0, 0, 0, 0, 0, 0, 0, 1, 0, 0, 0, 0),\n",
       "  (0, 0, 0, 0, 0, 0, 0, 0, 0, 0, 1, 0, 0, 0, 0, 0),\n",
       "  (0, 0, 0, 0, 0, 0, 0, 0, 0, 0, 0, 0, 0, 1, 0, 0),\n",
       "  (0, 0, 0, 0, 0, 0, 1, 0, 0, 0, 0, 0, 0, 0, 0, 0),\n",
       "  (0, 0, 0, 0, 0, 0, 0, 0, 0, 0, 0, 0, 1, 0, 0, 0),\n",
       "  (0, 0, 0, 0, 0, 0, 0, 1, 0, 0, 0, 0, 0, 0, 0, 0),\n",
       "  (0, 0, 1, 0, 0, 0, 0, 0, 0, 0, 0, 0, 0, 0, 0, 0),\n",
       "  (0, 0, 0, 0, 0, 0, 0, 0, 0, 1, 0, 0, 0, 0, 0, 0),\n",
       "  (0, 0, 0, 1, 0, 0, 0, 0, 0, 0, 0, 0, 0, 0, 0, 0),\n",
       "  (1, 0, 0, 0, 0, 0, 0, 0, 0, 0, 0, 0, 0, 0, 0, 0),\n",
       "  (0, 1, 0, 0, 0, 0, 0, 0, 0, 0, 0, 0, 0, 0, 0, 0),\n",
       "  (0, 0, 0, 0, 0, 0, 0, 0, 0, 0, 0, 0, 0, 0, 1, 0)],\n",
       " [(0, 0, 0, 0, 0, 0, 0, 0, 1, 0, 0, 0, 0, 0, 0, 0),\n",
       "  (0, 0, 0, 0, 1, 0, 0, 0, 0, 0, 0, 0, 0, 0, 0, 0),\n",
       "  (0, 0, 0, 0, 0, 0, 0, 0, 0, 0, 0, 0, 0, 0, 0, 1),\n",
       "  (0, 0, 0, 0, 0, 1, 0, 0, 0, 0, 0, 0, 0, 0, 0, 0)],\n",
       " ['sea',\n",
       "  'orange',\n",
       "  'printer',\n",
       "  'frog',\n",
       "  'pencil',\n",
       "  'peach',\n",
       "  'bird',\n",
       "  'fish',\n",
       "  'car',\n",
       "  'apple',\n",
       "  'cat',\n",
       "  'airplane'],\n",
       " ['computer', 'sky', 'star', 'dog']]"
      ]
     },
     "execution_count": 10,
     "metadata": {},
     "output_type": "execute_result"
    }
   ],
   "source": [
    "train_test_split(vecs, labels)"
   ]
  },
  {
   "cell_type": "code",
   "execution_count": null,
   "id": "40ab76f0",
   "metadata": {},
   "outputs": [],
   "source": []
  }
 ],
 "metadata": {
  "kernelspec": {
   "display_name": "Python 3",
   "language": "python",
   "name": "python3"
  },
  "language_info": {
   "codemirror_mode": {
    "name": "ipython",
    "version": 3
   },
   "file_extension": ".py",
   "mimetype": "text/x-python",
   "name": "python",
   "nbconvert_exporter": "python",
   "pygments_lexer": "ipython3",
   "version": "3.7.13"
  }
 },
 "nbformat": 4,
 "nbformat_minor": 5
}

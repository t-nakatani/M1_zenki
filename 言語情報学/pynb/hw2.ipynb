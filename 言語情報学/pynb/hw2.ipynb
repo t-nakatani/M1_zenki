{
 "cells": [
  {
   "cell_type": "code",
   "execution_count": 63,
   "id": "e165b978",
   "metadata": {},
   "outputs": [],
   "source": [
    "import  numpy as np\n",
    "import string"
   ]
  },
  {
   "cell_type": "code",
   "execution_count": 54,
   "id": "9753265b",
   "metadata": {},
   "outputs": [
    {
     "data": {
      "text/plain": [
       "'This eBook is for the use of anyone anywhere in the United States and most other parts of the world at no cost and with almost no restrictions whatsoever. You may copy it, give it away or re-use it under the terms of the Project Gutenberg License included with this eBook or online at www.gutenberg.org. If you are not located in the United States, you will have to check the laws of the country where you are located before using this eBook.'"
      ]
     },
     "execution_count": 54,
     "metadata": {},
     "output_type": "execute_result"
    }
   ],
   "source": [
    "paragraph = 'This eBook is for the use of anyone anywhere in the United States and \\\n",
    "most other parts of the world at no cost and with almost no restrictions \\\n",
    "whatsoever. You may copy it, give it away or re-use it under the terms \\\n",
    "of the Project Gutenberg License included with this eBook or online at \\\n",
    "www.gutenberg.org. If you are not located in the United States, you \\\n",
    "will have to check the laws of the country where you are located before \\\n",
    "using this eBook.'\n",
    "\n",
    "paragraph"
   ]
  },
  {
   "cell_type": "code",
   "execution_count": 59,
   "id": "eed3ce81",
   "metadata": {},
   "outputs": [],
   "source": [
    "para_ = paragraph.lower()\n",
    "# para_ = para_.replace(' ', '')"
   ]
  },
  {
   "cell_type": "code",
   "execution_count": 60,
   "id": "1e3cbb9a",
   "metadata": {},
   "outputs": [],
   "source": [
    "dic = {}\n",
    "for c in para_:\n",
    "    if c not in dic.keys():\n",
    "        dic[c] = 1\n",
    "    else:\n",
    "        dic[c] += 1"
   ]
  },
  {
   "cell_type": "code",
   "execution_count": 61,
   "id": "52faadf4",
   "metadata": {},
   "outputs": [
    {
     "data": {
      "text/plain": [
       "{'t': 0.09276018099547512,\n",
       " 'h': 0.042986425339366516,\n",
       " 'i': 0.049773755656108594,\n",
       " 's': 0.04751131221719457,\n",
       " ' ': 0.1832579185520362,\n",
       " 'e': 0.10633484162895927,\n",
       " 'b': 0.013574660633484163,\n",
       " 'o': 0.083710407239819,\n",
       " 'k': 0.00904977375565611,\n",
       " 'f': 0.01583710407239819,\n",
       " 'r': 0.049773755656108594,\n",
       " 'u': 0.03167420814479638,\n",
       " 'a': 0.04524886877828054,\n",
       " 'n': 0.049773755656108594,\n",
       " 'y': 0.02262443438914027,\n",
       " 'w': 0.027149321266968326,\n",
       " 'd': 0.02262443438914027,\n",
       " 'm': 0.00904977375565611,\n",
       " 'p': 0.006787330316742082,\n",
       " 'l': 0.02262443438914027,\n",
       " 'c': 0.024886877828054297,\n",
       " 'v': 0.006787330316742082,\n",
       " '.': 0.011312217194570135,\n",
       " ',': 0.004524886877828055,\n",
       " 'g': 0.01583710407239819,\n",
       " '-': 0.0022624434389140274,\n",
       " 'j': 0.0022624434389140274}"
      ]
     },
     "execution_count": 61,
     "metadata": {},
     "output_type": "execute_result"
    }
   ],
   "source": [
    "sum_ = sum(dic.values())\n",
    "freq = dict([(c, val/sum_) for c, val in dic.items()])\n",
    "freq"
   ]
  },
  {
   "cell_type": "code",
   "execution_count": 69,
   "id": "45154087",
   "metadata": {},
   "outputs": [
    {
     "data": {
      "text/plain": [
       "{'t': 0.09276018099547512,\n",
       " 'h': 0.042986425339366516,\n",
       " 'i': 0.049773755656108594,\n",
       " 's': 0.04751131221719457,\n",
       " 'e': 0.10633484162895927,\n",
       " 'b': 0.013574660633484163,\n",
       " 'o': 0.083710407239819,\n",
       " 'k': 0.00904977375565611,\n",
       " 'f': 0.01583710407239819,\n",
       " 'r': 0.049773755656108594,\n",
       " 'u': 0.03167420814479638,\n",
       " 'a': 0.04524886877828054,\n",
       " 'n': 0.049773755656108594,\n",
       " 'y': 0.02262443438914027,\n",
       " 'w': 0.027149321266968326,\n",
       " 'd': 0.02262443438914027,\n",
       " 'm': 0.00904977375565611,\n",
       " 'p': 0.006787330316742082,\n",
       " 'l': 0.02262443438914027,\n",
       " 'c': 0.024886877828054297,\n",
       " 'v': 0.006787330316742082,\n",
       " 'g': 0.01583710407239819,\n",
       " 'j': 0.0022624434389140274}"
      ]
     },
     "execution_count": 69,
     "metadata": {},
     "output_type": "execute_result"
    }
   ],
   "source": [
    "freq_ = dict([(c, val/sum_) for c, val in dic.items() if c in string.ascii_lowercase])\n",
    "freq_"
   ]
  },
  {
   "cell_type": "code",
   "execution_count": 70,
   "id": "6ff3fd24",
   "metadata": {},
   "outputs": [
    {
     "data": {
      "text/plain": [
       "4.107632108480356"
      ]
     },
     "execution_count": 70,
     "metadata": {},
     "output_type": "execute_result"
    }
   ],
   "source": [
    "Hp = sum([(p*np.log2(p))*-1 for p in freq.values()])\n",
    "Hp"
   ]
  },
  {
   "cell_type": "code",
   "execution_count": 71,
   "id": "5b7d67fb",
   "metadata": {},
   "outputs": [
    {
     "data": {
      "text/plain": [
       "3.530741074367808"
      ]
     },
     "execution_count": 71,
     "metadata": {},
     "output_type": "execute_result"
    }
   ],
   "source": [
    "Hp = sum([(p*np.log2(p))*-1 for p in freq_.values()])\n",
    "Hp"
   ]
  },
  {
   "cell_type": "code",
   "execution_count": null,
   "id": "e8a6a309",
   "metadata": {},
   "outputs": [],
   "source": []
  }
 ],
 "metadata": {
  "kernelspec": {
   "display_name": "Python 3 (ipykernel)",
   "language": "python",
   "name": "python3"
  },
  "language_info": {
   "codemirror_mode": {
    "name": "ipython",
    "version": 3
   },
   "file_extension": ".py",
   "mimetype": "text/x-python",
   "name": "python",
   "nbconvert_exporter": "python",
   "pygments_lexer": "ipython3",
   "version": "3.7.13"
  }
 },
 "nbformat": 4,
 "nbformat_minor": 5
}
